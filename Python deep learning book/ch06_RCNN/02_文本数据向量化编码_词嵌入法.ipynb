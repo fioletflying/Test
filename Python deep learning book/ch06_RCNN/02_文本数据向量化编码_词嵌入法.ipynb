{
 "cells": [
  {
   "cell_type": "markdown",
   "metadata": {},
   "source": [
    "### 词嵌入（word embedding）\n",
    "\n",
    "one-hot编码的特征：\n",
    "- 二进制的、稀疏的（绝大部分元素都是 0）\n",
    "- 维度很高（维度大小等于词表中的单词个数）\n",
    "- 硬编码（信息的关联度几乎为0）\n",
    "\n",
    "词嵌入编码的特征：\n",
    "-  密集 （更多的信息塞入更低的维度）\n",
    "- 维度较低（ 256、512 或 1024）\n",
    "- 从数据中学习得到（信息的关联度高）\n",
    "\n",
    "所以词嵌入的向量编码具有更多的信息。\n",
    "\n",
    "![两种编码的对比](imgs/02.jpg)\n",
    "\n",
    "#### 获得词嵌入编码的两种方法\n",
    "\n",
    "- 在完成主任务（比如文档分类或情感预测）的同时学习词嵌入。，一开始是随机的词向量，然后对这些词向量进行学习，其学习方式与学习神经网络的权重相同；\n",
    "- 预训练词嵌入（pretrained word embedding）,利用预先计算好词嵌入加载到自己的模型中。\n",
    "\n",
    "###  利用 Embedding 层学习词嵌入\n",
    "\n",
    "所谓的词嵌入，就是将单个的词与一个密集向量进行关联。这里的密集向量也就是上面提到的维度数，例如256，512等等向量。这里就是需要我们怎么来定义这个密集向量，说的更加简单点：这个向量空间由什么组成，怎么组成？\n",
    "\n",
    "再解释这个问题之前，我们先来理解一下，词向量之间的关系如何来表示。\n",
    "\n",
    "#### 词向量之间的几何关系\n",
    "\n",
    "每个词与词之间是存在一定的语义逻辑关系的，比如 cat（猫）、dog（狗）、wolf（狼）\n",
    "和 tiger（虎），这四个词语。\n",
    "- 从 cat 到 tiger 的向量与从 dog 到 wolf 的向量相等，这个向量可以被解释为“从宠物到野生动物”向量\n",
    "- 从 dog 到 cat 的向量与从 wolf 到 tiger 的向量也相等，它可以被解释为“从犬科到猫科”向量。\n",
    "\n",
    "词嵌入的作用是将人类的语言映射到几何空间中，词与词之间的语义关系就是通过几何距离来表示。例如：表示不同事物的词被嵌入到相隔很远的点，而相关的词则更加靠近（“花” 与“植物”，“狗” 与 “动物” 靠的近一些），除了距离以外，还有嵌入空间中的特定方向也是有意义。例如上面的哪个例子。\n",
    "\n",
    "真实的词嵌入空间，通常是由一些比较综合的词组成的向量空间，例如：“性别”向量和“复数”向量，但是再人类语言中，无法完美的映射一个理想的词嵌入空间，因为语言和文化不一样。这里如果一定要找一个合理的词嵌入空间的化，要根据具体的任务来获得。比如英语电影评论情感分析模型的完美词嵌入空间，与科技论文的模型的完美词嵌入空间就不一样。  \n",
    "\n",
    "合理的做法是对每个新任务都学习一个新的嵌入空间，反向传播让这种学习变得很简单。通过Keras API可以很方便得到。\n",
    "\n",
    "####  keras 中 Embedding 层的理解\n",
    "\n",
    " Embedding 层理解为一个字典，将整数索引（表示特定单词）映射为密集向量。\n",
    " 它接收整数作为输入，并在内部字典中查找这些整数，然后返回相关联的向量。\n",
    " ![Embedding 层](imgs/03.jpg)\n",
    " \n",
    " Embedding 层的输入是一个二维整数张量，其形状为 (samples,  sequence_length)，每 个 元 素 是 一 个 整 数 序 列。   \n",
    "  对 于 前 一 个 例 子 中 的Embedding 层，你可以输入形状为 (32,  10)（32 个长度为 10 的序列组成的批量）或 (64, 15)（64 个长度为 15 的序列组成的批量）的批量。  \n",
    "  \n",
    "这 个 Embedding 层 返 回 一 个 形 状 为 (samples,  sequence_length,  embedding_dimensionality) 的三维浮点数张量   \n",
    "\n",
    "将一个 Embedding 层实例化时，它的权重（即标记向量的内部字典）最开始是随机的，与其他层一样。在训练过程中，利用反向传播来逐渐调节这些词向量，改变空间结构以便下游模型可以利用。\n"
   ]
  },
  {
   "cell_type": "code",
   "execution_count": 11,
   "metadata": {},
   "outputs": [],
   "source": [
    "# 将一个 Embedding 层实例化\n",
    "from keras.layers import Embedding\n",
    "#  两个参数：\n",
    "# 标记的个数（这里是 1000，即最大单词索引 +1）\n",
    "# 嵌入的维度（这里是 64）\n",
    "embedding_layer = Embedding(1000,64)\n"
   ]
  },
  {
   "cell_type": "markdown",
   "metadata": {},
   "source": [
    "####   IMDB 电影评论情感预测模型\n",
    "\n",
    "- 准备数据：\n",
    "    - 将电影评论限制为前 10 000 个最常见的单词，\n",
    "    - 评论长度限制为20个单词，\n",
    "    - 每个单词学习一个8维度向量\n",
    "- 将输入的整数序列（二维整数张量）转换为嵌入序列（三维浮点数张量）\n",
    "- 训练一个 Dense 层用于分类\n",
    "\n",
    "如下结果，得到的验证精度约为 76%，考虑到仅查看每条评论的前 20 个单词"
   ]
  },
  {
   "cell_type": "code",
   "execution_count": 23,
   "metadata": {},
   "outputs": [
    {
     "name": "stdout",
     "output_type": "stream",
     "text": [
      "做pad之前： (25000,)\n",
      "做pad之后： (25000, 20)\n"
     ]
    }
   ],
   "source": [
    "from keras.datasets import imdb\n",
    "# from keras.layers import preprocessing 好像有问题\n",
    "from keras import preprocessing\n",
    "\n",
    " # 作为特征的单词个数,前 10 000 个最常见的单词\n",
    "max_features = 10000 \n",
    "# 评论长度限制为20个单词,在这么多单词后截断文本\n",
    "maxlen = 20\n",
    "\n",
    "# 将数据加载为整数列表\n",
    "(x_train,y_train),(x_test,y_test) = imdb.load_data(\n",
    "    num_words=max_features) \n",
    "\n",
    "print(\"做pad之前：\",x_train.shape)\n",
    "\n",
    "#将整数列表转换成形状为(samples, maxlen) 的二维整数张量\n",
    "# 使用pad_sequences函数将数据截取成相同长度的函数\n",
    "# 第一个参数：sequences: List of lists, where each element is a sequence.\n",
    "# 第二个参数：maxlen: Int, maximum length of all sequences.\n",
    "# 返回值：x: Numpy array with shape (len(sequences), maxlen)\n",
    "x_train = preprocessing.sequence.pad_sequences(x_train,maxlen=maxlen)\n",
    "x_test = preprocessing.sequence.pad_sequences(x_test,maxlen=maxlen)\n",
    "\n",
    "print(\"做pad之后：\",x_train.shape)"
   ]
  },
  {
   "cell_type": "code",
   "execution_count": 24,
   "metadata": {},
   "outputs": [
    {
     "name": "stdout",
     "output_type": "stream",
     "text": [
      "WARNING:tensorflow:From D:\\Anaconda3\\envs\\tfgpu\\lib\\site-packages\\tensorflow\\python\\framework\\op_def_library.py:263: colocate_with (from tensorflow.python.framework.ops) is deprecated and will be removed in a future version.\n",
      "Instructions for updating:\n",
      "Colocations handled automatically by placer.\n"
     ]
    }
   ],
   "source": [
    "# 在 IMDB 数据上使用 Embedding 层和分类器\n",
    "from keras.models import Sequential\n",
    "from keras.layers import Flatten,Dense,Embedding\n",
    "\n",
    "model = Sequential()\n",
    "# 指定 Embedding 层的最大输入长度，以便后面将嵌入输入展平。\n",
    "# Embedding 层激活的形状为 (samples, maxlen, 8)\n",
    "model.add(Embedding(10000,8,input_length = maxlen))\n",
    "\n",
    "# 将三维的嵌入张量展平成形状为 (samples, maxlen * 8) 的二维张量\n",
    "model.add(Flatten())\n",
    "model.add(Dense(1,activation='sigmoid'))\n"
   ]
  },
  {
   "cell_type": "code",
   "execution_count": 25,
   "metadata": {},
   "outputs": [
    {
     "name": "stdout",
     "output_type": "stream",
     "text": [
      "_________________________________________________________________\n",
      "Layer (type)                 Output Shape              Param #   \n",
      "=================================================================\n",
      "embedding_1 (Embedding)      (None, 20, 8)             80000     \n",
      "_________________________________________________________________\n",
      "flatten_1 (Flatten)          (None, 160)               0         \n",
      "_________________________________________________________________\n",
      "dense_1 (Dense)              (None, 1)                 161       \n",
      "=================================================================\n",
      "Total params: 80,161\n",
      "Trainable params: 80,161\n",
      "Non-trainable params: 0\n",
      "_________________________________________________________________\n"
     ]
    }
   ],
   "source": [
    "# 编译模型\n",
    "model.compile(optimizer='rmsprop',\n",
    "            loss = 'binary_crossentropy',\n",
    "             metrics=['acc'])\n",
    "model.summary()"
   ]
  },
  {
   "cell_type": "code",
   "execution_count": 26,
   "metadata": {},
   "outputs": [
    {
     "name": "stdout",
     "output_type": "stream",
     "text": [
      "WARNING:tensorflow:From D:\\Anaconda3\\envs\\tfgpu\\lib\\site-packages\\tensorflow\\python\\ops\\math_ops.py:3066: to_int32 (from tensorflow.python.ops.math_ops) is deprecated and will be removed in a future version.\n",
      "Instructions for updating:\n",
      "Use tf.cast instead.\n",
      "Train on 20000 samples, validate on 5000 samples\n",
      "Epoch 1/10\n",
      "20000/20000 [==============================] - 5s 241us/step - loss: 0.6759 - acc: 0.6050 - val_loss: 0.6398 - val_acc: 0.6814\n",
      "Epoch 2/10\n",
      "20000/20000 [==============================] - 2s 100us/step - loss: 0.5657 - acc: 0.7427 - val_loss: 0.5467 - val_acc: 0.7206\n",
      "Epoch 3/10\n",
      "20000/20000 [==============================] - 2s 101us/step - loss: 0.4752 - acc: 0.7808 - val_loss: 0.5113 - val_acc: 0.7384\n",
      "Epoch 4/10\n",
      "20000/20000 [==============================] - 2s 110us/step - loss: 0.4263 - acc: 0.8077 - val_loss: 0.5008 - val_acc: 0.7452\n",
      "Epoch 5/10\n",
      "20000/20000 [==============================] - 2s 98us/step - loss: 0.3930 - acc: 0.8258 - val_loss: 0.4981 - val_acc: 0.7538\n",
      "Epoch 6/10\n",
      "20000/20000 [==============================] - 2s 97us/step - loss: 0.3668 - acc: 0.8395 - val_loss: 0.5014 - val_acc: 0.7530\n",
      "Epoch 7/10\n",
      "20000/20000 [==============================] - 2s 99us/step - loss: 0.3435 - acc: 0.8533 - val_loss: 0.5052 - val_acc: 0.7520\n",
      "Epoch 8/10\n",
      "20000/20000 [==============================] - 2s 99us/step - loss: 0.3223 - acc: 0.8657 - val_loss: 0.5132 - val_acc: 0.7486\n",
      "Epoch 9/10\n",
      "20000/20000 [==============================] - 2s 98us/step - loss: 0.3022 - acc: 0.8766 - val_loss: 0.5213 - val_acc: 0.7490\n",
      "Epoch 10/10\n",
      "20000/20000 [==============================] - 2s 99us/step - loss: 0.2839 - acc: 0.8860 - val_loss: 0.5303 - val_acc: 0.7466\n"
     ]
    }
   ],
   "source": [
    "# 开始训练\n",
    "history = model.fit(x_train,y_train,\n",
    "                   epochs=10,\n",
    "                   batch_size=32,\n",
    "                   validation_split=0.2)"
   ]
  },
  {
   "cell_type": "code",
   "execution_count": 28,
   "metadata": {},
   "outputs": [
    {
     "data": {
      "image/png": "[encoded data removed]",
      "text/plain": [
       "<Figure size 432x288 with 1 Axes>"
      ]
     },
     "metadata": {
      "needs_background": "light"
     },
     "output_type": "display_data"
    }
   ],
   "source": [
    "# 绘制训练损失贺验证损失\n",
    "import matplotlib.pyplot as plt\n",
    "\n",
    "history_dict = history.history\n",
    "loss_values = history_dict['loss']\n",
    "val_loss_values = history_dict['val_loss']\n",
    "\n",
    "epochs = range(1,len(loss_values)+1)\n",
    "\n",
    "plt.plot(epochs,loss_values,'bo',label='Training loss')\n",
    "plt.plot(epochs,val_loss_values,'b',label='Validation loss')\n",
    "plt.title(\"Training & validation loss\")\n",
    "plt.xlabel('Epochs')\n",
    "plt.ylabel('Loss')\n",
    "plt.legend()\n",
    "\n",
    "plt.show()"
   ]
  },
  {
   "cell_type": "code",
   "execution_count": 29,
   "metadata": {},
   "outputs": [
    {
     "data": {
      "image/png": "[encoded data removed]",
      "text/plain": [
       "<Figure size 432x288 with 1 Axes>"
      ]
     },
     "metadata": {
      "needs_background": "light"
     },
     "output_type": "display_data"
    }
   ],
   "source": [
    "# 绘制训练精度和验证集的精度\n",
    "import matplotlib.pyplot as plt\n",
    "\n",
    "history_dict = history.history\n",
    "acc_values = history_dict['acc']\n",
    "val_acc_values = history_dict['val_acc']\n",
    "\n",
    "epochs = range(1,len(loss_values)+1)\n",
    "\n",
    "plt.plot(epochs,acc_values,'bo',label='Training acc')\n",
    "plt.plot(epochs,val_acc_values,'b',label='Validation acc')\n",
    "plt.title(\"Training & validation acc\")\n",
    "plt.xlabel('Epochs')\n",
    "plt.ylabel('acc')\n",
    "plt.legend()\n",
    "\n",
    "plt.show()"
   ]
  }
 ],
 "metadata": {
  "kernelspec": {
   "display_name": "Python 3",
   "language": "python",
   "name": "python3"
  },
  "language_info": {
   "codemirror_mode": {
    "name": "ipython",
    "version": 3
   },
   "file_extension": ".py",
   "mimetype": "text/x-python",
   "name": "python",
   "nbconvert_exporter": "python",
   "pygments_lexer": "ipython3",
   "version": "3.6.8"
  }
 },
 "nbformat": 4,
 "nbformat_minor": 2
}
