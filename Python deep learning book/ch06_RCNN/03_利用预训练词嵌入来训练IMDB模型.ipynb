{
 "cells": [
  {
   "cell_type": "markdown",
   "metadata": {},
   "source": [
    "### 预训练的词嵌入简介\n",
    "\n",
    "#### 何时使用\n",
    "\n",
    "训练数据样本少时，无法进行特定任务的词嵌入\n",
    "\n",
    "#### 为什么可以使用预训练词嵌入\n",
    "\n",
    "选择的第三方训练好的词嵌入是\n",
    "- 一个高度结构化的，\n",
    "- 而且具有的属性是有用的，\n",
    "- 该属性具有语言结构的一般性特点。\n",
    "\n",
    "这样的原理跟使用预训练的卷积神经网络一样：\n",
    "- 没有足够的数据来完成特征提取\n",
    "- 需要使用一些通用的特征\n",
    "- 我们这里是语义特征\n",
    "\n",
    "所以可以利用预训练好的词嵌入，辅助我们的来实现文本向量化。\n",
    "\n",
    "#### 词嵌入的经典算法\n",
    "\n",
    "**Bengio 的低维词嵌入空间**  \n",
    "\n",
    "用无监督的方法计算一个密集的低维词嵌入空间\n",
    "\n",
    "[相关的论文](BENGIO Y, SCHWENK H, SENÉCAL J S, et al. Neural probabilistic language models [M Berlin, Heidelberg: Springer, 2003)  \n",
    "**word2vec 算法**  \n",
    "word2vec 算法由 Google 的 Tomas Mikolov 于 2013 年开发，其维度抓住了特定的语义属性，比如性别。  \n",
    "\n",
    "**GloVe**\n",
    "由斯坦福大学的研究人员于 2014 年开发。这种嵌入方法基于对词共现统计矩阵进\n",
    "行因式分解。其开发者已经公开了数百万个英文标记的预计算嵌入，它们都是从维基百科数据\n",
    "和 Common Crawl 数据得到的  \n",
    "\n"
   ]
  },
  {
   "cell_type": "markdown",
   "metadata": {},
   "source": [
    "### 从零搭建一个文本模型\n",
    "\n",
    "将句子嵌入到向量序列中，然后将其展平，最后在上面训练一个 Dense 层。但此处将使用预训练的词嵌入。\n",
    "\n",
    "#### 下载 IMDB 数据的原始文本\n",
    "\n",
    "在如下[网址下载](http://mng.bz/0tIo)  \n",
    "\n",
    "在下载文件图片如下\n",
    "![aclImdb文件夹](imgs/04.jpg)\n",
    "![train文件夹](imgs/05.jpg)\n",
    "![neg文件夹](imgs/06.jpg)\n",
    "\n",
    "这里第一步就是将文件中的内容读出来，并保存在一个列表中，同时将对于的数据的标签也保存。\n"
   ]
  },
  {
   "cell_type": "code",
   "execution_count": 5,
   "metadata": {},
   "outputs": [],
   "source": [
    "import os\n",
    "\n",
    "# 训练数据文件path\n",
    "imdb_dir = 'G:/Data/ch06_glove/aclImdb'\n",
    "train_dir = os.path.join(imdb_dir,'train')\n",
    "\n",
    "labels =[]\n",
    "texts = []\n",
    "\n",
    "# 从neg,pos文件中读取\n",
    "for label_type in ['neg','pos']:\n",
    "    dir_name = os.path.join(train_dir,label_type)\n",
    "    for fname in os.listdir(dir_name):\n",
    "        # 判断文件是不是有效的文本\n",
    "        if fname[-4:] == '.txt':\n",
    "            # 读取文件到列表texts中,这里最好要将字符的编码带上\n",
    "            f = open(os.path.join(dir_name,fname),encoding='utf-8')\n",
    "            texts.append(f.read())\n",
    "            f.close()\n",
    "            # 并制作对应得标签\n",
    "            if label_type == 'neg':\n",
    "                labels.append(0)\n",
    "            else:\n",
    "                labels.append(1)\n",
    "                    "
   ]
  },
  {
   "cell_type": "code",
   "execution_count": 14,
   "metadata": {},
   "outputs": [
    {
     "name": "stdout",
     "output_type": "stream",
     "text": [
      "25000\n",
      "Story of a man who has unnatural feelings for a pig. Starts out with a opening scene that is a terrific example of absurd comedy. A formal orchestra audience is turned into an insane, violent mob by the crazy chantings of it's singers. Unfortunately it stays absurd the WHOLE time with no general narrative eventually making it just too off putting. Even those from the era should be turned off. The cryptic dialogue would make Shakespeare seem easy to a third grader. On a technical level it's better than you might think with some good cinematography by future great Vilmos Zsigmond. Future stars Sally Kirkland and Frederic Forrest can be seen briefly.\n",
      "25000\n",
      "0\n"
     ]
    }
   ],
   "source": [
    "print(len(texts))\n",
    "print(texts[0])\n",
    "print(len(labels))\n",
    "print(labels[0])"
   ]
  },
  {
   "cell_type": "markdown",
   "metadata": {},
   "source": [
    "#### 对数据进行分词\n",
    "\n",
    "将训练数据限定为前 200 个样本。因此，你需要在读取 200 个样本之后学习对电影评论进行分类。\n",
    "里面使用了Keras中的[Tokenizer类](https://keras.io/preprocessing/text/#tokenizer)。\n",
    "Tokenizer类的作用：\n",
    "- 将每个文本转化为一个整数序列（每个整数都是词典中标记的索引）\n",
    "- 或者将其转化为一个向量，\n",
    "\n",
    "`Tokenizer(num_words=max_words)`主要参数\n",
    "- num_words: 需要保留的最大词数，基于词频。只有最常出现的 num_words 词会被保留。\n",
    "- filters: 一个字符串，其中每个元素是一个将从文本中过滤掉的字符。默认值是所有标点符号，加上制表符和换行符，减去 ' 字符。\n",
    "- lower: 布尔值。是否将文本转换为小写。\n",
    "- split: 字符串。按该字符串切割文本。\n",
    "- char_level: 如果为 True，则每个字符都将被视为标记。\n",
    "- oov_token: 如果给出，它将被添加到 word_index 中，并用于在 text_to_sequence 调用期间替换词汇表外的单词。\n",
    "\n",
    "本例中主要使用了参数：num_words=max_words"
   ]
  },
  {
   "cell_type": "code",
   "execution_count": 65,
   "metadata": {},
   "outputs": [
    {
     "name": "stdout",
     "output_type": "stream",
     "text": [
      "Found 87393 unique tokens.\n",
      "shape of data tensor: (25000, 100)\n",
      "Shape of label tensor: (25000,)\n"
     ]
    }
   ],
   "source": [
    "from keras.preprocessing.text import Tokenizer\n",
    "from keras.preprocessing.sequence import pad_sequences\n",
    "import numpy as np\n",
    "\n",
    "# 每条评论只截取前100个单词进行训练和预测\n",
    "maxlen = 100\n",
    "# 训练样本选择10000条评论数据\n",
    "training_samples =10000\n",
    "# 验证集，选择10000条评论数据\n",
    "validation_samples = 10000\n",
    "# 只选择数据中前10000个常见的数据\n",
    "max_words = 10000\n",
    "\n",
    "#最常出现的 num_words 词会被保留\n",
    "tokenizer = Tokenizer(num_words=max_words)\n",
    "# Transforms each text in texts to a sequence of integers.\n",
    "tokenizer.fit_on_texts(texts)\n",
    "# 将文本转换为单词（或标记）的序列\n",
    "sequences = tokenizer.texts_to_sequences(texts)\n",
    "\n",
    "# dictionary mapping words (str) to their rank/index \n",
    "word_index = tokenizer.word_index\n",
    "print('Found %s unique tokens.' % len(word_index))\n",
    "\n",
    "# 将数据截断成相等的长度\n",
    "data = pad_sequences(sequences,maxlen=maxlen)\n",
    "\n",
    "# 将数据转换成一个numpy数组数据\n",
    "labels = np.asarray(labels)\n",
    "print('shape of data tensor:',data.shape)\n",
    "print('Shape of label tensor:',labels.shape)\n",
    "\n",
    "# 打乱数据\n",
    "# 首先获得数据的数组0-25000个数剧\n",
    "indices = np.arange(data.shape[0])\n",
    "# 打乱数据\n",
    "np.random.shuffle(indices)\n",
    "data = data[indices]\n",
    "labels = labels[indices]\n",
    "\n",
    "# 获得测试数据和验证数据\n",
    "x_train = data[:training_samples]\n",
    "y_train = labels[:training_samples]\n",
    "x_val = data[training_samples:training_samples+validation_samples]\n",
    "y_val = labels[training_samples:training_samples+validation_samples]\n",
    "\n"
   ]
  },
  {
   "cell_type": "markdown",
   "metadata": {},
   "source": [
    "#### 下载 GloVe 词嵌入\n",
    "\n",
    "[网址如下]( https://nlp.stanford.edu/projects/glove)\n",
    "这里使用的是： 2014 年英文维基百科的预计算嵌入。\n",
    "![2014 年英文维基百科](imgs/07.jpg)\n",
    "\n",
    "#### 对嵌入进行预处理\n",
    "我们对解压后的文件（一个 .txt 文件）进行解析，构建一个将单词（字符串）映射为其向\n",
    "量表示（数值向量）的索引\n",
    "![glove txt](imgs/08.jpg)\n",
    "\n",
    "创建一个embedding层矩阵，它必须是一个形状为(max_words,  embedding_dim) 的矩阵\n"
   ]
  },
  {
   "cell_type": "code",
   "execution_count": 66,
   "metadata": {},
   "outputs": [
    {
     "name": "stdout",
     "output_type": "stream",
     "text": [
      "Found 400000 word vectors.\n"
     ]
    }
   ],
   "source": [
    "glove_dir = 'G:/Data/ch06_glove'\n",
    "embeddings_index = { }\n",
    "# 构建一个字典：选择的是100维的空间\n",
    "# 一个词对应的维度是100\n",
    "f = open(os.path.join(glove_dir,'glove.6B.100d.txt'),encoding='utf-8')\n",
    "for line in f:\n",
    "    values = line.split()\n",
    "    word = values[0]\n",
    "    coefs = np.asarray(values[1:],dtype='float32')\n",
    "    embeddings_index[word] = coefs\n",
    "f.close()\n",
    "\n",
    "print('Found %s word vectors.' % len(embeddings_index))"
   ]
  },
  {
   "cell_type": "code",
   "execution_count": 67,
   "metadata": {},
   "outputs": [
    {
     "name": "stdout",
     "output_type": "stream",
     "text": [
      "(100,)\n"
     ]
    }
   ],
   "source": [
    "print(embeddings_index['cat'].shape)"
   ]
  },
  {
   "cell_type": "code",
   "execution_count": 68,
   "metadata": {},
   "outputs": [],
   "source": [
    "embedding_dim = 100\n",
    "\n",
    "# 嵌入矩阵创建\n",
    "embedding_matrix = np.zeros((max_words,embedding_dim))\n",
    "for word,i in word_index.items():\n",
    "    if i < max_words:\n",
    "        embedding_vector = embeddings_index.get(word)\n",
    "        if embedding_vector is not None:\n",
    "            embedding_matrix[i] = embedding_vector"
   ]
  },
  {
   "cell_type": "code",
   "execution_count": 69,
   "metadata": {},
   "outputs": [
    {
     "name": "stdout",
     "output_type": "stream",
     "text": [
      "(10000, 100)\n"
     ]
    }
   ],
   "source": [
    "print(embedding_matrix.shape)"
   ]
  },
  {
   "cell_type": "markdown",
   "metadata": {},
   "source": [
    "#### 定义模型\n",
    "我们将使用与上一篇中相同的模型架构"
   ]
  },
  {
   "cell_type": "code",
   "execution_count": 70,
   "metadata": {},
   "outputs": [],
   "source": [
    "# 在 IMDB 数据上使用 Embedding 层和分类器\n",
    "from keras.models import Sequential\n",
    "from keras.layers import Flatten,Dense,Embedding\n",
    "\n",
    "model = Sequential()\n",
    "# 指定 Embedding 层的最大输入长度，以便后面将嵌入输入展平。\n",
    "# Embedding 层激活的形状为 (samples, 100, 100)\n",
    "model.add(Embedding(max_words,embedding_dim,input_length=maxlen))\n",
    "\n",
    "# 将三维的嵌入张量展平成形状为 (samples, maxlen * 8) 的二维张量\n",
    "model.add(Flatten())\n",
    "model.add(Dense(32, activation='relu')) \n",
    "model.add(Dense(1,activation='sigmoid'))"
   ]
  },
  {
   "cell_type": "code",
   "execution_count": 71,
   "metadata": {},
   "outputs": [
    {
     "name": "stdout",
     "output_type": "stream",
     "text": [
      "_________________________________________________________________\n",
      "Layer (type)                 Output Shape              Param #   \n",
      "=================================================================\n",
      "embedding_7 (Embedding)      (None, 100, 100)          1000000   \n",
      "_________________________________________________________________\n",
      "flatten_7 (Flatten)          (None, 10000)             0         \n",
      "_________________________________________________________________\n",
      "dense_10 (Dense)             (None, 32)                320032    \n",
      "_________________________________________________________________\n",
      "dense_11 (Dense)             (None, 1)                 33        \n",
      "=================================================================\n",
      "Total params: 1,320,065\n",
      "Trainable params: 1,320,065\n",
      "Non-trainable params: 0\n",
      "_________________________________________________________________\n"
     ]
    }
   ],
   "source": [
    "model.summary()"
   ]
  },
  {
   "cell_type": "markdown",
   "metadata": {},
   "source": [
    "#### 在模型中加载 GloVe 嵌入\n",
    "Embedding 层只有一个权重矩阵，是一个二维的浮点数矩阵，其中每个元素 i 是与索引 i\n",
    "相关联的词向量。"
   ]
  },
  {
   "cell_type": "code",
   "execution_count": 72,
   "metadata": {},
   "outputs": [],
   "source": [
    "# 将嵌入的数据权重填入到模型中并且设置为不可训练层\n",
    "model.layers[0].set_weights([embedding_matrix])\n",
    "model.layers[0].trainable = False"
   ]
  },
  {
   "cell_type": "markdown",
   "metadata": {},
   "source": [
    "#### 训练模型与评估模型\n",
    "\n",
    "这里建议如果训练的数据多的话，还是使用自己的数据重新训练为好。"
   ]
  },
  {
   "cell_type": "code",
   "execution_count": 73,
   "metadata": {},
   "outputs": [
    {
     "name": "stdout",
     "output_type": "stream",
     "text": [
      "Train on 10000 samples, validate on 10000 samples\n",
      "Epoch 1/10\n",
      "10000/10000 [==============================] - 2s 171us/step - loss: 0.6817 - acc: 0.5861 - val_loss: 0.6472 - val_acc: 0.6177\n",
      "Epoch 2/10\n",
      "10000/10000 [==============================] - 1s 132us/step - loss: 0.5573 - acc: 0.7250 - val_loss: 0.5676 - val_acc: 0.7073\n",
      "Epoch 3/10\n",
      "10000/10000 [==============================] - 1s 134us/step - loss: 0.4719 - acc: 0.7788 - val_loss: 0.6551 - val_acc: 0.6629\n",
      "Epoch 4/10\n",
      "10000/10000 [==============================] - 1s 135us/step - loss: 0.4130 - acc: 0.8132 - val_loss: 0.6169 - val_acc: 0.6935\n",
      "Epoch 5/10\n",
      "10000/10000 [==============================] - 1s 132us/step - loss: 0.3555 - acc: 0.8465 - val_loss: 0.6447 - val_acc: 0.6925\n",
      "Epoch 6/10\n",
      "10000/10000 [==============================] - 1s 132us/step - loss: 0.3083 - acc: 0.8699 - val_loss: 0.7054 - val_acc: 0.6856\n",
      "Epoch 7/10\n",
      "10000/10000 [==============================] - 1s 136us/step - loss: 0.2660 - acc: 0.8899 - val_loss: 0.7200 - val_acc: 0.6929\n",
      "Epoch 8/10\n",
      "10000/10000 [==============================] - 1s 132us/step - loss: 0.2293 - acc: 0.9074 - val_loss: 0.7782 - val_acc: 0.6861\n",
      "Epoch 9/10\n",
      "10000/10000 [==============================] - 1s 137us/step - loss: 0.1881 - acc: 0.9292 - val_loss: 1.0431 - val_acc: 0.6570\n",
      "Epoch 10/10\n",
      "10000/10000 [==============================] - 1s 137us/step - loss: 0.1575 - acc: 0.9437 - val_loss: 1.0032 - val_acc: 0.6775\n"
     ]
    }
   ],
   "source": [
    "model.compile(optimizer='rmsprop',\n",
    "             loss = 'binary_crossentropy',\n",
    "             metrics = ['acc'])\n",
    "history = model.fit(x_train,y_train,\n",
    "                   epochs=10,\n",
    "                   batch_size=32,\n",
    "                   validation_data=(x_val,y_val))\n",
    "#model.save_weights('per_trained_glove100_model.h5')\n",
    "model.save_weights('per_trained_glove100_model10000.h5')"
   ]
  },
  {
   "cell_type": "code",
   "execution_count": 74,
   "metadata": {},
   "outputs": [
    {
     "data": {
      "image/png": "[encoded data removed]",
      "text/plain": [
       "<Figure size 432x288 with 1 Axes>"
      ]
     },
     "metadata": {
      "needs_background": "light"
     },
     "output_type": "display_data"
    }
   ],
   "source": [
    "# 绘制训练损失贺验证损失\n",
    "import matplotlib.pyplot as plt\n",
    "\n",
    "history_dict = history.history\n",
    "loss_values = history_dict['loss']\n",
    "val_loss_values = history_dict['val_loss']\n",
    "\n",
    "epochs = range(1,len(loss_values)+1)\n",
    "\n",
    "plt.plot(epochs,loss_values,'bo',label='Training loss')\n",
    "plt.plot(epochs,val_loss_values,'b',label='Validation loss')\n",
    "plt.title(\"Training & validation loss\")\n",
    "plt.xlabel('Epochs')\n",
    "plt.ylabel('Loss')\n",
    "plt.legend()\n",
    "\n",
    "plt.show()"
   ]
  },
  {
   "cell_type": "code",
   "execution_count": 75,
   "metadata": {},
   "outputs": [
    {
     "data": {
      "image/png": "[encoded data removed]",
      "text/plain": [
       "<Figure size 432x288 with 1 Axes>"
      ]
     },
     "metadata": {
      "needs_background": "light"
     },
     "output_type": "display_data"
    }
   ],
   "source": [
    "# 绘制训练精度和验证集的精度\n",
    "import matplotlib.pyplot as plt\n",
    "\n",
    "history_dict = history.history\n",
    "acc_values = history_dict['acc']\n",
    "val_acc_values = history_dict['val_acc']\n",
    "\n",
    "epochs = range(1,len(loss_values)+1)\n",
    "\n",
    "plt.plot(epochs,acc_values,'bo',label='Training acc')\n",
    "plt.plot(epochs,val_acc_values,'b',label='Validation acc')\n",
    "plt.title(\"Training & validation acc\")\n",
    "plt.xlabel('Epochs')\n",
    "plt.ylabel('acc')\n",
    "plt.legend()\n",
    "\n",
    "plt.show()"
   ]
  },
  {
   "cell_type": "markdown",
   "metadata": {},
   "source": [
    "#### 测试模型\n"
   ]
  },
  {
   "cell_type": "code",
   "execution_count": 63,
   "metadata": {},
   "outputs": [],
   "source": [
    "# 测试模型\n",
    "test_dir = os.path.join(imdb_dir, 'test') \n",
    " \n",
    "labels = [] \n",
    "texts = [] \n",
    " \n",
    "for label_type in ['neg', 'pos']: \n",
    "    dir_name = os.path.join(test_dir, label_type) \n",
    "    for fname in sorted(os.listdir(dir_name)): \n",
    "        if fname[-4:] == '.txt': \n",
    "            f = open(os.path.join(dir_name, fname),encoding='utf-8') \n",
    "            texts.append(f.read()) \n",
    "            f.close() \n",
    "            if label_type == 'neg': \n",
    "                labels.append(0) \n",
    "            else: \n",
    "                labels.append(1) \n",
    " \n",
    "sequences = tokenizer.texts_to_sequences(texts) \n",
    "x_test = pad_sequences(sequences, maxlen=maxlen) \n",
    "y_test = np.asarray(labels)\n"
   ]
  },
  {
   "cell_type": "code",
   "execution_count": 77,
   "metadata": {},
   "outputs": [
    {
     "name": "stdout",
     "output_type": "stream",
     "text": [
      "25000/25000 [==============================] - 1s 40us/step\n"
     ]
    },
    {
     "data": {
      "text/plain": [
       "[1.5393994842910768, 0.53176]"
      ]
     },
     "execution_count": 77,
     "metadata": {},
     "output_type": "execute_result"
    }
   ],
   "source": [
    "#model.load_weights('per_trained_glove100_model.h5')\n",
    "model.load_weights('per_trained_glove100_model10000.h5')\n",
    "model.evaluate(x_test,y_test)"
   ]
  },
  {
   "cell_type": "code",
   "execution_count": 78,
   "metadata": {},
   "outputs": [
    {
     "name": "stdout",
     "output_type": "stream",
     "text": [
      "_________________________________________________________________\n",
      "Layer (type)                 Output Shape              Param #   \n",
      "=================================================================\n",
      "embedding_8 (Embedding)      (None, 100, 100)          1000000   \n",
      "_________________________________________________________________\n",
      "flatten_8 (Flatten)          (None, 10000)             0         \n",
      "_________________________________________________________________\n",
      "dense_12 (Dense)             (None, 32)                320032    \n",
      "_________________________________________________________________\n",
      "dense_13 (Dense)             (None, 1)                 33        \n",
      "=================================================================\n",
      "Total params: 1,320,065\n",
      "Trainable params: 1,320,065\n",
      "Non-trainable params: 0\n",
      "_________________________________________________________________\n",
      "Train on 10000 samples, validate on 10000 samples\n",
      "Epoch 1/10\n",
      "10000/10000 [==============================] - 2s 220us/step - loss: 0.4999 - acc: 0.7406 - val_loss: 0.3719 - val_acc: 0.8321\n",
      "Epoch 2/10\n",
      "10000/10000 [==============================] - 2s 169us/step - loss: 0.1357 - acc: 0.9527 - val_loss: 0.4032 - val_acc: 0.8323\n",
      "Epoch 3/10\n",
      "10000/10000 [==============================] - 2s 183us/step - loss: 0.0104 - acc: 0.9983 - val_loss: 0.5779 - val_acc: 0.8280\n",
      "Epoch 4/10\n",
      "10000/10000 [==============================] - 2s 175us/step - loss: 0.0012 - acc: 0.9998 - val_loss: 0.7419 - val_acc: 0.8254\n",
      "Epoch 5/10\n",
      "10000/10000 [==============================] - 2s 177us/step - loss: 1.0673e-04 - acc: 1.0000 - val_loss: 0.8025 - val_acc: 0.8303\n",
      "Epoch 6/10\n",
      "10000/10000 [==============================] - 2s 172us/step - loss: 3.5483e-07 - acc: 1.0000 - val_loss: 0.9147 - val_acc: 0.8295\n",
      "Epoch 7/10\n",
      "10000/10000 [==============================] - 2s 174us/step - loss: 1.3496e-07 - acc: 1.0000 - val_loss: 0.9425 - val_acc: 0.8315\n",
      "Epoch 8/10\n",
      "10000/10000 [==============================] - 2s 171us/step - loss: 1.1122e-07 - acc: 1.0000 - val_loss: 0.9535 - val_acc: 0.8322\n",
      "Epoch 9/10\n",
      "10000/10000 [==============================] - 2s 172us/step - loss: 1.0999e-07 - acc: 1.0000 - val_loss: 0.9600 - val_acc: 0.8312\n",
      "Epoch 10/10\n",
      "10000/10000 [==============================] - 2s 172us/step - loss: 1.0997e-07 - acc: 1.0000 - val_loss: 0.9645 - val_acc: 0.8316\n"
     ]
    }
   ],
   "source": [
    "#不加载预训练词嵌入、也不冻结嵌入层的情况\n",
    "# 如果训练数据多还是使用自己训练的模型，这样精度更高一些\n",
    "from keras.models import Sequential \n",
    "from keras.layers import Embedding, Flatten, Dense \n",
    " \n",
    "model2 = Sequential() \n",
    "model2.add(Embedding(max_words, embedding_dim, input_length=maxlen)) \n",
    "model2.add(Flatten()) \n",
    "model2.add(Dense(32, activation='relu')) \n",
    "model2.add(Dense(1, activation='sigmoid')) \n",
    "model2.summary() \n",
    " \n",
    "model2.compile(optimizer='rmsprop', \n",
    "              loss='binary_crossentropy', \n",
    "              metrics=['acc']) \n",
    "history2 = model2.fit(x_train, y_train, \n",
    "                    epochs=10, \n",
    "                    batch_size=32, \n",
    "                    validation_data=(x_val, y_val))"
   ]
  }
 ],
 "metadata": {
  "kernelspec": {
   "display_name": "Python 3",
   "language": "python",
   "name": "python3"
  },
  "language_info": {
   "codemirror_mode": {
    "name": "ipython",
    "version": 3
   },
   "file_extension": ".py",
   "mimetype": "text/x-python",
   "name": "python",
   "nbconvert_exporter": "python",
   "pygments_lexer": "ipython3",
   "version": "3.6.8"
  }
 },
 "nbformat": 4,
 "nbformat_minor": 2
}
