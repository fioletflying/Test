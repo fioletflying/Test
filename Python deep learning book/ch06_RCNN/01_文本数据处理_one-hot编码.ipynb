{
 "cells": [
  {
   "cell_type": "markdown",
   "metadata": {},
   "source": [
    "### 文本数据向量化\n",
    "\n",
    "文本数据的格式是一个**序列数据**，常见的有单词和字符序列。如果需要应用到深度学习网络模型中，就需要将将这些序列进行有效编码。\n",
    "这里所谓的编码其实就将这些单词或者字符进行**向量化**。\n",
    "向量化： 就是将文本信息转化为数据张量信息。主要的方法如下：\n",
    "\n",
    " - 将文本分割为单词，并将每个单词转换为一个向量。\n",
    " - 将文本分割为字符，并将每个字符转换为一个向量。\n",
    " - 提取单词或字符的 n-gram，并将每个 n-gram 转换为一个向量。n-gram 是多个连续单词或字符的集合（n-gram 之间可重叠）。\n",
    " \n",
    "上面的整个过程就是将文本信息进行单元分割。这里有一个几个概念：  \n",
    "**标记（token）:** 将文本分解而成的单元（单词、字符或 n-gram)  \n",
    "**分词（tokenization）:** 将文本分解成标记的过程  \n",
    "**向量编码：** 将向量与标记相关联的方法\n",
    "-  one-hot 编码（one-hot encoding）\n",
    "- 标记嵌入［token embedding] 词嵌入（word embedding）\n",
    "\n",
    "总结文本数据向量化的三个过程：\n",
    "- 原始文本（原始数据）\n",
    "- 将文本分解成标记 （标记）\n",
    "- 将标记进行编码 （向量编码）\n",
    "\n",
    "如下图所示：\n",
    "\n",
    "![文本数据向量化](imgs/01.jpg)\n",
    "\n",
    "#### n-gram和词袋介绍\n",
    "\n",
    "**n-gram** 是从一个句子中提取的 N 个（或更少）连续单词（或字符）的集合。\n",
    "\n",
    "例如：“The cat sat on the mat.”\n",
    "二元语法(2-gram)集合:  \n",
    "{\"The\", \"The cat\", \"cat\", \"cat sat\", \"sat\", \n",
    "  \"sat on\", \"on\", \"on the\", \"the\", \"the mat\", \"mat\"}  \n",
    "  \n",
    "三元语法(3-gram)集合:  \n",
    "\n",
    "{\"The\", \"The cat\", \"cat\", \"cat sat\", \"The cat sat\", \n",
    "  \"sat\", \"sat on\", \"on\", \"cat sat on\", \"on the\", \"the\", \n",
    "  \"sat on the\", \"the mat\", \"mat\", \"on the mat\"}\n",
    "\n",
    "以上的集合又称为**词袋**,处理的是标记组成的集合.一般它往往被用于浅层的语言处理模型，而不是深度学习模型.  \n",
    "\n",
    "在使用轻量级的浅层文本处理模型时（比如 logistic 回归和随机森林），n-gram 是一种功能强大、不可或缺的特征工程工具。\n",
    "\n"
   ]
  },
  {
   "cell_type": "markdown",
   "metadata": {},
   "source": [
    "###  one-hot 编码\n",
    "\n",
    "one-hot 编码是将标记转换为向量的最常用、最基本的方法. 在以前的例子中有过相关的应用.  \n",
    "它将每个单词与一个唯一的整数索引相关联，然后将这个整数索引 i 转换为长度为 N 的二进制向量（N 是词表大小），这个向量只有第 i 个元素是 1，其余元素都为 0。\n",
    "\n",
    "下面是具体的向量化编码过程."
   ]
  },
  {
   "cell_type": "code",
   "execution_count": 46,
   "metadata": {},
   "outputs": [],
   "source": [
    "# 单词向量化\n",
    "import numpy as np\n",
    "\n",
    "# 初始数据; 每个“样本”一个条目\n",
    "samples = ['The cat sat on the mat.', 'The dog ate my homework.']\n",
    "\n",
    "# 首先，构建数据中所有token的索引\n",
    "token_index = {}\n",
    "\n",
    "for sample in samples:\n",
    "    # 通过`split`方法对样本进行标记。实际使用时还会从样本中删除标点符号和特殊字符\n",
    "    for word in sample.split():\n",
    "        # 可以参考如下去掉非字符的\n",
    "        '''\n",
    "        word = word.lower()\n",
    "        # 去掉非字母字符\n",
    "        if not word.isalpha():\n",
    "            new_word = filter(str.isalpha, word)\n",
    "            word = ''.join(list(new_word))\n",
    "        '''\n",
    "        # 添加索引\n",
    "        if word not in token_index:\n",
    "            token_index[word] = len(token_index) + 1\n",
    "  \n",
    "#接下来，对样本进行矢量化\n",
    "# 对样本进行分词。只考虑每个样本前 max_length 个单词\n",
    "max_length = 5\n",
    "\n",
    "# 用于存储结果\n",
    "results = np.zeros((len(samples),max_length,max(token_index.values())+1))\n",
    "for i,smaple in enumerate(samples):\n",
    "    for j,word in list(enumerate(sample.split()))[:max_length]:\n",
    "        index = token_index.get(word)\n",
    "        results[i,j,index] = 1\n",
    "    "
   ]
  },
  {
   "cell_type": "code",
   "execution_count": 47,
   "metadata": {},
   "outputs": [
    {
     "name": "stdout",
     "output_type": "stream",
     "text": [
      "{'The': 1, 'cat': 2, 'sat': 3, 'on': 4, 'the': 5, 'mat.': 6, 'dog': 7, 'ate': 8, 'my': 9, 'homework.': 10}\n",
      "[[[0. 1. 0. 0. 0. 0. 0. 0. 0. 0. 0.]\n",
      "  [0. 0. 0. 0. 0. 0. 0. 1. 0. 0. 0.]\n",
      "  [0. 0. 0. 0. 0. 0. 0. 0. 1. 0. 0.]\n",
      "  [0. 0. 0. 0. 0. 0. 0. 0. 0. 1. 0.]\n",
      "  [0. 0. 0. 0. 0. 0. 0. 0. 0. 0. 1.]]\n",
      "\n",
      " [[0. 1. 0. 0. 0. 0. 0. 0. 0. 0. 0.]\n",
      "  [0. 0. 0. 0. 0. 0. 0. 1. 0. 0. 0.]\n",
      "  [0. 0. 0. 0. 0. 0. 0. 0. 1. 0. 0.]\n",
      "  [0. 0. 0. 0. 0. 0. 0. 0. 0. 1. 0.]\n",
      "  [0. 0. 0. 0. 0. 0. 0. 0. 0. 0. 1.]]]\n"
     ]
    }
   ],
   "source": [
    "print(token_index)\n",
    "print(results)"
   ]
  },
  {
   "cell_type": "code",
   "execution_count": 52,
   "metadata": {},
   "outputs": [],
   "source": [
    "# 字符向量化\n",
    "import string\n",
    "\n",
    "samples = ['The cat sat on the mat.', 'The dog ate my homeword.']\n",
    "characters = string.printable\n",
    "token_index = dict(zip(characters,range(1,len(characters)+1)))\n",
    "\n",
    "max_length = 50\n",
    "results = np.zeros((len(samples),max_length,max(token_index.values())+1))\n",
    "for i,sample in enumerate(samples):\n",
    "    for j,character in enumerate(sample[:max_length]):\n",
    "        index = token_index.get(character)\n",
    "        results[i,j,index] = 1\n"
   ]
  },
  {
   "cell_type": "code",
   "execution_count": 53,
   "metadata": {},
   "outputs": [
    {
     "name": "stdout",
     "output_type": "stream",
     "text": [
      "{'0': 1, '1': 2, '2': 3, '3': 4, '4': 5, '5': 6, '6': 7, '7': 8, '8': 9, '9': 10, 'a': 11, 'b': 12, 'c': 13, 'd': 14, 'e': 15, 'f': 16, 'g': 17, 'h': 18, 'i': 19, 'j': 20, 'k': 21, 'l': 22, 'm': 23, 'n': 24, 'o': 25, 'p': 26, 'q': 27, 'r': 28, 's': 29, 't': 30, 'u': 31, 'v': 32, 'w': 33, 'x': 34, 'y': 35, 'z': 36, 'A': 37, 'B': 38, 'C': 39, 'D': 40, 'E': 41, 'F': 42, 'G': 43, 'H': 44, 'I': 45, 'J': 46, 'K': 47, 'L': 48, 'M': 49, 'N': 50, 'O': 51, 'P': 52, 'Q': 53, 'R': 54, 'S': 55, 'T': 56, 'U': 57, 'V': 58, 'W': 59, 'X': 60, 'Y': 61, 'Z': 62, '!': 63, '\"': 64, '#': 65, '$': 66, '%': 67, '&': 68, \"'\": 69, '(': 70, ')': 71, '*': 72, '+': 73, ',': 74, '-': 75, '.': 76, '/': 77, ':': 78, ';': 79, '<': 80, '=': 81, '>': 82, '?': 83, '@': 84, '[': 85, '\\\\': 86, ']': 87, '^': 88, '_': 89, '`': 90, '{': 91, '|': 92, '}': 93, '~': 94, ' ': 95, '\\t': 96, '\\n': 97, '\\r': 98, '\\x0b': 99, '\\x0c': 100}\n",
      "[[[0. 0. 0. ... 0. 0. 0.]\n",
      "  [0. 0. 0. ... 0. 0. 0.]\n",
      "  [0. 0. 0. ... 0. 0. 0.]\n",
      "  ...\n",
      "  [0. 0. 0. ... 0. 0. 0.]\n",
      "  [0. 0. 0. ... 0. 0. 0.]\n",
      "  [0. 0. 0. ... 0. 0. 0.]]\n",
      "\n",
      " [[0. 0. 0. ... 0. 0. 0.]\n",
      "  [0. 0. 0. ... 0. 0. 0.]\n",
      "  [0. 0. 0. ... 0. 0. 0.]\n",
      "  ...\n",
      "  [0. 0. 0. ... 0. 0. 0.]\n",
      "  [0. 0. 0. ... 0. 0. 0.]\n",
      "  [0. 0. 0. ... 0. 0. 0.]]]\n"
     ]
    }
   ],
   "source": [
    "print(token_index)\n",
    "print(results)"
   ]
  },
  {
   "cell_type": "code",
   "execution_count": 64,
   "metadata": {},
   "outputs": [
    {
     "name": "stdout",
     "output_type": "stream",
     "text": [
      "Found 9 unique tokens.\n",
      "[[0. 1. 1. 1. 1. 1. 0. 0. 0. 0. 0. 0. 0. 0. 0. 0. 0. 0. 0. 0.]\n",
      " [0. 1. 0. 0. 0. 0. 1. 1. 1. 1. 0. 0. 0. 0. 0. 0. 0. 0. 0. 0.]]\n"
     ]
    }
   ],
   "source": [
    "# keras实现的one-hot 编码\n",
    "from keras.preprocessing.text import Tokenizer\n",
    "\n",
    "samples = ['The cat sat on the mat.', 'The dog ate my homeword.']\n",
    "\n",
    "# 创建一个tokenizer，配置为只考虑前1000个最常用的单词\n",
    "tokenizer = Tokenizer(num_words=20)\n",
    "\n",
    "# 构建单词索引\n",
    "tokenizer.fit_on_texts(samples)\n",
    "\n",
    "# 将字符串转换为整数索引组成的列表\n",
    "one_hot_results = tokenizer.texts_to_matrix(samples,mode='binary')\n",
    "\n",
    "# 找回单词索引\n",
    "word_index = tokenizer.word_index\n",
    "print('Found %s unique tokens.' % len(word_index))\n",
    "print(one_hot_results)\n"
   ]
  },
  {
   "cell_type": "markdown",
   "metadata": {},
   "source": [
    "####  one-hot 散列技巧\n",
    "\n",
    "如果词表中唯一标记的数量太大而无法直接处理，就可以使用这种技巧,\n",
    "\n",
    "这种方法没有为每个单词显式分配一个索引并将这些索引保存在一个字典中，而是将单词散列编码为固定长度的向量，通常用一个非常简单的散列函数来实现。\n",
    "\n",
    "**优点** 它避免了维护一个显式的单词索引，从而节省内存并允许数据的在线编码\n",
    "**缺点** 就是可能会出现散列冲突（hash collision），即两个不同的单词可能具有相同的散列值"
   ]
  },
  {
   "cell_type": "code",
   "execution_count": 59,
   "metadata": {},
   "outputs": [],
   "source": [
    "samples = ['The cat sat on the mat.', 'The dog ate my homeword.']\n",
    "\n",
    "dimensionality = 10\n",
    "max_length = 10\n",
    "\n",
    "results = np.zeros((len(samples),max_length,dimensionality))\n",
    "for i,sample in enumerate(samples):\n",
    "    for j,word in list(enumerate(sample.split()))[:max_length]:\n",
    "        index = abs(hash(word)) % dimensionality\n",
    "        results[i,j,index] = 1"
   ]
  },
  {
   "cell_type": "code",
   "execution_count": 60,
   "metadata": {},
   "outputs": [
    {
     "name": "stdout",
     "output_type": "stream",
     "text": [
      "[[[0. 0. 0. 0. 0. 0. 1. 0. 0. 0.]\n",
      "  [0. 1. 0. 0. 0. 0. 0. 0. 0. 0.]\n",
      "  [0. 0. 0. 0. 0. 0. 0. 0. 0. 1.]\n",
      "  [0. 0. 0. 0. 0. 0. 1. 0. 0. 0.]\n",
      "  [0. 0. 1. 0. 0. 0. 0. 0. 0. 0.]\n",
      "  [0. 0. 0. 0. 0. 0. 0. 0. 1. 0.]\n",
      "  [0. 0. 0. 0. 0. 0. 0. 0. 0. 0.]\n",
      "  [0. 0. 0. 0. 0. 0. 0. 0. 0. 0.]\n",
      "  [0. 0. 0. 0. 0. 0. 0. 0. 0. 0.]\n",
      "  [0. 0. 0. 0. 0. 0. 0. 0. 0. 0.]]\n",
      "\n",
      " [[0. 0. 0. 0. 0. 0. 1. 0. 0. 0.]\n",
      "  [0. 0. 0. 1. 0. 0. 0. 0. 0. 0.]\n",
      "  [0. 0. 0. 0. 0. 0. 1. 0. 0. 0.]\n",
      "  [0. 0. 0. 0. 0. 0. 0. 0. 0. 1.]\n",
      "  [0. 0. 0. 0. 0. 0. 0. 0. 1. 0.]\n",
      "  [0. 0. 0. 0. 0. 0. 0. 0. 0. 0.]\n",
      "  [0. 0. 0. 0. 0. 0. 0. 0. 0. 0.]\n",
      "  [0. 0. 0. 0. 0. 0. 0. 0. 0. 0.]\n",
      "  [0. 0. 0. 0. 0. 0. 0. 0. 0. 0.]\n",
      "  [0. 0. 0. 0. 0. 0. 0. 0. 0. 0.]]]\n"
     ]
    }
   ],
   "source": [
    "print(results)"
   ]
  }
 ],
 "metadata": {
  "file_extension": ".py",
  "kernelspec": {
   "display_name": "Python 3",
   "language": "python",
   "name": "python3"
  },
  "language_info": {
   "codemirror_mode": {
    "name": "ipython",
    "version": 3
   },
   "file_extension": ".py",
   "mimetype": "text/x-python",
   "name": "python",
   "nbconvert_exporter": "python",
   "pygments_lexer": "ipython3",
   "version": "3.6.8"
  },
  "mimetype": "text/x-python",
  "name": "python",
  "npconvert_exporter": "python",
  "pygments_lexer": "ipython3",
  "version": 3
 },
 "nbformat": 4,
 "nbformat_minor": 2
}
