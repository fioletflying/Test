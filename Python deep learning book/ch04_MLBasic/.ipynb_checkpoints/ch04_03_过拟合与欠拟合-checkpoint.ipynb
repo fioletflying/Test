{
 "cells": [
  {
   "cell_type": "markdown",
   "metadata": {},
   "source": [
    "## 过拟合与欠拟合\n",
    "\n",
    "过拟合的现象：模型在留出验证数据上的性能总是在几轮后达到最高点，然后开始下降。\n",
    "欠拟合的现象：训练数据上的损失越小，测试数据上的损失也越小\n",
    "\n",
    "#### **优化与泛化的概念**  \n",
    "\n",
    "**优化:** 指调节模型以在训练数据上得到最佳性能  \n",
    "**泛化：** 是指训练好的模型在前所未见的数据上的性能好坏，机器学习的目的当然是得到良好的泛化。\n",
    "\n",
    "#### 如何解决过拟合的问题\n",
    "\n",
    "- 最优解决方法是获取更多的训练数据\n",
    "- 次优解决方法是正则化：调节模型允许存储的信息量（对模型允许存储的信息加以约束）\n",
    "\n",
    "主要的正则化的方法：\n",
    "\n",
    "- 减小网络大小\n",
    "- 添加权重正则化\n",
    "- 添加 dropout 正则化\n",
    "\n",
    "\n",
    "### 减小网络大小\n",
    "\n",
    "防止过拟合的最简单的方法就是减小模型大小，即减少模型中可学习参数的个数（这由层数和每层的单元个数决定）。其实这个方法的原则是：减少参数的容量。\n",
    "为什么这样可以：\n",
    "例如，拥有 500 000 个二进制参数的模型，能够轻松学会 MNIST 训练集中所有数字对应的类别——我们只需让 50 000 个数字每个都对应 10 个二进制参数。但这种模型对于新数字样本的分类毫无用处。对于新的数据就无法获得很好泛化。\n",
    "\n",
    "这里需要理解地方：*深度学习模型通常都很擅长拟合训练数据，但真正的挑战在于泛化，而不是拟合。\n",
    "\n",
    "关于网络的大小的确定，这里没有标准的公式：确定最佳层数或每层的最佳大小。一般都是通过试验：从小到大的测试参数。最终再确定一个大小。\n",
    "\n",
    "如下案例：可以很直观的看出：更小的网络开始过拟合的时间要晚于更大的网络，更大的网络过拟合也更严重。其验证损失的波动也更大。\n"
   ]
  },
  {
   "cell_type": "code",
   "execution_count": 4,
   "metadata": {},
   "outputs": [],
   "source": [
    "from keras.datasets import imdb\n",
    "\n",
    "(train_data,train_labels),(test_data,test_labels) = imdb.load_data(num_words=10000)\n",
    "# 将整数序列编码为二进制矩阵\n",
    "import numpy as np\n",
    "\n",
    "def vectorize_sequences(sequences,dimension=10000):\n",
    "    results = np.zeros((len(sequences),dimension))\n",
    "    for i,sequence in enumerate(sequences):\n",
    "        results[i,sequence] = 1.\n",
    "    return results\n",
    "\n",
    "# 将数据进行变换成矩阵\n",
    "x_train = vectorize_sequences(train_data)\n",
    "x_test = vectorize_sequences(test_data)\n",
    "\n",
    "# 将标签向量化\n",
    "y_train = np.asarray(train_labels).astype('float32')\n",
    "y_test = np.asarray(test_labels).astype('float32')"
   ]
  },
  {
   "cell_type": "code",
   "execution_count": 30,
   "metadata": {},
   "outputs": [],
   "source": [
    "from keras import models\n",
    "from keras import layers\n",
    "\n",
    "model = models.Sequential()\n",
    "model.add(layers.Dense(16, activation='relu',input_shape=(10000,)))\n",
    "model.add(layers.Dense(16, activation='relu'))\n",
    "model.add(layers.Dense(1,activation='sigmoid'))\n",
    "\n",
    "# 标准的优化器\n",
    "model.compile(optimizer='rmsprop',\n",
    "              loss = 'binary_crossentropy',\n",
    "              metrics = ['accuracy']) # 训练过程中监控精度"
   ]
  },
  {
   "cell_type": "code",
   "execution_count": 31,
   "metadata": {},
   "outputs": [],
   "source": [
    "# 验证集的製作\n",
    "x_val = x_train[:10000]\n",
    "partial_x_train = x_train[10000:]\n",
    "\n",
    "y_val = y_train[:10000]\n",
    "partial_y_train = y_train[10000:]"
   ]
  },
  {
   "cell_type": "code",
   "execution_count": 32,
   "metadata": {},
   "outputs": [
    {
     "name": "stdout",
     "output_type": "stream",
     "text": [
      "Train on 15000 samples, validate on 10000 samples\n",
      "Epoch 1/20\n",
      "15000/15000 [==============================] - 2s 159us/step - loss: 0.5336 - acc: 0.7724 - val_loss: 0.4036 - val_acc: 0.8606\n",
      "Epoch 2/20\n",
      "15000/15000 [==============================] - 2s 134us/step - loss: 0.3181 - acc: 0.8996 - val_loss: 0.3130 - val_acc: 0.8826\n",
      "Epoch 3/20\n",
      "15000/15000 [==============================] - 2s 134us/step - loss: 0.2305 - acc: 0.9250 - val_loss: 0.2832 - val_acc: 0.8885\n",
      "Epoch 4/20\n",
      "15000/15000 [==============================] - 2s 133us/step - loss: 0.1813 - acc: 0.9423 - val_loss: 0.3131 - val_acc: 0.8736\n",
      "Epoch 5/20\n",
      "15000/15000 [==============================] - 2s 133us/step - loss: 0.1500 - acc: 0.9520 - val_loss: 0.2786 - val_acc: 0.8884\n",
      "Epoch 6/20\n",
      "15000/15000 [==============================] - 2s 133us/step - loss: 0.1221 - acc: 0.9631 - val_loss: 0.3101 - val_acc: 0.8788\n",
      "Epoch 7/20\n",
      "15000/15000 [==============================] - 2s 134us/step - loss: 0.1014 - acc: 0.9701 - val_loss: 0.3046 - val_acc: 0.8858\n",
      "Epoch 8/20\n",
      "15000/15000 [==============================] - 2s 135us/step - loss: 0.0850 - acc: 0.9758 - val_loss: 0.3248 - val_acc: 0.8797\n",
      "Epoch 9/20\n",
      "15000/15000 [==============================] - 2s 135us/step - loss: 0.0722 - acc: 0.9803 - val_loss: 0.3528 - val_acc: 0.8803\n",
      "Epoch 10/20\n",
      "15000/15000 [==============================] - 2s 136us/step - loss: 0.0562 - acc: 0.9863 - val_loss: 0.3714 - val_acc: 0.8751\n",
      "Epoch 11/20\n",
      "15000/15000 [==============================] - 2s 134us/step - loss: 0.0469 - acc: 0.9895 - val_loss: 0.4282 - val_acc: 0.8729\n",
      "Epoch 12/20\n",
      "15000/15000 [==============================] - 2s 135us/step - loss: 0.0383 - acc: 0.9922 - val_loss: 0.4841 - val_acc: 0.8674\n",
      "Epoch 13/20\n",
      "15000/15000 [==============================] - 2s 134us/step - loss: 0.0315 - acc: 0.9940 - val_loss: 0.4630 - val_acc: 0.8748\n",
      "Epoch 14/20\n",
      "15000/15000 [==============================] - 2s 135us/step - loss: 0.0241 - acc: 0.9963 - val_loss: 0.5135 - val_acc: 0.8625\n",
      "Epoch 15/20\n",
      "15000/15000 [==============================] - 2s 134us/step - loss: 0.0209 - acc: 0.9964 - val_loss: 0.5171 - val_acc: 0.8727\n",
      "Epoch 16/20\n",
      "15000/15000 [==============================] - 2s 134us/step - loss: 0.0141 - acc: 0.9986 - val_loss: 0.5508 - val_acc: 0.8711\n",
      "Epoch 17/20\n",
      "15000/15000 [==============================] - 2s 134us/step - loss: 0.0134 - acc: 0.9981 - val_loss: 0.5928 - val_acc: 0.8672\n",
      "Epoch 18/20\n",
      "15000/15000 [==============================] - 2s 135us/step - loss: 0.0093 - acc: 0.9987 - val_loss: 0.6820 - val_acc: 0.8649\n",
      "Epoch 19/20\n",
      "15000/15000 [==============================] - 2s 148us/step - loss: 0.0052 - acc: 0.9998 - val_loss: 0.6598 - val_acc: 0.8659\n",
      "Epoch 20/20\n",
      "15000/15000 [==============================] - 2s 137us/step - loss: 0.0066 - acc: 0.9993 - val_loss: 0.6909 - val_acc: 0.8666\n"
     ]
    }
   ],
   "source": [
    "\n",
    "history = model.fit(partial_x_train,\n",
    "                   partial_y_train,\n",
    "                   epochs=20,\n",
    "                   batch_size=512,\n",
    "                   validation_data=(x_val,y_val))"
   ]
  },
  {
   "cell_type": "code",
   "execution_count": 34,
   "metadata": {},
   "outputs": [],
   "source": [
    "history_dict = history.history\n",
    "\n"
   ]
  },
  {
   "cell_type": "code",
   "execution_count": 36,
   "metadata": {},
   "outputs": [],
   "source": [
    "from keras import models\n",
    "from keras import layers\n",
    "\n",
    "model2 = models.Sequential()\n",
    "model2.add(layers.Dense(4, activation='relu',input_shape=(10000,)))\n",
    "model2.add(layers.Dense(4, activation='relu'))\n",
    "model2.add(layers.Dense(1,activation='sigmoid'))\n",
    "\n",
    "# 标准的优化器\n",
    "model2.compile(optimizer='rmsprop',\n",
    "              loss = 'binary_crossentropy',\n",
    "              metrics = ['accuracy']) # 训练过程中监控精度"
   ]
  },
  {
   "cell_type": "code",
   "execution_count": 37,
   "metadata": {},
   "outputs": [
    {
     "name": "stdout",
     "output_type": "stream",
     "text": [
      "Train on 15000 samples, validate on 10000 samples\n",
      "Epoch 1/20\n",
      "15000/15000 [==============================] - 2s 159us/step - loss: 0.5767 - acc: 0.7502 - val_loss: 0.4703 - val_acc: 0.8505\n",
      "Epoch 2/20\n",
      "15000/15000 [==============================] - 2s 133us/step - loss: 0.3927 - acc: 0.8911 - val_loss: 0.3857 - val_acc: 0.8668\n",
      "Epoch 3/20\n",
      "15000/15000 [==============================] - 2s 134us/step - loss: 0.2995 - acc: 0.9193 - val_loss: 0.3310 - val_acc: 0.8826\n",
      "Epoch 4/20\n",
      "15000/15000 [==============================] - 2s 132us/step - loss: 0.2426 - acc: 0.9337 - val_loss: 0.2982 - val_acc: 0.8878\n",
      "Epoch 5/20\n",
      "15000/15000 [==============================] - 2s 133us/step - loss: 0.2038 - acc: 0.9416 - val_loss: 0.2908 - val_acc: 0.8862\n",
      "Epoch 6/20\n",
      "15000/15000 [==============================] - 2s 133us/step - loss: 0.1745 - acc: 0.9509 - val_loss: 0.2831 - val_acc: 0.8892\n",
      "Epoch 7/20\n",
      "15000/15000 [==============================] - 2s 134us/step - loss: 0.1506 - acc: 0.9585 - val_loss: 0.2798 - val_acc: 0.8898\n",
      "Epoch 8/20\n",
      "15000/15000 [==============================] - 2s 133us/step - loss: 0.1312 - acc: 0.9649 - val_loss: 0.2900 - val_acc: 0.8826\n",
      "Epoch 9/20\n",
      "15000/15000 [==============================] - 2s 133us/step - loss: 0.1155 - acc: 0.9691 - val_loss: 0.2921 - val_acc: 0.8842\n",
      "Epoch 10/20\n",
      "15000/15000 [==============================] - 2s 134us/step - loss: 0.1018 - acc: 0.9747 - val_loss: 0.3015 - val_acc: 0.8825\n",
      "Epoch 11/20\n",
      "15000/15000 [==============================] - 2s 133us/step - loss: 0.0899 - acc: 0.9785 - val_loss: 0.3170 - val_acc: 0.8782\n",
      "Epoch 12/20\n",
      "15000/15000 [==============================] - 2s 134us/step - loss: 0.0793 - acc: 0.9821 - val_loss: 0.3712 - val_acc: 0.8699\n",
      "Epoch 13/20\n",
      "15000/15000 [==============================] - 2s 135us/step - loss: 0.0707 - acc: 0.9842 - val_loss: 0.3326 - val_acc: 0.8814\n",
      "Epoch 14/20\n",
      "15000/15000 [==============================] - 2s 134us/step - loss: 0.0629 - acc: 0.9863 - val_loss: 0.3477 - val_acc: 0.8814\n",
      "Epoch 15/20\n",
      "15000/15000 [==============================] - 2s 136us/step - loss: 0.0545 - acc: 0.9886 - val_loss: 0.3716 - val_acc: 0.8799\n",
      "Epoch 16/20\n",
      "15000/15000 [==============================] - 2s 133us/step - loss: 0.0443 - acc: 0.9912 - val_loss: 0.4059 - val_acc: 0.8732\n",
      "Epoch 17/20\n",
      "15000/15000 [==============================] - 2s 133us/step - loss: 0.0376 - acc: 0.9931 - val_loss: 0.4224 - val_acc: 0.8743\n",
      "Epoch 18/20\n",
      "15000/15000 [==============================] - 2s 133us/step - loss: 0.0325 - acc: 0.9944 - val_loss: 0.4404 - val_acc: 0.8720\n",
      "Epoch 19/20\n",
      "15000/15000 [==============================] - 2s 134us/step - loss: 0.0277 - acc: 0.9961 - val_loss: 0.4602 - val_acc: 0.8717\n",
      "Epoch 20/20\n",
      "15000/15000 [==============================] - 2s 134us/step - loss: 0.0237 - acc: 0.9964 - val_loss: 0.4806 - val_acc: 0.8710\n"
     ]
    }
   ],
   "source": [
    "\n",
    "history2 = model2.fit(partial_x_train,\n",
    "                   partial_y_train,\n",
    "                   epochs=20,\n",
    "                   batch_size=512,\n",
    "                   validation_data=(x_val,y_val))\n",
    "\n",
    "history_dict2 = history2.history"
   ]
  },
  {
   "cell_type": "code",
   "execution_count": 40,
   "metadata": {},
   "outputs": [
    {
     "data": {
      "image/png": "[encoded data removed]",
      "text/plain": [
       "<Figure size 432x288 with 1 Axes>"
      ]
     },
     "metadata": {
      "needs_background": "light"
     },
     "output_type": "display_data"
    }
   ],
   "source": [
    "# 绘制训练损失贺验证损失\n",
    "import matplotlib.pyplot as plt\n",
    "\n",
    "history_dict = history.history\n",
    "loss_values_normal = history_dict['val_loss']\n",
    "loss_values_less = history_dict2['val_loss']\n",
    "\n",
    "epochs = range(1,len(loss_values)+1)\n",
    "\n",
    "plt.plot(epochs,loss_values_normal,'b+',label='normal loss')\n",
    "plt.plot(epochs,loss_values_less,'bo',label='less loss')\n",
    "plt.xlabel('Epochs')\n",
    "plt.ylabel('Loss')\n",
    "plt.legend()\n",
    "\n",
    "plt.show()"
   ]
  },
  {
   "cell_type": "markdown",
   "metadata": {},
   "source": [
    "### 添加权重正则化\n",
    "\n",
    "#### 奥卡姆剃刀（Occam’s razor）原理\n",
    "\n",
    "[奥卡姆剃刀（Occam’s razor）原理](http://wikipedia.moesalih.com/Occam%27s_Razor)\n",
    "如果一件事情有两种解释，那么最可能正确的解释就是最简单的那个，即假设更少的那个。\n",
    "\n",
    "对于神经网络模型也适应：：给定一些训练数据和一种网络架构，很多组权重值（即很多模型）都可以解释这些数据。简单模型比复杂模型更不容易过拟合。\n",
    "\n",
    "这里的简单模型是指：参数值分布的熵更小的模型（或参数更少的模型），所以根据这个知道原则：常见的降低过拟合的方法就是强制让模型权重只能取较小的值这种方法叫作权重正则化（weight regularization）\n",
    "\n",
    "#### 作权重正则化实现方法\n",
    "\n",
    "向网络损失函数中添加与较大权重值相关的成本：\n",
    "-  L1 正则化（L1 regularization）：添加的成本与权重系数的绝对值成正比。\n",
    "-  L2 正则化（L2 regularization）：添加的成本与权重系数的平方（权重的 L2 范数）成正比，神经网络的 L2 正则化也叫权重衰减（weight decay）\n",
    "\n",
    "在 Keras 中，添加权重正则化的方法是向层传递权重正则化项实例,coding 如下：\n"
   ]
  },
  {
   "cell_type": "code",
   "execution_count": 51,
   "metadata": {},
   "outputs": [],
   "source": [
    "##权重正则化\n",
    "from keras import models\n",
    "from keras import layers\n",
    "from keras import regularizers\n",
    "\n",
    "model3 = models.Sequential()\n",
    "# 权重矩阵的每个系数都会使网络总损失增加 0.001  *  weight_coefficient_value\n",
    "model3.add(layers.Dense(16, kernel_regularizer = regularizers.l2(0.001), activation='relu',input_shape=(10000,)))\n",
    "model3.add(layers.Dense(16, kernel_regularizer = regularizers.l2(0.001), activation='relu'))\n",
    "model3.add(layers.Dense(1,activation='sigmoid'))\n",
    "\n",
    "# 标准的优化器\n",
    "model3.compile(optimizer='rmsprop',\n",
    "              loss = 'binary_crossentropy',\n",
    "              metrics = ['accuracy']) # 训练过程中监控精度"
   ]
  },
  {
   "cell_type": "code",
   "execution_count": 52,
   "metadata": {},
   "outputs": [
    {
     "name": "stdout",
     "output_type": "stream",
     "text": [
      "Train on 15000 samples, validate on 10000 samples\n",
      "Epoch 1/20\n",
      "15000/15000 [==============================] - 2s 163us/step - loss: 0.5432 - acc: 0.7969 - val_loss: 0.4162 - val_acc: 0.8752\n",
      "Epoch 2/20\n",
      "15000/15000 [==============================] - 2s 130us/step - loss: 0.3477 - acc: 0.9024 - val_loss: 0.3506 - val_acc: 0.8856\n",
      "Epoch 3/20\n",
      "15000/15000 [==============================] - 2s 130us/step - loss: 0.2856 - acc: 0.9224 - val_loss: 0.3319 - val_acc: 0.8897\n",
      "Epoch 4/20\n",
      "15000/15000 [==============================] - 2s 130us/step - loss: 0.2476 - acc: 0.9365 - val_loss: 0.3577 - val_acc: 0.8754\n",
      "Epoch 5/20\n",
      "15000/15000 [==============================] - 2s 129us/step - loss: 0.2323 - acc: 0.9400 - val_loss: 0.3420 - val_acc: 0.8837\n",
      "Epoch 6/20\n",
      "15000/15000 [==============================] - 2s 130us/step - loss: 0.2112 - acc: 0.9513 - val_loss: 0.3387 - val_acc: 0.8847\n",
      "Epoch 7/20\n",
      "15000/15000 [==============================] - 2s 130us/step - loss: 0.2046 - acc: 0.9499 - val_loss: 0.3572 - val_acc: 0.8786\n",
      "Epoch 8/20\n",
      "15000/15000 [==============================] - 2s 129us/step - loss: 0.1959 - acc: 0.9542 - val_loss: 0.3570 - val_acc: 0.8827\n",
      "Epoch 9/20\n",
      "15000/15000 [==============================] - 2s 130us/step - loss: 0.1896 - acc: 0.9584 - val_loss: 0.3780 - val_acc: 0.8802\n",
      "Epoch 10/20\n",
      "15000/15000 [==============================] - 2s 130us/step - loss: 0.1848 - acc: 0.9580 - val_loss: 0.3754 - val_acc: 0.8773\n",
      "Epoch 11/20\n",
      "15000/15000 [==============================] - 2s 130us/step - loss: 0.1723 - acc: 0.9659 - val_loss: 0.3995 - val_acc: 0.8701\n",
      "Epoch 12/20\n",
      "15000/15000 [==============================] - 2s 130us/step - loss: 0.1729 - acc: 0.9659 - val_loss: 0.4286 - val_acc: 0.8687\n",
      "Epoch 13/20\n",
      "15000/15000 [==============================] - 2s 130us/step - loss: 0.1689 - acc: 0.9649 - val_loss: 0.3960 - val_acc: 0.8775\n",
      "Epoch 14/20\n",
      "15000/15000 [==============================] - 2s 130us/step - loss: 0.1717 - acc: 0.9646 - val_loss: 0.4032 - val_acc: 0.8772\n",
      "Epoch 15/20\n",
      "15000/15000 [==============================] - 2s 130us/step - loss: 0.1575 - acc: 0.9711 - val_loss: 0.4176 - val_acc: 0.8706\n",
      "Epoch 16/20\n",
      "15000/15000 [==============================] - 2s 130us/step - loss: 0.1634 - acc: 0.9675 - val_loss: 0.4505 - val_acc: 0.8691\n",
      "Epoch 17/20\n",
      "15000/15000 [==============================] - 2s 129us/step - loss: 0.1556 - acc: 0.9703 - val_loss: 0.4233 - val_acc: 0.8736\n",
      "Epoch 18/20\n",
      "15000/15000 [==============================] - 2s 129us/step - loss: 0.1538 - acc: 0.9707 - val_loss: 0.4301 - val_acc: 0.8708\n",
      "Epoch 19/20\n",
      "15000/15000 [==============================] - 2s 130us/step - loss: 0.1442 - acc: 0.9761 - val_loss: 0.5395 - val_acc: 0.8515\n",
      "Epoch 20/20\n",
      "15000/15000 [==============================] - 2s 130us/step - loss: 0.1518 - acc: 0.9718 - val_loss: 0.4719 - val_acc: 0.8665\n"
     ]
    }
   ],
   "source": [
    "history3 = model3.fit(partial_x_train,\n",
    "                   partial_y_train,\n",
    "                   epochs=20,\n",
    "                   batch_size=512,\n",
    "                   validation_data=(x_val,y_val))\n",
    "\n",
    "history_dict3 = history3.history"
   ]
  },
  {
   "cell_type": "code",
   "execution_count": 53,
   "metadata": {},
   "outputs": [
    {
     "data": {
      "image/png": "[encoded data removed]",
      "text/plain": [
       "<Figure size 432x288 with 1 Axes>"
      ]
     },
     "metadata": {
      "needs_background": "light"
     },
     "output_type": "display_data"
    }
   ],
   "source": [
    "# 绘制训练损失贺验证损失\n",
    "import matplotlib.pyplot as plt\n",
    "\n",
    "history_dict = history.history\n",
    "loss_values_normal = history_dict['val_loss']\n",
    "loss_values_regularized = history_dict3['val_loss']\n",
    "\n",
    "epochs = range(1,len(loss_values)+1)\n",
    "\n",
    "plt.plot(epochs,loss_values_normal,'b+',label='normal loss')\n",
    "plt.plot(epochs,loss_values_regularized,'bo',label='regularized loss')\n",
    "plt.xlabel('Epochs')\n",
    "plt.ylabel('Loss')\n",
    "plt.legend()\n",
    "\n",
    "plt.show()"
   ]
  },
  {
   "cell_type": "code",
   "execution_count": null,
   "metadata": {},
   "outputs": [],
   "source": [
    "#还可以使用其它的权重正则化\n",
    "\n",
    "from keras import regularizers\n",
    "# L1 正则化\n",
    "regularizers.l1(0.001)\n",
    "# L1 与 L2同时正则化\n",
    "regularizers.l1_l2(l1=0.001,l2=0.001)"
   ]
  },
  {
   "cell_type": "markdown",
   "metadata": {},
   "source": [
    "### dropout 正则化\n",
    "\n",
    "dropout 是神经网络最有效也最常用的正则化方法之一。对某一层使用 dropout，就是在训练过程中随机将该层的一些输出特征舍弃（设置为 0）。dropout 比率（dropout rate）是被设为 0 的特征所占的比例，通常在 0.2~0.5\n",
    "范围内。在测试的时候不能使用该方法。\n",
    "\n",
    "![训练时对激活矩阵使用 dropout](imgs/03.jpg)  \n",
    "\n",
    "\n",
    "\n",
    "该方法的核心思想是：在层的输出值中引入噪声，打破不显著的偶然模式（Hinton 称之为阴谋）。如果没有噪声的话，网络将会记住这些偶然模式。coding 实现如下：\n"
   ]
  },
  {
   "cell_type": "code",
   "execution_count": 55,
   "metadata": {},
   "outputs": [],
   "source": [
    "##权重正则化\n",
    "from keras import models\n",
    "from keras import layers\n",
    "from keras import regularizers\n",
    "\n",
    "model4 = models.Sequential()\n",
    "# 权重矩阵的每个系数都会使网络总损失增加 0.001  *  weight_coefficient_value\n",
    "model4.add(layers.Dense(16, kernel_regularizer = regularizers.l2(0.001), activation='relu',input_shape=(10000,)))\n",
    "model4.add(layers.Dropout(0.5))\n",
    "model4.add(layers.Dense(16, kernel_regularizer = regularizers.l2(0.001), activation='relu'))\n",
    "model4.add(layers.Dropout(0.5))\n",
    "model4.add(layers.Dense(1,activation='sigmoid'))\n",
    "\n",
    "# 标准的优化器\n",
    "model4.compile(optimizer='rmsprop',\n",
    "              loss = 'binary_crossentropy',\n",
    "              metrics = ['accuracy']) # 训练过程中监控精度"
   ]
  },
  {
   "cell_type": "code",
   "execution_count": 56,
   "metadata": {},
   "outputs": [
    {
     "name": "stdout",
     "output_type": "stream",
     "text": [
      "Train on 15000 samples, validate on 10000 samples\n",
      "Epoch 1/20\n",
      "15000/15000 [==============================] - 3s 184us/step - loss: 0.6789 - acc: 0.6217 - val_loss: 0.5885 - val_acc: 0.8316\n",
      "Epoch 2/20\n",
      "15000/15000 [==============================] - 2s 131us/step - loss: 0.5753 - acc: 0.7507 - val_loss: 0.4902 - val_acc: 0.8680\n",
      "Epoch 3/20\n",
      "15000/15000 [==============================] - 2s 131us/step - loss: 0.4976 - acc: 0.8207 - val_loss: 0.4294 - val_acc: 0.8757\n",
      "Epoch 4/20\n",
      "15000/15000 [==============================] - 2s 132us/step - loss: 0.4347 - acc: 0.8607 - val_loss: 0.3914 - val_acc: 0.8776\n",
      "Epoch 5/20\n",
      "15000/15000 [==============================] - 2s 131us/step - loss: 0.3911 - acc: 0.8840 - val_loss: 0.3624 - val_acc: 0.8842\n",
      "Epoch 6/20\n",
      "15000/15000 [==============================] - 2s 131us/step - loss: 0.3598 - acc: 0.9027 - val_loss: 0.3526 - val_acc: 0.8789\n",
      "Epoch 7/20\n",
      "15000/15000 [==============================] - 2s 132us/step - loss: 0.3296 - acc: 0.9151 - val_loss: 0.3524 - val_acc: 0.8856\n",
      "Epoch 8/20\n",
      "15000/15000 [==============================] - 2s 130us/step - loss: 0.3065 - acc: 0.9241 - val_loss: 0.3848 - val_acc: 0.8819\n",
      "Epoch 9/20\n",
      "15000/15000 [==============================] - 2s 132us/step - loss: 0.2922 - acc: 0.9304 - val_loss: 0.3596 - val_acc: 0.8854\n",
      "Epoch 10/20\n",
      "15000/15000 [==============================] - 2s 131us/step - loss: 0.2688 - acc: 0.9363 - val_loss: 0.3904 - val_acc: 0.8828\n",
      "Epoch 11/20\n",
      "15000/15000 [==============================] - 2s 132us/step - loss: 0.2615 - acc: 0.9389 - val_loss: 0.3564 - val_acc: 0.8820\n",
      "Epoch 12/20\n",
      "15000/15000 [==============================] - 2s 132us/step - loss: 0.2459 - acc: 0.9440 - val_loss: 0.3707 - val_acc: 0.8817\n",
      "Epoch 13/20\n",
      "15000/15000 [==============================] - 2s 131us/step - loss: 0.2416 - acc: 0.9447 - val_loss: 0.4092 - val_acc: 0.8815\n",
      "Epoch 14/20\n",
      "15000/15000 [==============================] - 2s 143us/step - loss: 0.2296 - acc: 0.9489 - val_loss: 0.3771 - val_acc: 0.8781\n",
      "Epoch 15/20\n",
      "15000/15000 [==============================] - 2s 143us/step - loss: 0.2254 - acc: 0.9513 - val_loss: 0.4080 - val_acc: 0.8812\n",
      "Epoch 16/20\n",
      "15000/15000 [==============================] - 2s 138us/step - loss: 0.2171 - acc: 0.9519 - val_loss: 0.4068 - val_acc: 0.8792\n",
      "Epoch 17/20\n",
      "15000/15000 [==============================] - 2s 136us/step - loss: 0.2163 - acc: 0.9521 - val_loss: 0.4106 - val_acc: 0.8725\n",
      "Epoch 18/20\n",
      "15000/15000 [==============================] - 2s 131us/step - loss: 0.2163 - acc: 0.9499 - val_loss: 0.4250 - val_acc: 0.8606\n",
      "Epoch 19/20\n",
      "15000/15000 [==============================] - 2s 131us/step - loss: 0.2067 - acc: 0.9562 - val_loss: 0.4254 - val_acc: 0.8755\n",
      "Epoch 20/20\n",
      "15000/15000 [==============================] - 2s 131us/step - loss: 0.2083 - acc: 0.9555 - val_loss: 0.4434 - val_acc: 0.8779\n"
     ]
    }
   ],
   "source": [
    "history4 = model4.fit(partial_x_train,\n",
    "                   partial_y_train,\n",
    "                   epochs=20,\n",
    "                   batch_size=512,\n",
    "                   validation_data=(x_val,y_val))\n",
    "\n",
    "history_dict4 = history4.history"
   ]
  },
  {
   "cell_type": "code",
   "execution_count": 57,
   "metadata": {},
   "outputs": [
    {
     "data": {
      "image/png": "[encoded data removed]",
      "text/plain": [
       "<Figure size 432x288 with 1 Axes>"
      ]
     },
     "metadata": {
      "needs_background": "light"
     },
     "output_type": "display_data"
    }
   ],
   "source": [
    "# 绘制训练损失贺验证损失\n",
    "import matplotlib.pyplot as plt\n",
    "\n",
    "history_dict = history.history\n",
    "loss_values_normal = history_dict['val_loss']\n",
    "loss_values_dropout = history_dict4['val_loss']\n",
    "\n",
    "epochs = range(1,len(loss_values)+1)\n",
    "\n",
    "plt.plot(epochs,loss_values_normal,'b+',label='normal loss')\n",
    "plt.plot(epochs,loss_values_dropout,'bo',label='dropout loss')\n",
    "plt.xlabel('Epochs')\n",
    "plt.ylabel('Loss')\n",
    "plt.legend()\n",
    "\n",
    "plt.show()"
   ]
  }
 ],
 "metadata": {
  "kernelspec": {
   "display_name": "Python 3",
   "language": "python",
   "name": "python3"
  },
  "language_info": {
   "codemirror_mode": {
    "name": "ipython",
    "version": 3
   },
   "file_extension": ".py",
   "mimetype": "text/x-python",
   "name": "python",
   "nbconvert_exporter": "python",
   "pygments_lexer": "ipython3",
   "version": "3.6.8"
  }
 },
 "nbformat": 4,
 "nbformat_minor": 2
}
