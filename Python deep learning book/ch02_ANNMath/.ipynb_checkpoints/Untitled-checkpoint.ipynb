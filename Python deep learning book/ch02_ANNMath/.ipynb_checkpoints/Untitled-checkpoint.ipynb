{
 "cells": [
  {
   "cell_type": "markdown",
   "metadata": {},
   "source": [
    "# 神经网络的数学基础\n",
    "\n",
    "数学概念：张量、张量运算、微分、梯度下降。\n",
    "\n",
    "## 构建一个数字识别的神经网络"
   ]
  },
  {
   "cell_type": "code",
   "execution_count": 1,
   "metadata": {},
   "outputs": [
    {
     "name": "stderr",
     "output_type": "stream",
     "text": [
      "Using TensorFlow backend.\n"
     ]
    }
   ],
   "source": [
    "from keras.datasets import mnist\n",
    "\n",
    "# 训练集: train_images,train_labels\n",
    "# 测试集：test_images,test_labels\n",
    "(train_images,train_labels),(test_images,test_labels) = mnist.load_data()"
   ]
  },
  {
   "cell_type": "code",
   "execution_count": 2,
   "metadata": {},
   "outputs": [
    {
     "ename": "SyntaxError",
     "evalue": "invalid syntax (<ipython-input-2-daa94cad9cfa>, line 3)",
     "output_type": "error",
     "traceback": [
      "\u001b[1;36m  File \u001b[1;32m\"<ipython-input-2-daa94cad9cfa>\"\u001b[1;36m, line \u001b[1;32m3\u001b[0m\n\u001b[1;33m    print(len(train_images))\u001b[0m\n\u001b[1;37m        ^\u001b[0m\n\u001b[1;31mSyntaxError\u001b[0m\u001b[1;31m:\u001b[0m invalid syntax\n"
     ]
    }
   ],
   "source": [
    "# 获得一些输入的信息\n",
    "print(train_images.shape\n",
    "print(len(train_images))\n",
    "print(train_labels)"
   ]
  },
  {
   "cell_type": "code",
   "execution_count": 7,
   "metadata": {},
   "outputs": [],
   "source": [
    "# 构建模型\n",
    "from keras import models\n",
    "from keras import layers\n",
    "\n",
    "network = models.Sequential()\n",
    "network.add(layers.Dense(512,activation='relu',input_shape = (28*28,)))\n",
    "network.add(layers.Dense(10,activation='softmax'))\n",
    "\n",
    "#  损失函数（loss function）\n",
    "#  优化器（optimizer）\n",
    "\n",
    "# 需要监控的指标（metric）\n",
    "network.compile(optimizer='rmsprop',\n",
    "               loss = 'categorical_crossentropy',\n",
    "               metrics=['accuracy'])"
   ]
  },
  {
   "cell_type": "code",
   "execution_count": 3,
   "metadata": {},
   "outputs": [],
   "source": [
    "#准备数据\n",
    "train_images = train_images.reshape((60000,28*28))\n",
    "train_images = train_images.astype('float32')/255\n",
    "\n",
    "test_images = test_images.reshape((10000,28*28))\n",
    "test_images = test_images.astype('float32')/255\n",
    "\n"
   ]
  },
  {
   "cell_type": "code",
   "execution_count": 4,
   "metadata": {},
   "outputs": [],
   "source": [
    "# 准备标签数据\n",
    "from keras.utils import to_categorical\n",
    "\n",
    "train_labels = to_categorical(train_labels)\n",
    "test_labels = to_categorical(test_labels)\n",
    "\n",
    "\n"
   ]
  },
  {
   "cell_type": "code",
   "execution_count": 9,
   "metadata": {},
   "outputs": [
    {
     "name": "stdout",
     "output_type": "stream",
     "text": [
      "WARNING:tensorflow:From D:\\Anaconda3\\envs\\tfgpu\\lib\\site-packages\\tensorflow\\python\\ops\\math_ops.py:3066: to_int32 (from tensorflow.python.ops.math_ops) is deprecated and will be removed in a future version.\n",
      "Instructions for updating:\n",
      "Use tf.cast instead.\n",
      "Epoch 1/5\n",
      "60000/60000 [==============================] - 6s 92us/step - loss: 0.2559 - acc: 0.9246\n",
      "Epoch 2/5\n",
      "60000/60000 [==============================] - 1s 25us/step - loss: 0.1034 - acc: 0.9697\n",
      "Epoch 3/5\n",
      "60000/60000 [==============================] - 2s 26us/step - loss: 0.0680 - acc: 0.9798\n",
      "Epoch 4/5\n",
      "60000/60000 [==============================] - 2s 26us/step - loss: 0.0501 - acc: 0.9854\n",
      "Epoch 5/5\n",
      "60000/60000 [==============================] - 2s 25us/step - loss: 0.0381 - acc: 0.9885\n"
     ]
    },
    {
     "data": {
      "text/plain": [
       "<keras.callbacks.History at 0x235d8496240>"
      ]
     },
     "execution_count": 9,
     "metadata": {},
     "output_type": "execute_result"
    }
   ],
   "source": [
    "# 训练模型\n",
    "network.fit(train_images,train_labels,epochs=5,batch_size=128)"
   ]
  },
  {
   "cell_type": "code",
   "execution_count": 10,
   "metadata": {},
   "outputs": [
    {
     "name": "stdout",
     "output_type": "stream",
     "text": [
      "10000/10000 [==============================] - 0s 36us/step\n",
      "test_acc: 0.9796\n"
     ]
    }
   ],
   "source": [
    "# 测试模型\n",
    "test_loss,test_acc = network.evaluate(test_images,test_labels)\n",
    "print('test_acc:',test_acc)"
   ]
  },
  {
   "cell_type": "markdown",
   "metadata": {},
   "source": [
    "## 深度学习中的数据概念\n",
    "\n",
    "### 张量\n",
    "\n",
    "#### 常见的张量类型\n",
    "**张量：** 它是一个数据容器，模型中最基本的数据结构，比如，矩阵（2维张量）\n",
    "\n",
    "**标量（0D张量）**\n",
    "标量： 仅仅包含一个数字的张量（标量张量，零维张量，0D张量）在 Numpy中，一个 float32 或 float64 的数字,可以通过ndim属性来查询轴的个数。  \n",
    "\n",
    "**向量（1D张量）**\n",
    "向量：数字组成的数组，只有一维，一个轴  \n",
    "\n",
    "**矩阵（2D 张量）**\n",
    "由向量组成的数组叫矩阵，只有二维，两个轴\n",
    "第一个轴上的元素叫作行（row），第二个轴上的元素叫作列（column）  \n",
    "\n",
    "**3D 张量与更高维张量**\n",
    "将多个矩阵组合成一个新的数组，可以得到一个 3D 张量,直观地理解为数字组成的立方体,深度学习处理的一般是 0D 到 4D 的张量，但处理视频数据时可能会遇到 5D 张量。\n"
   ]
  },
  {
   "cell_type": "code",
   "execution_count": 6,
   "metadata": {},
   "outputs": [
    {
     "name": "stdout",
     "output_type": "stream",
     "text": [
      "12\n",
      "0\n",
      "[12  3  6 12  1]\n",
      "1\n",
      "[[12  3  6 12  1]\n",
      " [ 8 12 23 34  1]]\n",
      "2\n",
      "[[[12  3  6 12  1]\n",
      "  [ 8 12 23 34  1]]\n",
      "\n",
      " [[12  3  6 12  1]\n",
      "  [ 8 12 23 34  1]]]\n",
      "3\n"
     ]
    }
   ],
   "source": [
    "# 标量（0D张量）\n",
    "import numpy as np\n",
    "x  = np.array(12)\n",
    "print(x)\n",
    "print(x.ndim)\n",
    "\n",
    "# 向量（1D张量）\n",
    "x = np.array([12,3,6,12,1])\n",
    " # 5D向量\n",
    "print(x)\n",
    "print(x.ndim)\n",
    "\n",
    "#矩阵（2D 张量）\n",
    "x = np.array([[12,3,6,12,1],\n",
    "            [8,12,23,34,1]])\n",
    "print(x)\n",
    "print(x.ndim)\n",
    "\n",
    "#3D 张量与更高维张量\n",
    "\n",
    "x = np.array([[[12,3,6,12,1],\n",
    "            [8,12,23,34,1]],\n",
    "              [[12,3,6,12,1],\n",
    "            [8,12,23,34,1]]])\n",
    "print(x)\n",
    "print(x.ndim)\n"
   ]
  },
  {
   "cell_type": "markdown",
   "metadata": {},
   "source": [
    "#### 张量类型的关键属性\n",
    "\n",
    "**轴的个数（阶数）** 3D 张量有 3 个轴，矩阵有 2 个轴。这在 Numpy 等 Python 库中也叫张量的 ndim  \n",
    "**形状** 这是一个整数元组，表示张量沿每个轴的维度大小（元素个数）。前面矩阵示例的形状为 (3,  5)，3D 张量示例的形状为 (3,  3,  5)  \n",
    "**数据类型** 这是张量中所包含数据的类型，例如，张量的类型可以是 float32、uint8、float64 等。"
   ]
  },
  {
   "cell_type": "code",
   "execution_count": 7,
   "metadata": {},
   "outputs": [
    {
     "name": "stdout",
     "output_type": "stream",
     "text": [
      "3\n",
      "(60000, 28, 28)\n",
      "uint8\n"
     ]
    },
    {
     "data": {
      "image/png": "[encoded data removed]",
      "text/plain": [
       "<Figure size 432x288 with 1 Axes>"
      ]
     },
     "metadata": {
      "needs_background": "light"
     },
     "output_type": "display_data"
    }
   ],
   "source": [
    "# mnist数据的格式\n",
    "from keras.datasets import mnist\n",
    "(train_images,train_labels),(test_images,test_labels) = mnist.load_data()\n",
    "\n",
    "# 轴的个数，阶数\n",
    "print(train_images.ndim)\n",
    "\n",
    "# 形状\n",
    "print(train_images.shape)\n",
    "\n",
    "# 数据类型\n",
    "print(train_images.dtype)\n",
    "\n",
    "# 利用Matplotlib来显示3D数据\n",
    "digit = train_images[4]\n",
    "\n",
    "import matplotlib.pyplot as plt\n",
    "plt.imshow(digit,cmap=plt.cm.binary)\n",
    "plt.show()"
   ]
  },
  {
   "cell_type": "markdown",
   "metadata": {},
   "source": [
    "#### numpy中操作张量\n",
    "\n",
    "**张量切片**  \n",
    "选择张量的特定元素,\n",
    "选择单个样本：train_images[4]\n",
    "选择多个样本：train_images[10:100]\n",
    "\n",
    "\n",
    "#### 批量数据（batch）\n",
    "\n",
    "深度学习中所有数据张量的第一个轴（0 轴，因为索引从 0 开始）都是样本轴（samples axis，有时也叫样本维度）。\n",
    "\n",
    "**mini batch**\n",
    "深度学习模型不会同时处理整个数据集，而是将数据拆分成小批量(mini batch)\n",
    "```python\n",
    "batch = train_images[:128]\n",
    "batch = train_images[128:256]\n",
    "batch = train_images[128 * n:128 * (n + 1)]\n",
    "\n",
    "```\n",
    "这是一种常见的处理数据的方法，如下就用到了该方法，每次训练的时候，使用128个样本数据进行训练\n",
    "`network.fit(train_images,train_labels,epochs=5,batch_size=128)`\n",
    "`batch_size=128`:128个样本数据进行一次迭代\n",
    "第一个轴（0 轴）叫作批量轴（batch axis）或批量维度（batch dimension）\n",
    "\n",
    "#### 常用的数据张量\n",
    "\n",
    "- 向量数据：2D 张量，形状为 (samples, features)。\n",
    "- 时间序列数据或序列数据：3D 张量，形状为 (samples, timesteps, features)。\n",
    "- 图像：4D 张量，形状为 (samples, height, width, channels) 或 (samples, channels, height, width)。\n",
    "- 视频：5D 张量，形状为 (samples, frames, height, width, channels) 或 (samples, frames, channels, height, width)。\n",
    " \n",
    " **向量数据2D**  \n",
    " 其中第一个轴是样本轴，第二个轴是特征轴，例如人口统计数据集，其中包括每个人的年龄、邮编和收入，。每个人可以表示为包含 3 个值的向量，100个人可以写成(100，3)。\n",
    " \n",
    " **时间序列数据或序列数据3D**  \n",
    " 当时间（或序列顺序）对于数据很重要时，应该将数据存储在带有时间轴的 3D 张量中.\n",
    " \n",
    " ![时间序列数据](imgs/01.jpg)\n",
    " \n",
    " **图像数据4D**\n",
    " 图像通常具有三个维度：高度、宽度和颜色深度，加上批量的数据\n",
    " ![图像数据](imgs/02.jpg)\n",
    " \n",
    "通道在后（channels-last）的约定（在 TensorFlow 中使用）和通道在前（channels-first）的约定（在 Theano 中使用）。  \n",
    "\n",
    "**视频数据5D**\n",
    "视频可以看作一系列帧，每一帧都是一张彩色图像。由于每一帧都可以保存在一个形状为 (height,  width,  color_\n",
    "depth) 的 3D 张量中,，因此一系列帧可以保存在一个形状为 (frames,  height,  width, color_depth) 的 4D 张量中,而不同视频组成的批量则可以保存在一个 5D 张量中，其形状为(samples, frames, height, width, color_depth)。\n"
   ]
  },
  {
   "cell_type": "code",
   "execution_count": 8,
   "metadata": {},
   "outputs": [
    {
     "name": "stdout",
     "output_type": "stream",
     "text": [
      "(90, 28, 28)\n"
     ]
    }
   ],
   "source": [
    "my_slice = train_images[10:100]\n",
    "print(my_slice.shape)"
   ]
  },
  {
   "cell_type": "markdown",
   "metadata": {},
   "source": [
    "## 张量运算（tensor operation）\n",
    "\n",
    "深度神经网络学到的所有**变换**也都可以简化为数值数据张量上的一些**张量运算**。\n",
    "\n"
   ]
  }
 ],
 "metadata": {
  "kernelspec": {
   "display_name": "Python 3",
   "language": "python",
   "name": "python3"
  },
  "language_info": {
   "codemirror_mode": {
    "name": "ipython",
    "version": 3
   },
   "file_extension": ".py",
   "mimetype": "text/x-python",
   "name": "python",
   "nbconvert_exporter": "python",
   "pygments_lexer": "ipython3",
   "version": "3.6.8"
  }
 },
 "nbformat": 4,
 "nbformat_minor": 2
}
