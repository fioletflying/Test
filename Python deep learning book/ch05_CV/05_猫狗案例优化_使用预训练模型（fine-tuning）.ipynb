{
 "cells": [
  {
   "cell_type": "markdown",
   "metadata": {},
   "source": [
    "### 模型微调概念\n",
    "\n",
    "微调是指将其顶部的几层“解冻”，并将这解冻的几层和新增加的部分联合训练。详细的理解见下图  \n",
    "![模型微调概念](imgs/11.jpg)\n",
    "\n",
    "微调网络的步骤:\n",
    "- 在已经训练好的基网络（base network）上添加自定义网络。\n",
    "- 冻结基网络。\n",
    "- 训练所添加的部分。\n",
    "- 解冻基网络的一些层。\n",
    "- 联合训练解冻的这些层和添加的部分。\n",
    "\n",
    "将微调最后三个卷积层，也就是说，直到 block4_pool 的所有层都应该被冻结，而block5_conv1、block5_conv2 和 block5_conv3 三层应该是可训练的。\n",
    "如何选择微调层的网络:\n",
    "\n",
    "- 卷积基中更靠底部的层编码的是更加通用的可复用特征，而更靠顶部的层编码的是更专业化的特征。\n",
    "- 训练的参数越多，过拟合的风险越大。"
   ]
  },
  {
   "cell_type": "code",
   "execution_count": 1,
   "metadata": {},
   "outputs": [
    {
     "name": "stderr",
     "output_type": "stream",
     "text": [
      "Using TensorFlow backend.\n"
     ]
    },
    {
     "name": "stdout",
     "output_type": "stream",
     "text": [
      "WARNING:tensorflow:From D:\\Anaconda3\\envs\\tfgpu\\lib\\site-packages\\tensorflow\\python\\framework\\op_def_library.py:263: colocate_with (from tensorflow.python.framework.ops) is deprecated and will be removed in a future version.\n",
      "Instructions for updating:\n",
      "Colocations handled automatically by placer.\n"
     ]
    }
   ],
   "source": [
    "from keras.applications import VGG16\n",
    "\n",
    "conv_base = VGG16(weights = 'imagenet',\n",
    "               include_top = False,\n",
    "               input_shape=(150,150,3))"
   ]
  },
  {
   "cell_type": "code",
   "execution_count": 2,
   "metadata": {},
   "outputs": [
    {
     "name": "stdout",
     "output_type": "stream",
     "text": [
      "_________________________________________________________________\n",
      "Layer (type)                 Output Shape              Param #   \n",
      "=================================================================\n",
      "input_1 (InputLayer)         (None, 150, 150, 3)       0         \n",
      "_________________________________________________________________\n",
      "block1_conv1 (Conv2D)        (None, 150, 150, 64)      1792      \n",
      "_________________________________________________________________\n",
      "block1_conv2 (Conv2D)        (None, 150, 150, 64)      36928     \n",
      "_________________________________________________________________\n",
      "block1_pool (MaxPooling2D)   (None, 75, 75, 64)        0         \n",
      "_________________________________________________________________\n",
      "block2_conv1 (Conv2D)        (None, 75, 75, 128)       73856     \n",
      "_________________________________________________________________\n",
      "block2_conv2 (Conv2D)        (None, 75, 75, 128)       147584    \n",
      "_________________________________________________________________\n",
      "block2_pool (MaxPooling2D)   (None, 37, 37, 128)       0         \n",
      "_________________________________________________________________\n",
      "block3_conv1 (Conv2D)        (None, 37, 37, 256)       295168    \n",
      "_________________________________________________________________\n",
      "block3_conv2 (Conv2D)        (None, 37, 37, 256)       590080    \n",
      "_________________________________________________________________\n",
      "block3_conv3 (Conv2D)        (None, 37, 37, 256)       590080    \n",
      "_________________________________________________________________\n",
      "block3_pool (MaxPooling2D)   (None, 18, 18, 256)       0         \n",
      "_________________________________________________________________\n",
      "block4_conv1 (Conv2D)        (None, 18, 18, 512)       1180160   \n",
      "_________________________________________________________________\n",
      "block4_conv2 (Conv2D)        (None, 18, 18, 512)       2359808   \n",
      "_________________________________________________________________\n",
      "block4_conv3 (Conv2D)        (None, 18, 18, 512)       2359808   \n",
      "_________________________________________________________________\n",
      "block4_pool (MaxPooling2D)   (None, 9, 9, 512)         0         \n",
      "_________________________________________________________________\n",
      "block5_conv1 (Conv2D)        (None, 9, 9, 512)         2359808   \n",
      "_________________________________________________________________\n",
      "block5_conv2 (Conv2D)        (None, 9, 9, 512)         2359808   \n",
      "_________________________________________________________________\n",
      "block5_conv3 (Conv2D)        (None, 9, 9, 512)         2359808   \n",
      "_________________________________________________________________\n",
      "block5_pool (MaxPooling2D)   (None, 4, 4, 512)         0         \n",
      "=================================================================\n",
      "Total params: 14,714,688\n",
      "Trainable params: 14,714,688\n",
      "Non-trainable params: 0\n",
      "_________________________________________________________________\n"
     ]
    }
   ],
   "source": [
    "conv_base.summary()"
   ]
  },
  {
   "cell_type": "code",
   "execution_count": 3,
   "metadata": {},
   "outputs": [],
   "source": [
    "#在卷积基上添加一个密集连接分类器\n",
    "from keras import models\n",
    "from keras import layers\n",
    "\n",
    "model = models.Sequential()\n",
    "model.add(conv_base)\n",
    "model.add(layers.Flatten())\n",
    "model.add(layers.Dense(256,activation='relu'))\n",
    "model.add(layers.Dense(1,activation = 'sigmoid'))"
   ]
  },
  {
   "cell_type": "code",
   "execution_count": 4,
   "metadata": {},
   "outputs": [],
   "source": [
    "#冻结直到某一层的所有层\n",
    "conv_base.trainable = True\n",
    "\n",
    "set_trainable = False\n",
    "for layer in conv_base.layers:\n",
    "    if layer.name == 'block5_conv1':\n",
    "        set_trainable = True\n",
    "    if set_trainable:\n",
    "        layer.trainable = True\n",
    "    else:\n",
    "        layer.trainable = False"
   ]
  },
  {
   "cell_type": "code",
   "execution_count": 5,
   "metadata": {},
   "outputs": [
    {
     "name": "stdout",
     "output_type": "stream",
     "text": [
      "This is the number of trainable weights after freezing the conv base: 10\n"
     ]
    }
   ],
   "source": [
    "print('This is the number of trainable weights ' \n",
    "         'after freezing the conv base:', len(model.trainable_weights)) "
   ]
  },
  {
   "cell_type": "code",
   "execution_count": 6,
   "metadata": {},
   "outputs": [],
   "source": [
    "import os\n",
    "import numpy as np\n",
    "from keras.preprocessing.image import ImageDataGenerator\n",
    "\n",
    "base_dir = \"G:/Data/Kaggle/dogcat/smallData\"\n",
    "train_dir = os.path.join(base_dir,'train')\n",
    "validation_dir = os.path.join(base_dir,'validation')\n",
    "test_dir = os.path.join(base_dir,'test')"
   ]
  },
  {
   "cell_type": "code",
   "execution_count": 7,
   "metadata": {},
   "outputs": [
    {
     "name": "stdout",
     "output_type": "stream",
     "text": [
      "Found 2000 images belonging to 2 classes.\n",
      "Found 1000 images belonging to 2 classes.\n"
     ]
    }
   ],
   "source": [
    "from keras.preprocessing.image import ImageDataGenerator\n",
    "from keras import optimizers\n",
    "\n",
    "train_datagen = ImageDataGenerator(\n",
    "    rescale=1./255,\n",
    "    rotation_range=40,\n",
    "    width_shift_range=0.2,\n",
    "    height_shift_range=0.2,\n",
    "    shear_range=0.2,\n",
    "    zoom_range=0.2,\n",
    "    horizontal_flip=True,\n",
    "    fill_mode='nearest'\n",
    ")\n",
    "\n",
    "test_datagen = ImageDataGenerator(rescale=1./255)\n",
    "\n",
    "train_generator = train_datagen.flow_from_directory(\n",
    "    train_dir,\n",
    "    target_size=(150,150),\n",
    "    batch_size = 20,\n",
    "    class_mode = 'binary'\n",
    ")\n",
    "\n",
    "validation_generator = test_datagen.flow_from_directory(\n",
    "    validation_dir,\n",
    "    target_size=(150,150),\n",
    "    batch_size = 20,\n",
    "    class_mode='binary'\n",
    ")\n"
   ]
  },
  {
   "cell_type": "markdown",
   "metadata": {},
   "source": [
    "### 微调模型\n",
    "\n",
    "微调网络可以使用学习率非常小的 RMSProp 优化器来实现,学习率很小，是因为对于微调的三层表示."
   ]
  },
  {
   "cell_type": "code",
   "execution_count": 8,
   "metadata": {},
   "outputs": [
    {
     "name": "stdout",
     "output_type": "stream",
     "text": [
      "WARNING:tensorflow:From D:\\Anaconda3\\envs\\tfgpu\\lib\\site-packages\\tensorflow\\python\\ops\\math_ops.py:3066: to_int32 (from tensorflow.python.ops.math_ops) is deprecated and will be removed in a future version.\n",
      "Instructions for updating:\n",
      "Use tf.cast instead.\n",
      "Epoch 1/100\n",
      "100/100 [==============================] - 23s 233ms/step - loss: 0.5737 - acc: 0.6980 - val_loss: 0.3508 - val_acc: 0.8460\n",
      "Epoch 2/100\n",
      "100/100 [==============================] - 18s 180ms/step - loss: 0.3854 - acc: 0.8290 - val_loss: 0.2513 - val_acc: 0.8980\n",
      "Epoch 3/100\n",
      "100/100 [==============================] - 18s 179ms/step - loss: 0.3186 - acc: 0.8600 - val_loss: 0.2155 - val_acc: 0.9060\n",
      "Epoch 4/100\n",
      "100/100 [==============================] - 18s 179ms/step - loss: 0.3094 - acc: 0.8730 - val_loss: 0.1970 - val_acc: 0.9210\n",
      "Epoch 5/100\n",
      "100/100 [==============================] - 18s 180ms/step - loss: 0.2598 - acc: 0.8895 - val_loss: 0.2062 - val_acc: 0.9100\n",
      "Epoch 6/100\n",
      "100/100 [==============================] - 18s 180ms/step - loss: 0.2595 - acc: 0.8965 - val_loss: 0.1859 - val_acc: 0.9240\n",
      "Epoch 7/100\n",
      "100/100 [==============================] - 18s 180ms/step - loss: 0.2252 - acc: 0.9025 - val_loss: 0.1785 - val_acc: 0.9220\n",
      "Epoch 8/100\n",
      "100/100 [==============================] - 18s 180ms/step - loss: 0.2370 - acc: 0.9015 - val_loss: 0.1715 - val_acc: 0.9250\n",
      "Epoch 9/100\n",
      "100/100 [==============================] - 18s 180ms/step - loss: 0.2164 - acc: 0.9090 - val_loss: 0.1916 - val_acc: 0.9100\n",
      "Epoch 10/100\n",
      "100/100 [==============================] - 18s 180ms/step - loss: 0.2080 - acc: 0.9110 - val_loss: 0.2029 - val_acc: 0.9140\n",
      "Epoch 11/100\n",
      "100/100 [==============================] - 18s 180ms/step - loss: 0.1925 - acc: 0.9190 - val_loss: 0.1623 - val_acc: 0.9300\n",
      "Epoch 12/100\n",
      "100/100 [==============================] - 18s 180ms/step - loss: 0.1913 - acc: 0.9215 - val_loss: 0.1739 - val_acc: 0.9190\n",
      "Epoch 13/100\n",
      "100/100 [==============================] - 18s 180ms/step - loss: 0.1851 - acc: 0.9255 - val_loss: 0.1575 - val_acc: 0.9310\n",
      "Epoch 14/100\n",
      "100/100 [==============================] - 18s 180ms/step - loss: 0.1812 - acc: 0.9220 - val_loss: 0.1567 - val_acc: 0.9290\n",
      "Epoch 15/100\n",
      "100/100 [==============================] - 18s 179ms/step - loss: 0.1535 - acc: 0.9420 - val_loss: 0.1642 - val_acc: 0.9270\n",
      "Epoch 16/100\n",
      "100/100 [==============================] - 18s 180ms/step - loss: 0.1579 - acc: 0.9345 - val_loss: 0.2022 - val_acc: 0.9190\n",
      "Epoch 17/100\n",
      "100/100 [==============================] - 18s 180ms/step - loss: 0.1488 - acc: 0.9390 - val_loss: 0.1652 - val_acc: 0.9320\n",
      "Epoch 18/100\n",
      "100/100 [==============================] - 18s 181ms/step - loss: 0.1561 - acc: 0.9370 - val_loss: 0.1566 - val_acc: 0.9300\n",
      "Epoch 19/100\n",
      "100/100 [==============================] - 18s 180ms/step - loss: 0.1356 - acc: 0.9440 - val_loss: 0.1629 - val_acc: 0.9340\n",
      "Epoch 20/100\n",
      "100/100 [==============================] - 18s 180ms/step - loss: 0.1292 - acc: 0.9465 - val_loss: 0.2054 - val_acc: 0.9210\n",
      "Epoch 21/100\n",
      "100/100 [==============================] - 19s 185ms/step - loss: 0.1117 - acc: 0.9560 - val_loss: 0.1771 - val_acc: 0.9280\n",
      "Epoch 22/100\n",
      "100/100 [==============================] - 18s 180ms/step - loss: 0.1314 - acc: 0.9465 - val_loss: 0.1619 - val_acc: 0.9300\n",
      "Epoch 23/100\n",
      "100/100 [==============================] - 18s 180ms/step - loss: 0.1178 - acc: 0.9580 - val_loss: 0.1674 - val_acc: 0.9290\n",
      "Epoch 24/100\n",
      "100/100 [==============================] - 18s 180ms/step - loss: 0.1207 - acc: 0.9530 - val_loss: 0.1782 - val_acc: 0.9250\n",
      "Epoch 25/100\n",
      "100/100 [==============================] - 18s 180ms/step - loss: 0.1079 - acc: 0.9570 - val_loss: 0.1760 - val_acc: 0.9290\n",
      "Epoch 26/100\n",
      "100/100 [==============================] - 18s 180ms/step - loss: 0.1074 - acc: 0.9535 - val_loss: 0.2377 - val_acc: 0.9120\n",
      "Epoch 27/100\n",
      "100/100 [==============================] - 18s 180ms/step - loss: 0.1112 - acc: 0.9560 - val_loss: 0.1439 - val_acc: 0.9380\n",
      "Epoch 28/100\n",
      "100/100 [==============================] - 18s 180ms/step - loss: 0.1000 - acc: 0.9645 - val_loss: 0.1893 - val_acc: 0.9290\n",
      "Epoch 29/100\n",
      "100/100 [==============================] - 18s 180ms/step - loss: 0.0972 - acc: 0.9625 - val_loss: 0.2455 - val_acc: 0.9240\n",
      "Epoch 30/100\n",
      "100/100 [==============================] - 18s 180ms/step - loss: 0.1001 - acc: 0.9655 - val_loss: 0.1580 - val_acc: 0.9380\n",
      "Epoch 31/100\n",
      "100/100 [==============================] - 18s 180ms/step - loss: 0.1087 - acc: 0.9575 - val_loss: 0.1528 - val_acc: 0.9340\n",
      "Epoch 32/100\n",
      "100/100 [==============================] - 18s 180ms/step - loss: 0.0896 - acc: 0.9630 - val_loss: 0.1558 - val_acc: 0.9400\n",
      "Epoch 33/100\n",
      "100/100 [==============================] - 18s 180ms/step - loss: 0.0837 - acc: 0.9660 - val_loss: 0.2691 - val_acc: 0.9180\n",
      "Epoch 34/100\n",
      "100/100 [==============================] - 18s 180ms/step - loss: 0.0823 - acc: 0.9645 - val_loss: 0.2157 - val_acc: 0.9250\n",
      "Epoch 35/100\n",
      "100/100 [==============================] - 18s 180ms/step - loss: 0.0837 - acc: 0.9715 - val_loss: 0.1552 - val_acc: 0.9360\n",
      "Epoch 36/100\n",
      "100/100 [==============================] - 18s 180ms/step - loss: 0.0749 - acc: 0.9720 - val_loss: 0.1565 - val_acc: 0.9360\n",
      "Epoch 37/100\n",
      "100/100 [==============================] - 18s 180ms/step - loss: 0.0903 - acc: 0.9640 - val_loss: 0.1537 - val_acc: 0.9350\n",
      "Epoch 38/100\n",
      "100/100 [==============================] - 18s 180ms/step - loss: 0.0803 - acc: 0.9690 - val_loss: 0.1548 - val_acc: 0.9420\n",
      "Epoch 39/100\n",
      "100/100 [==============================] - 20s 195ms/step - loss: 0.0804 - acc: 0.9705 - val_loss: 0.1613 - val_acc: 0.9370\n",
      "Epoch 40/100\n",
      "100/100 [==============================] - 18s 177ms/step - loss: 0.0870 - acc: 0.9660 - val_loss: 0.1433 - val_acc: 0.9430\n",
      "Epoch 41/100\n",
      "100/100 [==============================] - 18s 178ms/step - loss: 0.0689 - acc: 0.9735 - val_loss: 0.1616 - val_acc: 0.9360\n",
      "Epoch 42/100\n",
      "100/100 [==============================] - 18s 177ms/step - loss: 0.0607 - acc: 0.9760 - val_loss: 0.2193 - val_acc: 0.9270\n",
      "Epoch 43/100\n",
      "100/100 [==============================] - 18s 178ms/step - loss: 0.0519 - acc: 0.9840 - val_loss: 0.1878 - val_acc: 0.9370\n",
      "Epoch 44/100\n",
      "100/100 [==============================] - 18s 178ms/step - loss: 0.0757 - acc: 0.9720 - val_loss: 0.1891 - val_acc: 0.9310\n",
      "Epoch 45/100\n",
      "100/100 [==============================] - 18s 177ms/step - loss: 0.0679 - acc: 0.9735 - val_loss: 0.1668 - val_acc: 0.9390\n",
      "Epoch 46/100\n",
      "100/100 [==============================] - 18s 178ms/step - loss: 0.0575 - acc: 0.9790 - val_loss: 0.2380 - val_acc: 0.9260\n",
      "Epoch 47/100\n",
      "100/100 [==============================] - 18s 178ms/step - loss: 0.0551 - acc: 0.9795 - val_loss: 0.2193 - val_acc: 0.9260\n",
      "Epoch 48/100\n",
      "100/100 [==============================] - 18s 177ms/step - loss: 0.0630 - acc: 0.9780 - val_loss: 0.1642 - val_acc: 0.9380\n",
      "Epoch 49/100\n",
      "100/100 [==============================] - 18s 178ms/step - loss: 0.0486 - acc: 0.9805 - val_loss: 0.1883 - val_acc: 0.9410\n",
      "Epoch 50/100\n",
      "100/100 [==============================] - 18s 178ms/step - loss: 0.0505 - acc: 0.9805 - val_loss: 0.1866 - val_acc: 0.9370\n",
      "Epoch 51/100\n",
      "100/100 [==============================] - 18s 178ms/step - loss: 0.0704 - acc: 0.9730 - val_loss: 0.1983 - val_acc: 0.9330\n",
      "Epoch 52/100\n",
      "100/100 [==============================] - 18s 178ms/step - loss: 0.0553 - acc: 0.9785 - val_loss: 0.2174 - val_acc: 0.9260\n",
      "Epoch 53/100\n",
      "100/100 [==============================] - 18s 177ms/step - loss: 0.0542 - acc: 0.9810 - val_loss: 0.2445 - val_acc: 0.9270\n",
      "Epoch 54/100\n",
      "100/100 [==============================] - 18s 177ms/step - loss: 0.0425 - acc: 0.9860 - val_loss: 0.2043 - val_acc: 0.9380\n",
      "Epoch 55/100\n",
      "100/100 [==============================] - 18s 178ms/step - loss: 0.0511 - acc: 0.9785 - val_loss: 0.2183 - val_acc: 0.9330\n",
      "Epoch 56/100\n",
      "100/100 [==============================] - 18s 178ms/step - loss: 0.0418 - acc: 0.9840 - val_loss: 0.2381 - val_acc: 0.9320\n",
      "Epoch 57/100\n",
      "100/100 [==============================] - 18s 178ms/step - loss: 0.0426 - acc: 0.9845 - val_loss: 0.2000 - val_acc: 0.9340\n",
      "Epoch 58/100\n",
      "100/100 [==============================] - 18s 178ms/step - loss: 0.0485 - acc: 0.9840 - val_loss: 0.2177 - val_acc: 0.9290\n"
     ]
    },
    {
     "name": "stdout",
     "output_type": "stream",
     "text": [
      "Epoch 59/100\n",
      "100/100 [==============================] - 18s 180ms/step - loss: 0.0531 - acc: 0.9815 - val_loss: 0.1964 - val_acc: 0.9340\n",
      "Epoch 60/100\n",
      "100/100 [==============================] - 18s 179ms/step - loss: 0.0496 - acc: 0.9805 - val_loss: 0.2907 - val_acc: 0.9190\n",
      "Epoch 61/100\n",
      "100/100 [==============================] - 18s 179ms/step - loss: 0.0387 - acc: 0.9865 - val_loss: 0.2098 - val_acc: 0.9350\n",
      "Epoch 62/100\n",
      "100/100 [==============================] - 18s 179ms/step - loss: 0.0543 - acc: 0.9830 - val_loss: 0.1922 - val_acc: 0.9340\n",
      "Epoch 63/100\n",
      "100/100 [==============================] - 18s 178ms/step - loss: 0.0339 - acc: 0.9865 - val_loss: 0.2713 - val_acc: 0.9230\n",
      "Epoch 64/100\n",
      "100/100 [==============================] - 18s 178ms/step - loss: 0.0433 - acc: 0.9850 - val_loss: 0.1873 - val_acc: 0.9370\n",
      "Epoch 65/100\n",
      "100/100 [==============================] - 18s 178ms/step - loss: 0.0341 - acc: 0.9885 - val_loss: 0.2162 - val_acc: 0.9350\n",
      "Epoch 66/100\n",
      "100/100 [==============================] - 18s 178ms/step - loss: 0.0394 - acc: 0.9820 - val_loss: 0.2056 - val_acc: 0.9340\n",
      "Epoch 67/100\n",
      "100/100 [==============================] - 18s 178ms/step - loss: 0.0398 - acc: 0.9835 - val_loss: 0.2523 - val_acc: 0.9380\n",
      "Epoch 68/100\n",
      "100/100 [==============================] - 18s 177ms/step - loss: 0.0354 - acc: 0.9840 - val_loss: 0.3902 - val_acc: 0.9170\n",
      "Epoch 69/100\n",
      "100/100 [==============================] - 18s 177ms/step - loss: 0.0442 - acc: 0.9810 - val_loss: 0.3439 - val_acc: 0.9170\n",
      "Epoch 70/100\n",
      "100/100 [==============================] - 18s 177ms/step - loss: 0.0474 - acc: 0.9830 - val_loss: 0.2008 - val_acc: 0.9350\n",
      "Epoch 71/100\n",
      "100/100 [==============================] - 18s 178ms/step - loss: 0.0388 - acc: 0.9865 - val_loss: 0.2691 - val_acc: 0.9260\n",
      "Epoch 72/100\n",
      "100/100 [==============================] - 18s 179ms/step - loss: 0.0304 - acc: 0.9905 - val_loss: 0.2952 - val_acc: 0.9290\n",
      "Epoch 73/100\n",
      "100/100 [==============================] - 18s 182ms/step - loss: 0.0299 - acc: 0.9890 - val_loss: 0.4483 - val_acc: 0.9150\n",
      "Epoch 74/100\n",
      "100/100 [==============================] - 18s 180ms/step - loss: 0.0360 - acc: 0.9875 - val_loss: 0.2061 - val_acc: 0.9370\n",
      "Epoch 75/100\n",
      "100/100 [==============================] - 18s 180ms/step - loss: 0.0376 - acc: 0.9855 - val_loss: 0.2225 - val_acc: 0.9360\n",
      "Epoch 76/100\n",
      "100/100 [==============================] - 18s 179ms/step - loss: 0.0360 - acc: 0.9850 - val_loss: 0.2102 - val_acc: 0.9350\n",
      "Epoch 77/100\n",
      "100/100 [==============================] - 18s 179ms/step - loss: 0.0300 - acc: 0.9885 - val_loss: 0.2692 - val_acc: 0.9270\n",
      "Epoch 78/100\n",
      "100/100 [==============================] - 18s 180ms/step - loss: 0.0246 - acc: 0.9890 - val_loss: 0.2154 - val_acc: 0.9350\n",
      "Epoch 79/100\n",
      "100/100 [==============================] - 18s 179ms/step - loss: 0.0421 - acc: 0.9875 - val_loss: 0.2135 - val_acc: 0.9360\n",
      "Epoch 80/100\n",
      "100/100 [==============================] - 18s 179ms/step - loss: 0.0345 - acc: 0.9885 - val_loss: 0.2121 - val_acc: 0.9430\n",
      "Epoch 81/100\n",
      "100/100 [==============================] - 18s 179ms/step - loss: 0.0295 - acc: 0.9900 - val_loss: 0.1872 - val_acc: 0.9390\n",
      "Epoch 82/100\n",
      "100/100 [==============================] - 18s 179ms/step - loss: 0.0319 - acc: 0.9875 - val_loss: 0.2017 - val_acc: 0.9410\n",
      "Epoch 83/100\n",
      "100/100 [==============================] - 18s 179ms/step - loss: 0.0323 - acc: 0.9905 - val_loss: 0.2569 - val_acc: 0.9360\n",
      "Epoch 84/100\n",
      "100/100 [==============================] - 18s 179ms/step - loss: 0.0282 - acc: 0.9900 - val_loss: 0.2440 - val_acc: 0.9370\n",
      "Epoch 85/100\n",
      "100/100 [==============================] - 18s 179ms/step - loss: 0.0244 - acc: 0.9930 - val_loss: 0.2796 - val_acc: 0.9290\n",
      "Epoch 86/100\n",
      "100/100 [==============================] - 18s 181ms/step - loss: 0.0241 - acc: 0.9925 - val_loss: 0.3282 - val_acc: 0.9310\n",
      "Epoch 87/100\n",
      "100/100 [==============================] - 18s 180ms/step - loss: 0.0325 - acc: 0.9880 - val_loss: 0.2514 - val_acc: 0.9320\n",
      "Epoch 88/100\n",
      "100/100 [==============================] - 18s 178ms/step - loss: 0.0229 - acc: 0.9940 - val_loss: 0.3191 - val_acc: 0.9280\n",
      "Epoch 89/100\n",
      "100/100 [==============================] - 18s 179ms/step - loss: 0.0400 - acc: 0.9845 - val_loss: 0.2515 - val_acc: 0.9360\n",
      "Epoch 90/100\n",
      "100/100 [==============================] - 18s 179ms/step - loss: 0.0212 - acc: 0.9930 - val_loss: 0.3154 - val_acc: 0.9290\n",
      "Epoch 91/100\n",
      "100/100 [==============================] - 19s 186ms/step - loss: 0.0239 - acc: 0.9910 - val_loss: 0.2615 - val_acc: 0.9300\n",
      "Epoch 92/100\n",
      "100/100 [==============================] - 18s 180ms/step - loss: 0.0176 - acc: 0.9930 - val_loss: 0.2287 - val_acc: 0.9370\n",
      "Epoch 93/100\n",
      "100/100 [==============================] - 18s 179ms/step - loss: 0.0386 - acc: 0.9855 - val_loss: 0.2292 - val_acc: 0.9390\n",
      "Epoch 94/100\n",
      "100/100 [==============================] - 18s 180ms/step - loss: 0.0200 - acc: 0.9920 - val_loss: 0.2176 - val_acc: 0.9410\n",
      "Epoch 95/100\n",
      "100/100 [==============================] - 18s 179ms/step - loss: 0.0230 - acc: 0.9920 - val_loss: 0.2719 - val_acc: 0.9370\n",
      "Epoch 96/100\n",
      "100/100 [==============================] - 18s 180ms/step - loss: 0.0258 - acc: 0.9915 - val_loss: 0.2955 - val_acc: 0.9310\n",
      "Epoch 97/100\n",
      "100/100 [==============================] - 18s 179ms/step - loss: 0.0290 - acc: 0.9935 - val_loss: 0.3235 - val_acc: 0.9320\n",
      "Epoch 98/100\n",
      "100/100 [==============================] - 18s 179ms/step - loss: 0.0250 - acc: 0.9885 - val_loss: 0.2464 - val_acc: 0.9410\n",
      "Epoch 99/100\n",
      "100/100 [==============================] - 18s 180ms/step - loss: 0.0221 - acc: 0.9905 - val_loss: 0.2732 - val_acc: 0.9310\n",
      "Epoch 100/100\n",
      "100/100 [==============================] - 18s 179ms/step - loss: 0.0185 - acc: 0.9935 - val_loss: 0.2444 - val_acc: 0.9390\n"
     ]
    }
   ],
   "source": [
    "model.compile(loss='binary_crossentropy', \n",
    "              optimizer=optimizers.RMSprop(lr=1e-5), \n",
    "              metrics=['acc']) \n",
    " \n",
    "history = model.fit_generator( \n",
    "      train_generator, \n",
    "      steps_per_epoch=100, \n",
    "      epochs=100, \n",
    "      validation_data=validation_generator, \n",
    "      validation_steps=50)"
   ]
  },
  {
   "cell_type": "code",
   "execution_count": 9,
   "metadata": {},
   "outputs": [],
   "source": [
    "model.save('cats_and_dogs_small_data_finetune.h5')"
   ]
  },
  {
   "cell_type": "markdown",
   "metadata": {},
   "source": [
    "### 平均精度和损失值的曲线\n",
    "\n",
    "通过绘制以上的损失值和精度曲线可以看出其图像并不是很平滑，需要进一步的处理。为了让图像更具可读性，可以将每个损失和精度都替换为指数移动平均值，从而让曲线变得平滑。\n",
    "\n",
    "验证精度曲线变得更清楚。可以看到，精度值提高了 3%，从约 90% 提高到 93% 以上。\n"
   ]
  },
  {
   "cell_type": "code",
   "execution_count": 11,
   "metadata": {},
   "outputs": [
    {
     "data": {
      "image/png": "[encoded data removed]",
      "text/plain": [
       "<Figure size 432x288 with 1 Axes>"
      ]
     },
     "metadata": {
      "needs_background": "light"
     },
     "output_type": "display_data"
    },
    {
     "data": {
      "image/png": "[encoded data removed]",
      "text/plain": [
       "<Figure size 432x288 with 1 Axes>"
      ]
     },
     "metadata": {
      "needs_background": "light"
     },
     "output_type": "display_data"
    }
   ],
   "source": [
    "# 　绘制训练过程中的损失曲线和精度曲线\n",
    "import matplotlib.pyplot as plt\n",
    "\n",
    "acc = history.history['acc']\n",
    "val_acc = history.history['val_acc']\n",
    "loss = history.history['loss']\n",
    "val_loss = history.history['val_loss']\n",
    "\n",
    "epochs = range(1,len(acc) +1)\n",
    "\n",
    "plt.plot(epochs,acc,'bo',label='Training acc')\n",
    "plt.plot(epochs,val_acc,'b',label='validation acc')\n",
    "plt.title('train and validation acc')\n",
    "plt.legend()\n",
    "\n",
    "plt.figure()\n",
    "\n",
    "plt.plot(epochs,loss,'bo',label='Training loss')\n",
    "plt.plot(epochs,val_loss,'b',label='val_loss acc')\n",
    "plt.title('train and validation loss')\n",
    "plt.legend()\n",
    "\n",
    "plt.show()"
   ]
  },
  {
   "cell_type": "code",
   "execution_count": 12,
   "metadata": {},
   "outputs": [
    {
     "data": {
      "image/png": "[encoded data removed]",
      "text/plain": [
       "<Figure size 432x288 with 1 Axes>"
      ]
     },
     "metadata": {
      "needs_background": "light"
     },
     "output_type": "display_data"
    },
    {
     "data": {
      "image/png": "[encoded data removed]",
      "text/plain": [
       "<Figure size 432x288 with 1 Axes>"
      ]
     },
     "metadata": {
      "needs_background": "light"
     },
     "output_type": "display_data"
    }
   ],
   "source": [
    "#使曲线变得平滑\n",
    "def smooth_curve(points,factor=0.8):\n",
    "    smoothed_points = []\n",
    "    \n",
    "    for point in points:\n",
    "        if smoothed_points:\n",
    "            previous = smoothed_points[-1]\n",
    "            smoothed_points.append(previous * factor + point * (1-factor))\n",
    "        else:\n",
    "            smoothed_points.append(point)\n",
    "    return smoothed_points\n",
    "\n",
    "\n",
    "plt.plot(epochs,smooth_curve(acc),'bo',label='Training acc')\n",
    "plt.plot(epochs,smooth_curve(val_acc),'b',label='validation acc')\n",
    "plt.title('train and validation acc')\n",
    "plt.legend()\n",
    "\n",
    "plt.figure()\n",
    "\n",
    "plt.plot(epochs,smooth_curve(loss),'bo',label='Training loss')\n",
    "plt.plot(epochs,smooth_curve(val_loss),'b',label='val_loss acc')\n",
    "plt.title('train and validation loss')\n",
    "plt.legend()\n",
    "\n",
    "plt.show()\n"
   ]
  },
  {
   "cell_type": "code",
   "execution_count": 13,
   "metadata": {},
   "outputs": [
    {
     "name": "stdout",
     "output_type": "stream",
     "text": [
      "Found 1000 images belonging to 2 classes.\n",
      "test acc: 0.9359999907016754\n"
     ]
    }
   ],
   "source": [
    "# 测试模型\n",
    "test_generator = test_datagen.flow_from_directory( \n",
    "        test_dir, \n",
    "        target_size=(150, 150), \n",
    "        batch_size=20, \n",
    "        class_mode='binary') \n",
    " \n",
    "test_loss, test_acc = model.evaluate_generator(test_generator, steps=50) \n",
    "print('test acc:', test_acc)\n"
   ]
  }
 ],
 "metadata": {
  "kernelspec": {
   "display_name": "Python 3",
   "language": "python",
   "name": "python3"
  },
  "language_info": {
   "codemirror_mode": {
    "name": "ipython",
    "version": 3
   },
   "file_extension": ".py",
   "mimetype": "text/x-python",
   "name": "python",
   "nbconvert_exporter": "python",
   "pygments_lexer": "ipython3",
   "version": "3.6.8"
  }
 },
 "nbformat": 4,
 "nbformat_minor": 2
}
