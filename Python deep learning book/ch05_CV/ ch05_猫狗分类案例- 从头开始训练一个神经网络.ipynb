{
 "cells": [
  {
   "cell_type": "markdown",
   "metadata": {},
   "source": [
    "## 在小型数据集上从头开始训练一个卷积神经网络\n",
    "\n",
    "### 小型数据集的模型构建的策略\n",
    "小型数据集：“很少的”样本可能是几百张图像，也可能是几万张图像。  \n",
    "接下来的示例中，主要用来猫狗分类：4000张图片（2000猫，2000狗）\n",
    "- 训练数据为：2000\n",
    "- 验证数据：1000\n",
    "- 测试数据：1000\n",
    "\n",
    "对于小型数据集的基本策略如下：\n",
    "- 据从头开始训练一个新模型，不做任何正则化，为模型目标设定一个基准，这里大概为71的精度\n",
    "- 介绍数据增强（data augmentation）：网络精度将提高到 82%\n",
    "- 用预训练的网络做特征提取：（得到的精度范围在 90%~96%）\n",
    "- 对预训练的网络进行微调：（最终精度为 97%）\n",
    "\n",
    "\n",
    "### 深度学习与小数据问题的相关性\n",
    "\n",
    "所谓“大量”样本是相对的，即相对于你所要训练网络的大小和深度而言。  \n",
    "由于卷积神经网络学到的是局部的、平移不变的特征，它对于感知问题可以高效地利用数据。\n",
    "\n",
    "深度学习模型本质上具有高度的可复用性，比如，已有一个在大规模数据集上训练的图像分类模型或语音转文本模型，你只需做很小的修改就能将其复用于完全不同的问题。\n",
    "\n",
    "### 从kaggle下载数据\n",
    "\n",
    "[数据地址](https://www.kaggle.com/c/dogs-vs-cats/data)\n",
    "但是这里需要我们先注册一个kaggle账号。具体的步骤可以参考如下这个博客,\n",
    "\n",
    "这是我下载的数据:\n",
    "![kaggle数据](imgs/06.jpg)\n",
    "![训练数据](imgs/07.jpg)\n"
   ]
  },
  {
   "cell_type": "code",
   "execution_count": 5,
   "metadata": {},
   "outputs": [],
   "source": [
    "import os,shutil\n",
    "\n",
    "original_data_dir = \"G:/Data/Kaggle/dogcat/train\"\n",
    "base_dir = \"G:/Data/Kaggle/dogcat/smallData\"\n",
    "if os.path.isdir(base_dir) == False:\n",
    "    os.mkdir(base_dir)\n",
    "\n",
    "# 创建三个文件夹用来存放不同的数据:train,validation,test\n",
    "train_dir = os.path.join(base_dir,'train')\n",
    "if os.path.isdir(train_dir) == False:\n",
    "    os.mkdir(train_dir)\n",
    "validation_dir = os.path.join(base_dir,'validation')\n",
    "if os.path.isdir(validation_dir) == False:\n",
    "    os.mkdir(validation_dir)\n",
    "test_dir = os.path.join(base_dir,'test')\n",
    "if os.path.isdir(test_dir) == False:\n",
    "    os.mkdir(test_dir)\n",
    "    \n",
    "# 在文件中:train,validation,test分别创建cats,dogs文件夹用来存放对应的数据\n",
    "train_cats_dir = os.path.join(train_dir,'cats')\n",
    "if os.path.isdir(train_cats_dir) == False:\n",
    "    os.mkdir(train_cats_dir)\n",
    "train_dogs_dir = os.path.join(train_dir,'dogs')\n",
    "if os.path.isdir(train_dogs_dir) == False:\n",
    "    os.mkdir(train_dogs_dir)\n",
    "\n",
    "validation_cats_dir = os.path.join(validation_dir,'cats')\n",
    "if os.path.isdir(validation_cats_dir) == False:\n",
    "    os.mkdir(validation_cats_dir)\n",
    "validation_dogs_dir = os.path.join(validation_dir,'dogs')\n",
    "if os.path.isdir(validation_dogs_dir) == False:\n",
    "    os.mkdir(validation_dogs_dir)\n",
    "    \n",
    "test_cats_dir = os.path.join(test_dir,'cats')\n",
    "if os.path.isdir(test_cats_dir) == False:\n",
    "    os.mkdir(test_cats_dir)\n",
    "test_dogs_dir = os.path.join(test_dir,'dogs')\n",
    "if os.path.isdir(test_dogs_dir) == False:\n",
    "    os.mkdir(test_dogs_dir)\n",
    "\n",
    "\n",
    "#将原始数据拷贝到对应的文件夹中 cat\n",
    "fnames = ['cat.{}.jpg'.format(i) for i in range(1000)]\n",
    "for fname in fnames:\n",
    "    src = os.path.join(original_data_dir,fname)\n",
    "    dst = os.path.join(train_cats_dir,fname)\n",
    "    shutil.copyfile(src,dst)\n",
    "    \n",
    "fnames = ['cat.{}.jpg'.format(i) for i in range(1000,1500)]\n",
    "for fname in fnames:\n",
    "    src = os.path.join(original_data_dir,fname)\n",
    "    dst = os.path.join(validation_cats_dir,fname)\n",
    "    shutil.copyfile(src,dst)\n",
    "    \n",
    "fnames = ['cat.{}.jpg'.format(i) for i in range(1500,2000)]\n",
    "for fname in fnames:\n",
    "    src = os.path.join(original_data_dir,fname)\n",
    "    dst = os.path.join(test_cats_dir,fname)\n",
    "    shutil.copyfile(src,dst)\n",
    "    \n",
    "    \n",
    "#将原始数据拷贝到对应的文件夹中 dog\n",
    "fnames = ['dog.{}.jpg'.format(i) for i in range(1000)]\n",
    "for fname in fnames:\n",
    "    src = os.path.join(original_data_dir,fname)\n",
    "    dst = os.path.join(train_dogs_dir,fname)\n",
    "    shutil.copyfile(src,dst)\n",
    "    \n",
    "fnames = ['dog.{}.jpg'.format(i) for i in range(1000,1500)]\n",
    "for fname in fnames:\n",
    "    src = os.path.join(original_data_dir,fname)\n",
    "    dst = os.path.join(validation_dogs_dir,fname)\n",
    "    shutil.copyfile(src,dst)\n",
    "    \n",
    "fnames = ['dog.{}.jpg'.format(i) for i in range(1500,2000)]\n",
    "for fname in fnames:\n",
    "    src = os.path.join(original_data_dir,fname)\n",
    "    dst = os.path.join(test_dogs_dir,fname)\n",
    "    shutil.copyfile(src,dst)\n"
   ]
  },
  {
   "cell_type": "code",
   "execution_count": 2,
   "metadata": {},
   "outputs": [
    {
     "name": "stdout",
     "output_type": "stream",
     "text": [
      "train cat images: 1000\n",
      "train dog images: 1000\n",
      "validation cat images: 500\n",
      "validation dog images: 500\n",
      "test cat images: 500\n",
      "test dog images: 500\n"
     ]
    }
   ],
   "source": [
    "print('train cat images:', len(os.listdir(train_cats_dir)))\n",
    "print('train dog images:', len(os.listdir(train_dogs_dir)))\n",
    "print('validation cat images:', len(os.listdir(validation_cats_dir)))\n",
    "print('validation dog images:', len(os.listdir(validation_dogs_dir)))\n",
    "print('test cat images:', len(os.listdir(test_cats_dir)))\n",
    "print('test dog images:', len(os.listdir(test_dogs_dir)))"
   ]
  },
  {
   "cell_type": "markdown",
   "metadata": {},
   "source": [
    "### 搭建网络模型\n",
    "\n",
    "模型的搭建流程基本上都是 Conv2D+MaxPooling2D 的组合，要根据数据的大小可能需要更深的网络，以及最后的激活函数的选择。本实例中，初始的输入尺寸为150x150，最后计算在Flatten层之前的特征图大小为7x7.\n",
    "\n",
    "这里可以参照VGG模型的套路:\n",
    "- 特征图的深度在逐渐增大\n",
    "- 增大可以按照2倍的方向增大:16,32,64,128..."
   ]
  },
  {
   "cell_type": "code",
   "execution_count": 6,
   "metadata": {},
   "outputs": [
    {
     "name": "stderr",
     "output_type": "stream",
     "text": [
      "Using TensorFlow backend.\n"
     ]
    },
    {
     "name": "stdout",
     "output_type": "stream",
     "text": [
      "WARNING:tensorflow:From D:\\Anaconda3\\envs\\tfgpu\\lib\\site-packages\\tensorflow\\python\\framework\\op_def_library.py:263: colocate_with (from tensorflow.python.framework.ops) is deprecated and will be removed in a future version.\n",
      "Instructions for updating:\n",
      "Colocations handled automatically by placer.\n"
     ]
    }
   ],
   "source": [
    "from keras import models\n",
    "from keras import layers\n",
    "\n",
    "model = models.Sequential()\n",
    "model.add(layers.Conv2D(32,(3,3),activation='relu',input_shape=(150,150,3)))\n",
    "model.add(layers.MaxPool2D(2,2))\n",
    "model.add(layers.Conv2D(64,(3,3),activation='relu'))\n",
    "model.add(layers.MaxPool2D(2,2))\n",
    "model.add(layers.Conv2D(128,(3,3),activation='relu'))\n",
    "model.add(layers.MaxPool2D(2,2))\n",
    "model.add(layers.Conv2D(128,(3,3),activation='relu'))\n",
    "model.add(layers.MaxPool2D(2,2))\n",
    "model.add(layers.Flatten())\n",
    "model.add(layers.Dense(512,activation = 'relu'))\n",
    "model.add(layers.Dense(1,activation=\"sigmoid\"))\n"
   ]
  },
  {
   "cell_type": "code",
   "execution_count": 7,
   "metadata": {},
   "outputs": [
    {
     "name": "stdout",
     "output_type": "stream",
     "text": [
      "_________________________________________________________________\n",
      "Layer (type)                 Output Shape              Param #   \n",
      "=================================================================\n",
      "conv2d_1 (Conv2D)            (None, 148, 148, 32)      896       \n",
      "_________________________________________________________________\n",
      "max_pooling2d_1 (MaxPooling2 (None, 74, 74, 32)        0         \n",
      "_________________________________________________________________\n",
      "conv2d_2 (Conv2D)            (None, 72, 72, 64)        18496     \n",
      "_________________________________________________________________\n",
      "max_pooling2d_2 (MaxPooling2 (None, 36, 36, 64)        0         \n",
      "_________________________________________________________________\n",
      "conv2d_3 (Conv2D)            (None, 34, 34, 128)       73856     \n",
      "_________________________________________________________________\n",
      "max_pooling2d_3 (MaxPooling2 (None, 17, 17, 128)       0         \n",
      "_________________________________________________________________\n",
      "conv2d_4 (Conv2D)            (None, 15, 15, 128)       147584    \n",
      "_________________________________________________________________\n",
      "max_pooling2d_4 (MaxPooling2 (None, 7, 7, 128)         0         \n",
      "_________________________________________________________________\n",
      "flatten_1 (Flatten)          (None, 6272)              0         \n",
      "_________________________________________________________________\n",
      "dense_1 (Dense)              (None, 512)               3211776   \n",
      "_________________________________________________________________\n",
      "dense_2 (Dense)              (None, 1)                 513       \n",
      "=================================================================\n",
      "Total params: 3,453,121\n",
      "Trainable params: 3,453,121\n",
      "Non-trainable params: 0\n",
      "_________________________________________________________________\n"
     ]
    }
   ],
   "source": [
    "model.summary()"
   ]
  },
  {
   "cell_type": "code",
   "execution_count": 8,
   "metadata": {},
   "outputs": [],
   "source": [
    "# 选择优化器\n",
    "from keras import optimizers\n",
    "\n",
    "model.compile(loss= 'binary_crossentropy',\n",
    "             optimizer=optimizers.RMSprop(lr=1e-4),\n",
    "              metrics=['acc'])"
   ]
  },
  {
   "cell_type": "markdown",
   "metadata": {},
   "source": [
    "### 数据预处理\n",
    "\n",
    "根据之前的学习知道,在数据输入网络之前要将数据预处理成浮点张量数据,这里是JPGE文件,具体的处理流程如下:\n",
    "- 读取图像文件\n",
    "- 将JPGE文件读取成RGB像素点数据\n",
    "- 将像素数据转化成浮点张量数据\n",
    "- 将数值的范围缩放到[0,1]区间\n",
    "\n",
    "在keras中利用 `keras.preprocessing.image`模块,自动批量转换.：它生成了 150×150 的 RGB 图像［形状为 (20, 150, 150, 3)］与二进制标签［形状为 (20,)］组成的批量。每个批量中包含 20 个样本（批量大小）。\n",
    "\n",
    "我们让模型对数据进行拟合。我们将使用 fit_generator 方法来拟合,使用 fit_generator 时，你可以传入一个 validation_data 参数，其作用和在 fit 方法中类似。"
   ]
  },
  {
   "cell_type": "code",
   "execution_count": 9,
   "metadata": {},
   "outputs": [
    {
     "name": "stdout",
     "output_type": "stream",
     "text": [
      "Found 2000 images belonging to 2 classes.\n",
      "Found 1000 images belonging to 2 classes.\n"
     ]
    }
   ],
   "source": [
    "from keras.preprocessing.image import ImageDataGenerator\n",
    "\n",
    "train_datagen = ImageDataGenerator(rescale=1./255)\n",
    "test_datagen = ImageDataGenerator(rescale=1./255)\n",
    "\n",
    "# 它生成了 150×150 的 RGB 图像\n",
    "#［形状为 (20, 150, 150, 3)］\n",
    "#与二进制标签［形状为 (20,)］组成的批量\n",
    "\n",
    "train_generator = train_datagen.flow_from_directory(\n",
    "    train_dir,\n",
    "    target_size=(150,150),\n",
    "    batch_size=20,\n",
    "    class_mode='binary'\n",
    ")\n",
    "\n",
    "validation_generator = test_datagen.flow_from_directory(\n",
    "    validation_dir,\n",
    "    target_size=(150,150),\n",
    "    batch_size=20,\n",
    "    class_mode='binary'\n",
    ")\n",
    "\n"
   ]
  },
  {
   "cell_type": "code",
   "execution_count": 11,
   "metadata": {},
   "outputs": [
    {
     "name": "stdout",
     "output_type": "stream",
     "text": [
      "Epoch 1/30\n",
      "100/100 [==============================] - 9s 86ms/step - loss: 0.6330 - acc: 0.6365 - val_loss: 0.6518 - val_acc: 0.6260\n",
      "Epoch 2/30\n",
      "100/100 [==============================] - 8s 80ms/step - loss: 0.5888 - acc: 0.6875 - val_loss: 0.6220 - val_acc: 0.6260\n",
      "Epoch 3/30\n",
      "100/100 [==============================] - 8s 78ms/step - loss: 0.5538 - acc: 0.7145 - val_loss: 0.5992 - val_acc: 0.6780\n",
      "Epoch 4/30\n",
      "100/100 [==============================] - 8s 78ms/step - loss: 0.5421 - acc: 0.7140 - val_loss: 0.5736 - val_acc: 0.6930\n",
      "Epoch 5/30\n",
      "100/100 [==============================] - 8s 78ms/step - loss: 0.4963 - acc: 0.7550 - val_loss: 0.5752 - val_acc: 0.6920\n",
      "Epoch 6/30\n",
      "100/100 [==============================] - 8s 78ms/step - loss: 0.4793 - acc: 0.7710 - val_loss: 0.5600 - val_acc: 0.6850: 0.4792 - acc: 0.\n",
      "Epoch 7/30\n",
      "100/100 [==============================] - 8s 80ms/step - loss: 0.4715 - acc: 0.7660 - val_loss: 0.5627 - val_acc: 0.7040\n",
      "Epoch 8/30\n",
      "100/100 [==============================] - 8s 79ms/step - loss: 0.4328 - acc: 0.7935 - val_loss: 0.5571 - val_acc: 0.7120\n",
      "Epoch 9/30\n",
      "100/100 [==============================] - 8s 78ms/step - loss: 0.4001 - acc: 0.8225 - val_loss: 0.5854 - val_acc: 0.7000\n",
      "Epoch 10/30\n",
      "100/100 [==============================] - 8s 79ms/step - loss: 0.3855 - acc: 0.8265 - val_loss: 0.5942 - val_acc: 0.7120\n",
      "Epoch 11/30\n",
      "100/100 [==============================] - 8s 77ms/step - loss: 0.3547 - acc: 0.8470 - val_loss: 0.6039 - val_acc: 0.7220\n",
      "Epoch 12/30\n",
      "100/100 [==============================] - 8s 77ms/step - loss: 0.3405 - acc: 0.8580 - val_loss: 0.5822 - val_acc: 0.7210\n",
      "Epoch 13/30\n",
      "100/100 [==============================] - 8s 76ms/step - loss: 0.3125 - acc: 0.8695 - val_loss: 0.5619 - val_acc: 0.7160\n",
      "Epoch 14/30\n",
      "100/100 [==============================] - 8s 78ms/step - loss: 0.2810 - acc: 0.8910 - val_loss: 0.5894 - val_acc: 0.7160\n",
      "Epoch 15/30\n",
      "100/100 [==============================] - 8s 78ms/step - loss: 0.2569 - acc: 0.8960 - val_loss: 0.6113 - val_acc: 0.7180\n",
      "Epoch 16/30\n",
      "100/100 [==============================] - 8s 77ms/step - loss: 0.2424 - acc: 0.9060 - val_loss: 0.6777 - val_acc: 0.7130\n",
      "Epoch 17/30\n",
      "100/100 [==============================] - 8s 80ms/step - loss: 0.2361 - acc: 0.9080 - val_loss: 0.5977 - val_acc: 0.7220\n",
      "Epoch 18/30\n",
      "100/100 [==============================] - 8s 78ms/step - loss: 0.2101 - acc: 0.9205 - val_loss: 0.7349 - val_acc: 0.7040\n",
      "Epoch 19/30\n",
      "100/100 [==============================] - 8s 78ms/step - loss: 0.1846 - acc: 0.9335 - val_loss: 0.6471 - val_acc: 0.7500\n",
      "Epoch 20/30\n",
      "100/100 [==============================] - 8s 78ms/step - loss: 0.1794 - acc: 0.9345 - val_loss: 0.7059 - val_acc: 0.7390\n",
      "Epoch 21/30\n",
      "100/100 [==============================] - 8s 76ms/step - loss: 0.1522 - acc: 0.9450 - val_loss: 0.7074 - val_acc: 0.7380\n",
      "Epoch 22/30\n",
      "100/100 [==============================] - 8s 75ms/step - loss: 0.1365 - acc: 0.9530 - val_loss: 0.8572 - val_acc: 0.6920\n",
      "Epoch 23/30\n",
      "100/100 [==============================] - 8s 76ms/step - loss: 0.1182 - acc: 0.9610 - val_loss: 0.7461 - val_acc: 0.7110\n",
      "Epoch 24/30\n",
      "100/100 [==============================] - 8s 76ms/step - loss: 0.1111 - acc: 0.9630 - val_loss: 0.7395 - val_acc: 0.7250\n",
      "Epoch 25/30\n",
      "100/100 [==============================] - 8s 76ms/step - loss: 0.0931 - acc: 0.9750 - val_loss: 0.7149 - val_acc: 0.7450\n",
      "Epoch 26/30\n",
      "100/100 [==============================] - 8s 76ms/step - loss: 0.0786 - acc: 0.9755 - val_loss: 0.7801 - val_acc: 0.7490\n",
      "Epoch 27/30\n",
      "100/100 [==============================] - 8s 76ms/step - loss: 0.0692 - acc: 0.9805 - val_loss: 0.9161 - val_acc: 0.7150\n",
      "Epoch 28/30\n",
      "100/100 [==============================] - 8s 75ms/step - loss: 0.0612 - acc: 0.9845 - val_loss: 0.7696 - val_acc: 0.7410\n",
      "Epoch 29/30\n",
      "100/100 [==============================] - 7s 75ms/step - loss: 0.0507 - acc: 0.9855 - val_loss: 0.9712 - val_acc: 0.7240\n",
      "Epoch 30/30\n",
      "100/100 [==============================] - 8s 76ms/step - loss: 0.0510 - acc: 0.9840 - val_loss: 0.8840 - val_acc: 0.7400\n"
     ]
    }
   ],
   "source": [
    "# 利用批量生成器拟合模型\n",
    "\n",
    "#  steps_per_epoch 参数的作用：从生成器中抽取 \n",
    "# steps_per_epoch 个批量后拟合过程\n",
    "# 每个批量包含 20 个样本，所以读取完所有 2000 个样本需要 100个批量\n",
    "\n",
    "# validation_steps:需要从验证生成器中抽取多少个批次用于评估\n",
    "\n",
    "将进入下一个轮次\n",
    "history = model.fit_generator( \n",
    "      train_generator, \n",
    "      steps_per_epoch=100, \n",
    "      epochs=30, \n",
    "      validation_data=validation_generator, \n",
    "      validation_steps=50)"
   ]
  },
  {
   "cell_type": "code",
   "execution_count": 12,
   "metadata": {},
   "outputs": [],
   "source": [
    "#保存模型\n",
    "model.save('cats_and_dogs_small_data_1.h5')"
   ]
  },
  {
   "cell_type": "markdown",
   "metadata": {},
   "source": [
    "### 结果比较\n",
    "从这些图像中都能看出过拟合的特征。训练精度随着时间线性增加，直到接近 100%，而验证精度则停留在 70%~72%。验证损失仅在 5 轮后就达到最小值，然后保持不变，而训练损失则一直线性下降，直到接近于 0"
   ]
  },
  {
   "cell_type": "code",
   "execution_count": 15,
   "metadata": {},
   "outputs": [
    {
     "data": {
      "image/png": "[encoded data removed]",
      "text/plain": [
       "<Figure size 432x288 with 1 Axes>"
      ]
     },
     "metadata": {
      "needs_background": "light"
     },
     "output_type": "display_data"
    },
    {
     "data": {
      "image/png": "[encoded data removed]",
      "text/plain": [
       "<Figure size 432x288 with 1 Axes>"
      ]
     },
     "metadata": {
      "needs_background": "light"
     },
     "output_type": "display_data"
    }
   ],
   "source": [
    "# 　绘制训练过程中的损失曲线和精度曲线\n",
    "import matplotlib.pyplot as plt\n",
    "\n",
    "acc = history.history['acc']\n",
    "val_acc = history.history['val_acc']\n",
    "loss = history.history['loss']\n",
    "val_loss = history.history['val_loss']\n",
    "\n",
    "epochs = range(1,len(acc) +1)\n",
    "\n",
    "plt.plot(epochs,acc,'bo',label='Training acc')\n",
    "plt.plot(epochs,val_acc,'b',label='validation acc')\n",
    "plt.title('train and validation acc')\n",
    "plt.legend()\n",
    "\n",
    "plt.figure()\n",
    "\n",
    "plt.plot(epochs,loss,'bo',label='Training loss')\n",
    "plt.plot(epochs,val_loss,'b',label='val_loss acc')\n",
    "plt.title('train and validation loss')\n",
    "plt.legend()\n",
    "\n",
    "plt.show()\n",
    "\n"
   ]
  }
 ],
 "metadata": {
  "kernelspec": {
   "display_name": "Python 3",
   "language": "python",
   "name": "python3"
  },
  "language_info": {
   "codemirror_mode": {
    "name": "ipython",
    "version": 3
   },
   "file_extension": ".py",
   "mimetype": "text/x-python",
   "name": "python",
   "nbconvert_exporter": "python",
   "pygments_lexer": "ipython3",
   "version": "3.6.8"
  },
  "toc": {
   "base_numbering": 1,
   "nav_menu": {},
   "number_sections": true,
   "sideBar": true,
   "skip_h1_title": false,
   "title_cell": "Table of Contents",
   "title_sidebar": "Contents",
   "toc_cell": false,
   "toc_position": {},
   "toc_section_display": true,
   "toc_window_display": false
  }
 },
 "nbformat": 4,
 "nbformat_minor": 2
}
