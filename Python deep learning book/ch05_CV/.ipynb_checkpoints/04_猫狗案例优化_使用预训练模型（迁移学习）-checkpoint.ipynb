{
 "cells": [
  {
   "cell_type": "markdown",
   "metadata": {},
   "source": [
    "### 选择预训练模型\n",
    "\n",
    "将深度学习应用于小型图像数据集，一种常用且非常高效的方法是使用预训练网络。  \n",
    "**预训练网络（pretrained network）**是一个保存好的网络，之前已在大型数据集（通常是大规模图\n",
    "像分类任务）上训练好。这个方法也叫**迁移学习**。\n",
    "\n",
    "- 预训练的模型学到的特征的空间层次结构可以有效地作为视觉世界的通用模型\n",
    "- 较低层学到的结构都是一些点线等低层次的特征，\n",
    "\n",
    "这里使用的预训练的模型的数据是 ImageNet 数据集（140 万张标记图像，1000 个不同的类别），为了降低理解的难度使用VGG16架构来获取预训练的模型。它是一种简单而又广泛使用的卷积神经网络架构。其实还有很多架构例如：\n",
    "- VGG\n",
    "- ResNet\n",
    "- Inception\n",
    "- Inception-ResNet\n",
    "- Xception\n",
    "\n",
    "\n",
    "\n",
    "### 预训练模型的特征提取\n",
    "\n",
    "特征提取是使用之前网络学到的表示来从新样本中提取出有用的特征。然后将这些特征输入一个新的分类器，从头开始训练。\n",
    "\n",
    "#### 卷积基\n",
    "\n",
    "对于分类的卷积神经网络基本包含两个主要组成：\n",
    "- 一系列池化层和卷积层 **卷积基**\n",
    "- 一个密集连接分类器\n",
    "\n",
    "特征提取就是取出之前训练好的网络的卷积基，在上面运行新数据，然后在输出上面训练一个新的分类器\n",
    "具体如下图:\n",
    "\n",
    "![卷积基](imgs/10.jpg)\n",
    "\n",
    "#### 卷积基复用性\n",
    "\n",
    "- 卷积基学到的表示可能更加通用，因此更适合重复使用\n",
    "- 特征图表示通用概念在图像中是否存在\n",
    "- 特征图表示输入图像中的位置信息\n",
    "\n",
    "使用预训练模型的时候需要注意：\n",
    "- 低层学到的结构都是一些点线等低层次的特征（比如视觉边缘、颜色和纹理）\n",
    "- 靠近顶部的层提取的是更加抽象的概念（猫的眼睛，狗的鼻子）\n",
    "\n",
    "**如果新的数据集与预训练的数据集差异很大，那么最好只使用前几层来做特征提取**\n",
    "\n",
    "\n",
    "#### keras内置的模型\n",
    "keras.applications 中的一部分图像分类模型,都是在 ImageNet 数据集上预训练得到：\n",
    "\n",
    "- VGG16\n",
    "- VGG19\n",
    "- ResNet50\n",
    "- Inception V3\n",
    "- MobileNet\n",
    "\n",
    "具体的使用如下函数,参数如下 \n",
    "\n",
    "- `weights:` 指定模型初始化的权重检查点\n",
    "- `include_top:`指定模型最后是否包含密集连接分类器,\n",
    "- `input_shape`: 是输入到网络中的图像张量的形状\n"
   ]
  },
  {
   "cell_type": "code",
   "execution_count": 5,
   "metadata": {},
   "outputs": [],
   "source": [
    "from keras.applications import VGG16\n",
    "\n",
    "conv_base = VGG16(weights = 'imagenet',\n",
    "               include_top = False,\n",
    "               input_shape=(150,150,3))"
   ]
  },
  {
   "cell_type": "code",
   "execution_count": 4,
   "metadata": {},
   "outputs": [
    {
     "name": "stdout",
     "output_type": "stream",
     "text": [
      "_________________________________________________________________\n",
      "Layer (type)                 Output Shape              Param #   \n",
      "=================================================================\n",
      "input_1 (InputLayer)         (None, 150, 150, 3)       0         \n",
      "_________________________________________________________________\n",
      "block1_conv1 (Conv2D)        (None, 150, 150, 64)      1792      \n",
      "_________________________________________________________________\n",
      "block1_conv2 (Conv2D)        (None, 150, 150, 64)      36928     \n",
      "_________________________________________________________________\n",
      "block1_pool (MaxPooling2D)   (None, 75, 75, 64)        0         \n",
      "_________________________________________________________________\n",
      "block2_conv1 (Conv2D)        (None, 75, 75, 128)       73856     \n",
      "_________________________________________________________________\n",
      "block2_conv2 (Conv2D)        (None, 75, 75, 128)       147584    \n",
      "_________________________________________________________________\n",
      "block2_pool (MaxPooling2D)   (None, 37, 37, 128)       0         \n",
      "_________________________________________________________________\n",
      "block3_conv1 (Conv2D)        (None, 37, 37, 256)       295168    \n",
      "_________________________________________________________________\n",
      "block3_conv2 (Conv2D)        (None, 37, 37, 256)       590080    \n",
      "_________________________________________________________________\n",
      "block3_conv3 (Conv2D)        (None, 37, 37, 256)       590080    \n",
      "_________________________________________________________________\n",
      "block3_pool (MaxPooling2D)   (None, 18, 18, 256)       0         \n",
      "_________________________________________________________________\n",
      "block4_conv1 (Conv2D)        (None, 18, 18, 512)       1180160   \n",
      "_________________________________________________________________\n",
      "block4_conv2 (Conv2D)        (None, 18, 18, 512)       2359808   \n",
      "_________________________________________________________________\n",
      "block4_conv3 (Conv2D)        (None, 18, 18, 512)       2359808   \n",
      "_________________________________________________________________\n",
      "block4_pool (MaxPooling2D)   (None, 9, 9, 512)         0         \n",
      "_________________________________________________________________\n",
      "block5_conv1 (Conv2D)        (None, 9, 9, 512)         2359808   \n",
      "_________________________________________________________________\n",
      "block5_conv2 (Conv2D)        (None, 9, 9, 512)         2359808   \n",
      "_________________________________________________________________\n",
      "block5_conv3 (Conv2D)        (None, 9, 9, 512)         2359808   \n",
      "_________________________________________________________________\n",
      "block5_pool (MaxPooling2D)   (None, 4, 4, 512)         0         \n",
      "=================================================================\n",
      "Total params: 14,714,688\n",
      "Trainable params: 14,714,688\n",
      "Non-trainable params: 0\n",
      "_________________________________________________________________\n"
     ]
    }
   ],
   "source": [
    "conv_base.summary()"
   ]
  },
  {
   "cell_type": "markdown",
   "metadata": {},
   "source": [
    "VGG16的模型架构非常的常见，如上面所示。最后的特征图的反馈的是(4,4,512).目前有两种方式来使用VGG16的卷积基。\n",
    "- 独立使用卷积基：就是先将输入数据再卷积基上运行一次，然后将结果作为输入，再放到独立的Dense网络中计算训练一个dense 网络。\n",
    "    - 速度快，计算代价低，因为每个输入图像只需运行一次卷积基\n",
    "    - 但是无法做数据扩增，容易过拟合\n",
    "    - 对于电脑配置不高的可以使用该方法\n",
    "    \n",
    "- 将卷积基放到整个模型中，直接使用数据输入端到端的运行整个模型\n",
    "    - 计算量大，需要电脑的配置较高，一定要有GPU的加持\n",
    "    - 可以使用数据增强来训练模型，\n",
    "    \n",
    "### 独立使用卷积基的快速特征提取\n",
    "\n",
    "- 利用conv_base  predict 方法从模型中的使用预训练的卷积基提取特征\n",
    "- 提取的特征形状为，并将将其展平成密集连接分类器的数据\n",
    "- 定义自己的密集连接分类器\n",
    "\n",
    "从图中可以看到验证精度达到了约 90%，比上一节从头开始训练的小型模型效果要好得多。但从图中也可以看出，虽然 dropout 比率相当大，但模型几乎从一开始就过拟合。\n"
   ]
  },
  {
   "cell_type": "code",
   "execution_count": 6,
   "metadata": {},
   "outputs": [
    {
     "name": "stdout",
     "output_type": "stream",
     "text": [
      "Found 2000 images belonging to 2 classes.\n",
      "Found 1000 images belonging to 2 classes.\n",
      "Found 1000 images belonging to 2 classes.\n"
     ]
    }
   ],
   "source": [
    "import os\n",
    "import numpy as np\n",
    "from keras.preprocessing.image import ImageDataGenerator\n",
    "\n",
    "base_dir = \"G:/Data/Kaggle/dogcat/smallData\"\n",
    "train_dir = os.path.join(base_dir,'train')\n",
    "validation_dir = os.path.join(base_dir,'validation')\n",
    "test_dir = os.path.join(base_dir,'test')\n",
    "\n",
    "datagen = ImageDataGenerator(rescale=1./255)\n",
    "batch_size = 20\n",
    "\n",
    "def extract_features(directory,sample_count):\n",
    "    features = np.zeros(shape=(sample_count,4,4,512))\n",
    "    labels = np.zeros(shape=(sample_count))\n",
    "    generator = datagen.flow_from_directory(\n",
    "        directory,\n",
    "        target_size=(150,150),\n",
    "        batch_size=batch_size,\n",
    "        class_mode='binary')\n",
    "    \n",
    "    i = 0\n",
    "    for inputs_batch,labels_batch in generator:\n",
    "        features_batch = conv_base.predict(inputs_batch)\n",
    "        features[i * batch_size: (i+1) * batch_size] = features_batch\n",
    "        labels[i * batch_size : (i+1) * batch_size] = labels_batch\n",
    "        i += 1\n",
    "        if i * batch_size >= sample_count:\n",
    "            break\n",
    "    return features,labels\n",
    "\n",
    "train_features,train_labels = extract_features(train_dir,2000)\n",
    "validation_features,validation_labels = extract_features(validation_dir,1000)\n",
    "test_features,test_labels = extract_features(test_dir,1000)\n",
    "\n"
   ]
  },
  {
   "cell_type": "code",
   "execution_count": 13,
   "metadata": {},
   "outputs": [
    {
     "name": "stdout",
     "output_type": "stream",
     "text": [
      "(1000, 8192)\n"
     ]
    }
   ],
   "source": [
    "#其形状展平为 \n",
    "train_features = np.reshape(train_features,(2000,4*4*512))\n",
    "validation_features = np.reshape(validation_features,(1000,4*4*512))\n",
    "test_features = np.reshape(test_features,(1000,4*4*512))\n",
    "\n",
    "print(test_features.shape)"
   ]
  },
  {
   "cell_type": "code",
   "execution_count": 15,
   "metadata": {},
   "outputs": [],
   "source": [
    "# 定义并训练密集连接分类器\n",
    "\n",
    "from keras import models\n",
    "from keras import layers\n",
    "from keras import optimizers\n",
    "\n",
    "model = models.Sequential()\n",
    "model.add(layers.Dense(256,activation='relu',input_dim=4*4*512))\n",
    "model.add(layers.Dropout(0.5))\n",
    "model.add(layers.Dense(1,activation='sigmoid'))\n",
    "\n",
    "model.compile(optimizer=optimizers.RMSprop(lr = 2e-5),\n",
    "             loss='binary_crossentropy',\n",
    "             metrics=['acc'])\n"
   ]
  },
  {
   "cell_type": "code",
   "execution_count": 17,
   "metadata": {},
   "outputs": [
    {
     "name": "stdout",
     "output_type": "stream",
     "text": [
      "WARNING:tensorflow:From D:\\Anaconda3\\envs\\tfgpu\\lib\\site-packages\\tensorflow\\python\\ops\\math_ops.py:3066: to_int32 (from tensorflow.python.ops.math_ops) is deprecated and will be removed in a future version.\n",
      "Instructions for updating:\n",
      "Use tf.cast instead.\n",
      "Train on 2000 samples, validate on 1000 samples\n",
      "Epoch 1/30\n",
      "2000/2000 [==============================] - 2s 764us/step - loss: 0.6043 - acc: 0.6650 - val_loss: 0.4369 - val_acc: 0.8600\n",
      "Epoch 2/30\n",
      "2000/2000 [==============================] - 1s 348us/step - loss: 0.4321 - acc: 0.8055 - val_loss: 0.3604 - val_acc: 0.8730\n",
      "Epoch 3/30\n",
      "2000/2000 [==============================] - 1s 349us/step - loss: 0.3655 - acc: 0.8365 - val_loss: 0.3236 - val_acc: 0.8810\n",
      "Epoch 4/30\n",
      "2000/2000 [==============================] - 1s 353us/step - loss: 0.3300 - acc: 0.8580 - val_loss: 0.2945 - val_acc: 0.8880\n",
      "Epoch 5/30\n",
      "2000/2000 [==============================] - 1s 347us/step - loss: 0.2928 - acc: 0.8780 - val_loss: 0.2853 - val_acc: 0.8890\n",
      "Epoch 6/30\n",
      "2000/2000 [==============================] - 1s 365us/step - loss: 0.2712 - acc: 0.8945 - val_loss: 0.2663 - val_acc: 0.8920\n",
      "Epoch 7/30\n",
      "2000/2000 [==============================] - 1s 353us/step - loss: 0.2539 - acc: 0.8970 - val_loss: 0.2568 - val_acc: 0.8970\n",
      "Epoch 8/30\n",
      "2000/2000 [==============================] - 1s 336us/step - loss: 0.2338 - acc: 0.9060 - val_loss: 0.2525 - val_acc: 0.8950\n",
      "Epoch 9/30\n",
      "2000/2000 [==============================] - 1s 343us/step - loss: 0.2204 - acc: 0.9160 - val_loss: 0.2506 - val_acc: 0.8950\n",
      "Epoch 10/30\n",
      "2000/2000 [==============================] - 1s 364us/step - loss: 0.2086 - acc: 0.9200 - val_loss: 0.2438 - val_acc: 0.8990\n",
      "Epoch 11/30\n",
      "2000/2000 [==============================] - 1s 349us/step - loss: 0.2037 - acc: 0.9175 - val_loss: 0.2387 - val_acc: 0.9040\n",
      "Epoch 12/30\n",
      "2000/2000 [==============================] - 1s 373us/step - loss: 0.1891 - acc: 0.9305 - val_loss: 0.2373 - val_acc: 0.9010\n",
      "Epoch 13/30\n",
      "2000/2000 [==============================] - 1s 349us/step - loss: 0.1832 - acc: 0.9295 - val_loss: 0.2541 - val_acc: 0.8930\n",
      "Epoch 14/30\n",
      "2000/2000 [==============================] - 1s 351us/step - loss: 0.1788 - acc: 0.9410 - val_loss: 0.2328 - val_acc: 0.9010\n",
      "Epoch 15/30\n",
      "2000/2000 [==============================] - 1s 391us/step - loss: 0.1642 - acc: 0.9450 - val_loss: 0.2371 - val_acc: 0.9020\n",
      "Epoch 16/30\n",
      "2000/2000 [==============================] - 1s 341us/step - loss: 0.1567 - acc: 0.9480 - val_loss: 0.2461 - val_acc: 0.9000\n",
      "Epoch 17/30\n",
      "2000/2000 [==============================] - 1s 350us/step - loss: 0.1508 - acc: 0.9490 - val_loss: 0.2427 - val_acc: 0.8970\n",
      "Epoch 18/30\n",
      "2000/2000 [==============================] - 1s 352us/step - loss: 0.1484 - acc: 0.9460 - val_loss: 0.2336 - val_acc: 0.9020\n",
      "Epoch 19/30\n",
      "2000/2000 [==============================] - 1s 388us/step - loss: 0.1414 - acc: 0.9525 - val_loss: 0.2298 - val_acc: 0.9060\n",
      "Epoch 20/30\n",
      "2000/2000 [==============================] - 1s 344us/step - loss: 0.1382 - acc: 0.9540 - val_loss: 0.2284 - val_acc: 0.9030\n",
      "Epoch 21/30\n",
      "2000/2000 [==============================] - 1s 350us/step - loss: 0.1309 - acc: 0.9560 - val_loss: 0.2295 - val_acc: 0.9020\n",
      "Epoch 22/30\n",
      "2000/2000 [==============================] - 1s 370us/step - loss: 0.1225 - acc: 0.9620 - val_loss: 0.2301 - val_acc: 0.9060\n",
      "Epoch 23/30\n",
      "2000/2000 [==============================] - 1s 364us/step - loss: 0.1157 - acc: 0.9605 - val_loss: 0.2279 - val_acc: 0.9060\n",
      "Epoch 24/30\n",
      "2000/2000 [==============================] - 1s 350us/step - loss: 0.1158 - acc: 0.9595 - val_loss: 0.2270 - val_acc: 0.9060\n",
      "Epoch 25/30\n",
      "2000/2000 [==============================] - 1s 349us/step - loss: 0.1097 - acc: 0.9620 - val_loss: 0.2308 - val_acc: 0.9050\n",
      "Epoch 26/30\n",
      "2000/2000 [==============================] - 1s 347us/step - loss: 0.1072 - acc: 0.9640 - val_loss: 0.2336 - val_acc: 0.9030\n",
      "Epoch 27/30\n",
      "2000/2000 [==============================] - 1s 346us/step - loss: 0.1033 - acc: 0.9685 - val_loss: 0.2303 - val_acc: 0.9060\n",
      "Epoch 28/30\n",
      "2000/2000 [==============================] - 1s 364us/step - loss: 0.1042 - acc: 0.9665 - val_loss: 0.2301 - val_acc: 0.9060\n",
      "Epoch 29/30\n",
      "2000/2000 [==============================] - 1s 346us/step - loss: 0.0979 - acc: 0.9690 - val_loss: 0.2497 - val_acc: 0.9010\n",
      "Epoch 30/30\n",
      "2000/2000 [==============================] - 1s 374us/step - loss: 0.0938 - acc: 0.9700 - val_loss: 0.2330 - val_acc: 0.9050\n"
     ]
    }
   ],
   "source": [
    "history = model.fit(train_features, train_labels, \n",
    "                    epochs=30, \n",
    "                    batch_size=20, \n",
    "                    validation_data=(validation_features, validation_labels))"
   ]
  },
  {
   "cell_type": "code",
   "execution_count": 20,
   "metadata": {},
   "outputs": [
    {
     "data": {
      "image/png": "[encoded data removed]",
      "text/plain": [
       "<Figure size 432x288 with 1 Axes>"
      ]
     },
     "metadata": {
      "needs_background": "light"
     },
     "output_type": "display_data"
    },
    {
     "data": {
      "image/png": "[encoded data removed]",
      "text/plain": [
       "<Figure size 432x288 with 1 Axes>"
      ]
     },
     "metadata": {
      "needs_background": "light"
     },
     "output_type": "display_data"
    }
   ],
   "source": [
    "# 　绘制训练过程中的损失曲线和精度曲线\n",
    "import matplotlib.pyplot as plt\n",
    "\n",
    "acc = history.history['acc']\n",
    "val_acc = history.history['val_acc']\n",
    "loss = history.history['loss']\n",
    "val_loss = history.history['val_loss']\n",
    "\n",
    "epochs = range(1,len(acc) +1)\n",
    "\n",
    "plt.plot(epochs,acc,'bo',label='Training acc')\n",
    "plt.plot(epochs,val_acc,'b',label='validation acc')\n",
    "plt.title('train and validation acc')\n",
    "plt.legend()\n",
    "\n",
    "plt.figure()\n",
    "\n",
    "plt.plot(epochs,loss,'bo',label='Training loss')\n",
    "plt.plot(epochs,val_loss,'b',label='val_loss acc')\n",
    "plt.title('train and validation loss')\n",
    "plt.legend()\n",
    "\n",
    "plt.show()"
   ]
  },
  {
   "cell_type": "markdown",
   "metadata": {},
   "source": [
    "###  联合卷积基进行特征提取\n",
    "\n",
    "模型的行为和层类似，所以你可以向 Sequential 模型中添加一个模型,具体模型如下：\n",
    "\n",
    "VGG16 的卷积基有 14 714 688 个参数，非常多。在其上添加的分类器有 200 万个参数.如此多的参数都是预先定义好的\n",
    "所以这里再训练的时候不需要重新再训练一遍：在编译和训练模型之前，一定要“冻结”卷积基。\n",
    "**冻结（freeze）** 一个或多个层是指在训练过程中保持其权重不变。\n",
    "\n"
   ]
  },
  {
   "cell_type": "code",
   "execution_count": 21,
   "metadata": {},
   "outputs": [],
   "source": [
    "#在卷积基上添加一个密集连接分类器\n",
    "from keras import models\n",
    "from keras import layers\n",
    "\n",
    "model = models.Sequential()\n",
    "model.add(conv_base)\n",
    "model.add(layers.Flatten())\n",
    "model.add(layers.Dense(256,activation='relu'))\n",
    "model.add(layers.Dropout(0.5))\n",
    "model.add(layers.Dense(1,activation = 'sigmoid'))\n"
   ]
  },
  {
   "cell_type": "code",
   "execution_count": 22,
   "metadata": {},
   "outputs": [
    {
     "name": "stdout",
     "output_type": "stream",
     "text": [
      "_________________________________________________________________\n",
      "Layer (type)                 Output Shape              Param #   \n",
      "=================================================================\n",
      "vgg16 (Model)                (None, 4, 4, 512)         14714688  \n",
      "_________________________________________________________________\n",
      "flatten_1 (Flatten)          (None, 8192)              0         \n",
      "_________________________________________________________________\n",
      "dense_7 (Dense)              (None, 256)               2097408   \n",
      "_________________________________________________________________\n",
      "dropout_4 (Dropout)          (None, 256)               0         \n",
      "_________________________________________________________________\n",
      "dense_8 (Dense)              (None, 1)                 257       \n",
      "=================================================================\n",
      "Total params: 16,812,353\n",
      "Trainable params: 16,812,353\n",
      "Non-trainable params: 0\n",
      "_________________________________________________________________\n"
     ]
    }
   ],
   "source": [
    "model.summary()"
   ]
  },
  {
   "cell_type": "markdown",
   "metadata": {},
   "source": [
    "#### keras冻结网络层的方法\n",
    "\n",
    "冻结网络的方法是将其 trainable 属性设为 False，如此设置之后，只有添加的两个 Dense 层的权重才会被训练。总共有 4 个权重张量，每层 2 个（主权重矩阵和偏置向量）。\n",
    "*注意，为了让这些修改生效，你必须先编译模型。如果在编译之后修改了权重的 trainable 属性，那么应该重新编译模型，否则这些修改将被忽略。\n"
   ]
  },
  {
   "cell_type": "code",
   "execution_count": 29,
   "metadata": {},
   "outputs": [
    {
     "name": "stdout",
     "output_type": "stream",
     "text": [
      "This is the number of trainable weights before freezing the conv base: 30\n",
      "This is the number of trainable weights after freezing the conv base: 4\n"
     ]
    }
   ],
   "source": [
    "conv_base.trainable = True\n",
    "print('This is the number of trainable weights ' \n",
    "         'before freezing the conv base:', len(model.trainable_weights)) \n",
    "conv_base.trainable = False\n",
    "print('This is the number of trainable weights ' \n",
    "         'after freezing the conv base:', len(model.trainable_weights)) "
   ]
  }
 ],
 "metadata": {
  "kernelspec": {
   "display_name": "Python 3",
   "language": "python",
   "name": "python3"
  },
  "language_info": {
   "codemirror_mode": {
    "name": "ipython",
    "version": 3
   },
   "file_extension": ".py",
   "mimetype": "text/x-python",
   "name": "python",
   "nbconvert_exporter": "python",
   "pygments_lexer": "ipython3",
   "version": "3.6.8"
  }
 },
 "nbformat": 4,
 "nbformat_minor": 2
}
