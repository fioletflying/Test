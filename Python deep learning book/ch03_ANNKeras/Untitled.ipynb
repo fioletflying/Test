{
 "cells": [
  {
   "cell_type": "markdown",
   "metadata": {},
   "source": [
    "## 新闻分类：多分类问题\n",
    "\n",
    "本节任务描述：  \n",
    "将路透社新闻划分为 46 个互斥的主题。因为有多个类别，所以这是多分类（multiclass classification）问题的一个例子。这是**单标签、多分类（single-label, multiclass classification）** 问题的一个例子。如果每个数据点可以划分到多个类别（主题），那它就是一个多标签、多分类（multilabel, \n",
    "multiclass classification）问题。\n",
    "\n",
    "### 下载数据集\n",
    "它包括 46 个不同的主题：某些主题的样本更多，但训练集中每个主题都有至少 10 个样本。，参数 num_words=10000 将数据限定为前 10 000 个最常出现的单词\n"
   ]
  },
  {
   "cell_type": "code",
   "execution_count": 5,
   "metadata": {},
   "outputs": [],
   "source": [
    "## 下载数据集\n",
    "from keras.datasets import reuters\n",
    "\n",
    "(train_data,train_labels),\\\n",
    "(test_data,test_labels)\\\n",
    "=reuters.load_data(path='reuters.npz',num_words=10000)\n",
    "\n"
   ]
  },
  {
   "cell_type": "code",
   "execution_count": 7,
   "metadata": {},
   "outputs": [
    {
     "name": "stdout",
     "output_type": "stream",
     "text": [
      "8982\n",
      "2246\n"
     ]
    }
   ],
   "source": [
    "print(len(train_data))\n",
    "print(len(test_data))"
   ]
  }
 ],
 "metadata": {
  "kernelspec": {
   "display_name": "Python 3",
   "language": "python",
   "name": "python3"
  },
  "toc": {
   "base_numbering": 1,
   "nav_menu": {},
   "number_sections": true,
   "sideBar": true,
   "skip_h1_title": false,
   "title_cell": "Table of Contents",
   "title_sidebar": "Contents",
   "toc_cell": false,
   "toc_position": {},
   "toc_section_display": true,
   "toc_window_display": false
  }
 },
 "nbformat": 4,
 "nbformat_minor": 2
}
