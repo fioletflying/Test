{
 "cells": [
  {
   "cell_type": "markdown",
   "metadata": {},
   "source": [
    "## 神经网络结构\n",
    "\n",
    "神经网络结构主要包含以下几个方面：\n",
    "\n",
    "**层：** 多个层组合成网络（或模型）  \n",
    "**输入数据和对应的目标：** 训练的数据包含标签数据  \n",
    "**损失函数：** 判断当前模型的质量程度  \n",
    "**优化器：**  用于更新网络的参数\n",
    "\n",
    "多个层链接在一起组成了网络，将输入数据映射为预测值。然后损失函数将这些预测值与目标进行比较，得到损失值，用于衡量网络预测值与预期结果的匹配程度。优化器使用这个损失值来更新网络的权重。\n",
    "\n",
    "![神经网络结构](imgs/01.jpg)\n",
    "\n",
    "\n",
    "### 层：深度学习的基础组件\n",
    "\n",
    "神经网络的基本数据结构是层。层是一个**数据处理模块**，将一个或多个输入张量转换为一个或多个输出张量。  \n",
    "\n",
    "- 无状态的层：比如池化，没有权重参数\n",
    "- 有状态的层：比如dense,Conv2D，有权重参数\n",
    "\n",
    "根据处理的张量数据不同分类：\n",
    "- **全连接层**（fully connected layer）：密集连接层（densely connected layer）/密集层(dense layer):简单的向量数据保存在形状为 (samples, features) 的 2D 张量。对应于 Keras 的 Dense 类\n",
    "- **循环层**（recurrent layer）：序列数据保存在形状为 (samples,  timesteps,  features) 的 3D 张量中， Keras 的 LSTM 层\n",
    "- **卷积层**：图像数据保存在 4D 张量中，Keras 的 Conv2D\n",
    "\n",
    "层兼容性（layer compatibility）具体指的是每一层只接受特定形状的输入张量，并返回特定形状的输出张量。\n",
    "\n"
   ]
  },
  {
   "cell_type": "code",
   "execution_count": null,
   "metadata": {},
   "outputs": [],
   "source": [
    "from keras import models\n",
    "from keras import layers\n",
    "\n",
    "model = models.Sequential()\n",
    "# 只接受特定形状的输入张量\n",
    "model.add(layers.Dense(32,input_shape(784,)))\n",
    "# 模型中添加的层都会自动匹配输入层的形状\n",
    "model.add(layers.Dense(32))\n"
   ]
  },
  {
   "cell_type": "markdown",
   "metadata": {},
   "source": [
    "### 模型：层构成的网络\n",
    "\n",
    "常见的网络：\n",
    "- 双分支（two-branch）网络\n",
    "- 多头（multihead）网络\n",
    "- Inception 模块\n",
    "\n",
    "\n",
    "网络的拓扑结构定义了一个假设空间（hypothesis space）：在预先定义好的可能性空间中，利用反馈信号的指引来寻找输入数据的有用表示。  \n",
    "选定了网络拓扑结构，意味着将可能性空间（假设空间）限定为一系列**特定的张量运算**，将输入数据映射为输出数据。然后，你需要为这些张量运算的权重张量找到一组合适的值。\n",
    "\n",
    "\n",
    "### 损失函数与优化器：配置学习过程的关键\n",
    "\n",
    "- **损失函数**： 在训练过程中需要将其最小化。它能够衡量当前任务是否已成功完成。\n",
    "- **优化器**：决定如何基于损失函数对网络进行更新。它执行的是随机梯度下降（SGD）的某个变体。\n",
    "\n",
    "如果目标函数与成功完成当前任务不完全相关，那么网络最终得到的结果可能会不符合你的预期。对于分类、回归、序列预测等常见问题，你可以遵循一些简单的指导原则来选择正确的损失函数。\n",
    "\n",
    "- 对于二分类问题，你可以使用二元交叉熵（binary crossentropy）损失函数；\n",
    "- 对于多分类问题，可以用分类交叉熵（categorical crossentropy）损失函数；\n",
    "- 对于回归问题，可以用均方误差（mean-squared error）损失函数；\n",
    "- 对于序列学习问题，可以用联结主义时序分类（CTC，connectionist temporal classification）损失函数。\n"
   ]
  },
  {
   "cell_type": "code",
   "execution_count": null,
   "metadata": {},
   "outputs": [],
   "source": []
  }
 ],
 "metadata": {
  "kernelspec": {
   "display_name": "Python 3",
   "language": "python",
   "name": "python3"
  },
  "language_info": {
   "codemirror_mode": {
    "name": "ipython",
    "version": 3
   },
   "file_extension": ".py",
   "mimetype": "text/x-python",
   "name": "python",
   "nbconvert_exporter": "python",
   "pygments_lexer": "ipython3",
   "version": "3.6.8"
  }
 },
 "nbformat": 4,
 "nbformat_minor": 2
}
