{
 "cells": [
  {
   "cell_type": "code",
   "execution_count": 1,
   "metadata": {},
   "outputs": [
    {
     "name": "stderr",
     "output_type": "stream",
     "text": [
      "Using TensorFlow backend.\n"
     ]
    }
   ],
   "source": [
    "from keras.models import Model\n",
    "from keras.layers import Lambda,Activation,Dense,Conv2D,Input,BatchNormalization,MaxPooling2D,Flatten\n",
    "import keras.backend as K\n",
    "import numpy as np"
   ]
  },
  {
   "cell_type": "code",
   "execution_count": 2,
   "metadata": {},
   "outputs": [],
   "source": [
    "input_tensor_1 = Input([32,32,3])\n",
    "input_tensor_2 = Input([4,])\n",
    "input_target = Input([2,])"
   ]
  },
  {
   "cell_type": "code",
   "execution_count": 3,
   "metadata": {},
   "outputs": [],
   "source": [
    "def cus_loss1(y_true,y_pred):\n",
    "    return K.mean(K.abs(y_true - y_pred))\n",
    "\n",
    "def cus_loss2(y_true,y_pred):\n",
    "    return K.mean(K.abs(y_true - y_pred))"
   ]
  },
  {
   "cell_type": "code",
   "execution_count": 4,
   "metadata": {},
   "outputs": [
    {
     "name": "stdout",
     "output_type": "stream",
     "text": [
      "WARNING:tensorflow:From D:\\Anaconda3\\envs\\tfcpu\\lib\\site-packages\\tensorflow\\python\\framework\\op_def_library.py:263: colocate_with (from tensorflow.python.framework.ops) is deprecated and will be removed in a future version.\n",
      "Instructions for updating:\n",
      "Colocations handled automatically by placer.\n"
     ]
    }
   ],
   "source": [
    "#网络结构\n",
    "# 第一组\n",
    "x = BatchNormalization(axis=1)(input_tensor_1)\n",
    "\n",
    "x = Conv2D(filters=32,kernel_size=(3,3),padding='same')(x)\n",
    "x = Activation('relu')(x)\n",
    "x = MaxPooling2D(pool_size=(2,2))(x)\n",
    "\n",
    "x = Conv2D(filters=32,kernel_size=(3,3),padding='same')(x)\n",
    "x = Activation('relu')(x)\n",
    "x = MaxPooling2D(pool_size=(2,2))(x)\n",
    "\n",
    "x=Flatten()(x)\n",
    "x=Dense(units=16)(x)\n",
    "out2 = Dense(units=2)(x)\n",
    "\n",
    "\n",
    "# 第二组\n",
    "y = Dense(units=32)(input_tensor_2)\n",
    "out1 = Dense(units=2)(y)\n",
    "\n",
    "# 第三组\n",
    "z = Dense(units=8)(input_target)\n",
    "out3 = Dense(units=2)(z)\n",
    "\n",
    "\n",
    "#自定义loss\n",
    "loss1 = Lambda(lambda x:cus_loss1(*x),name='loss1')([out2,out1]) # out2-out1 = loss\n",
    "loss2 = Lambda(lambda x:cus_loss2(*x),name='loss2')([out3,out2])"
   ]
  },
  {
   "cell_type": "code",
   "execution_count": 5,
   "metadata": {},
   "outputs": [],
   "source": [
    "#model = Model(inputs=[input_tensor_1,input_tensor_2,input_target],outputs=[out1,out2,out3])\n",
    "\n",
    "model = Model(inputs=[input_tensor_1,input_tensor_2,input_target],outputs=[out1,out2,out3,loss1,loss2])"
   ]
  },
  {
   "cell_type": "code",
   "execution_count": 6,
   "metadata": {},
   "outputs": [],
   "source": [
    "#获取loss，创建loss值\n",
    "loss_layer1 = model.get_layer('loss1').output\n",
    "loss_layer2 = model.get_layer('loss2').output\n",
    "\n",
    "# 向模型中添加loss\n",
    "model.add_loss(loss_layer1)\n",
    "model.add_loss(loss_layer2)"
   ]
  },
  {
   "cell_type": "code",
   "execution_count": 7,
   "metadata": {},
   "outputs": [],
   "source": [
    "#loss + None 表示不需要梯度返回，有多少个out就有多少个none\n",
    "model.compile(optimizer='sgd',loss=[None,None,None,None,None])"
   ]
  },
  {
   "cell_type": "code",
   "execution_count": 20,
   "metadata": {},
   "outputs": [],
   "source": [
    "def data_gen(number):\n",
    "    for i in range(number):\n",
    "        yield [np.random.normal(1,1,size=(1,32,32,3)),\n",
    "               np.random.normal(1,1,size=(1,4)),\n",
    "              np.random.normal(1,1,size=(1,2))],[]\n",
    "                               \n",
    "                               \n",
    "dataset = data_gen(1000)\n",
    "    "
   ]
  },
  {
   "cell_type": "code",
   "execution_count": 32,
   "metadata": {},
   "outputs": [
    {
     "data": {
      "text/plain": [
       "[array([[[ 0.96748074,  1.62591756,  1.85918866],\n",
       "         [-0.23078913,  0.9336379 , -0.1807498 ],\n",
       "         [ 0.90899228,  1.62695903,  0.82880737],\n",
       "         ...,\n",
       "         [ 0.3311553 ,  1.25494759,  0.92462397],\n",
       "         [ 1.85218305,  1.03963725, -0.99561408],\n",
       "         [ 0.95749449,  0.29273096,  1.45851842]],\n",
       " \n",
       "        [[ 0.26756502,  0.82215038,  1.46171536],\n",
       "         [ 1.0006223 ,  0.96684151, -0.13613011],\n",
       "         [ 0.04917444, -0.94709108,  2.20017396],\n",
       "         ...,\n",
       "         [ 1.37476895,  0.13021441,  1.12182977],\n",
       "         [ 1.56017374,  1.36890538,  1.39018349],\n",
       "         [ 0.15802545,  1.44646388,  0.89216951]],\n",
       " \n",
       "        [[ 0.6369584 , -0.3897463 ,  2.01878003],\n",
       "         [ 2.35115683,  0.0454149 ,  0.5687246 ],\n",
       "         [ 1.54437376, -0.30343867,  1.72664443],\n",
       "         ...,\n",
       "         [ 0.03540871,  2.9781393 ,  1.37218957],\n",
       "         [ 0.85727742,  0.96613206,  0.47021767],\n",
       "         [ 0.51650773,  1.64768066,  3.11413702]],\n",
       " \n",
       "        ...,\n",
       " \n",
       "        [[ 1.94018663,  0.47392688,  2.05231392],\n",
       "         [ 1.12383018,  1.50523946,  1.9964239 ],\n",
       "         [ 1.54450334,  2.50430335,  0.6809938 ],\n",
       "         ...,\n",
       "         [ 1.18836928,  1.23580862,  0.39195271],\n",
       "         [ 1.65388711, -1.52485298,  1.12765696],\n",
       "         [-0.01274332,  0.87230638,  1.33154915]],\n",
       " \n",
       "        [[ 1.65085858,  0.04744864,  2.88154339],\n",
       "         [ 0.3462832 ,  0.97307812,  1.36005164],\n",
       "         [ 0.41075028,  0.33767687, -0.22567676],\n",
       "         ...,\n",
       "         [-0.32257831,  2.7738116 ,  0.68555484],\n",
       "         [ 0.83291845,  0.72314206,  0.403074  ],\n",
       "         [-0.07225951,  0.55037107,  2.76480909]],\n",
       " \n",
       "        [[ 1.55556964,  0.4221977 ,  0.57539506],\n",
       "         [-1.11906211,  0.6467978 ,  0.38286517],\n",
       "         [-1.61129694,  0.1398197 ,  1.53408557],\n",
       "         ...,\n",
       "         [ 1.14246828,  1.52225036, -0.23076298],\n",
       "         [ 1.78921148,  0.42646211,  2.33007639],\n",
       "         [ 1.39914816,  0.25003634,  1.52115973]]]),\n",
       " array([[1.99930808, 0.93980909, 2.99419604, 1.76900545]]),\n",
       " array([[0.07117093, 1.64760878]])]"
      ]
     },
     "execution_count": 32,
     "metadata": {},
     "output_type": "execute_result"
    }
   ],
   "source": [
    "#dataset.__next__()"
   ]
  },
  {
   "cell_type": "code",
   "execution_count": 21,
   "metadata": {},
   "outputs": [
    {
     "name": "stdout",
     "output_type": "stream",
     "text": [
      "Epoch 1/10\n",
      "20/20 [==============================] - 1s 36ms/step - loss: 3.1196\n",
      "Epoch 2/10\n",
      "20/20 [==============================] - 0s 3ms/step - loss: 1.1308\n",
      "Epoch 3/10\n",
      "20/20 [==============================] - 0s 3ms/step - loss: 0.6121\n",
      "Epoch 4/10\n",
      "20/20 [==============================] - 0s 3ms/step - loss: 0.3183\n",
      "Epoch 5/10\n",
      "20/20 [==============================] - 0s 3ms/step - loss: 0.2387\n",
      "Epoch 6/10\n",
      "20/20 [==============================] - ETA: 0s - loss: 0.166 - 0s 3ms/step - loss: 0.1610\n",
      "Epoch 7/10\n",
      "20/20 [==============================] - 0s 3ms/step - loss: 0.1865\n",
      "Epoch 8/10\n",
      "20/20 [==============================] - 0s 3ms/step - loss: 0.1575\n",
      "Epoch 9/10\n",
      "20/20 [==============================] - 0s 3ms/step - loss: 0.1470\n",
      "Epoch 10/10\n",
      "20/20 [==============================] - 0s 3ms/step - loss: 0.1279\n"
     ]
    }
   ],
   "source": [
    "#train = model.fit_generator(dat)\n",
    "train = model.fit_generator(dataset,epochs=10,steps_per_epoch=20)"
   ]
  },
  {
   "cell_type": "code",
   "execution_count": 9,
   "metadata": {},
   "outputs": [],
   "source": [
    "from keras.utils.vis_utils import plot_model\n",
    "\n",
    "plot_model(model=model,to_file='model_plain_loss.png',show_shapes= True)"
   ]
  }
 ],
 "metadata": {
  "kernelspec": {
   "display_name": "Python 3",
   "language": "python",
   "name": "python3"
  },
  "language_info": {
   "codemirror_mode": {
    "name": "ipython",
    "version": 3
   },
   "file_extension": ".py",
   "mimetype": "text/x-python",
   "name": "python",
   "nbconvert_exporter": "python",
   "pygments_lexer": "ipython3",
   "version": "3.6.8"
  }
 },
 "nbformat": 4,
 "nbformat_minor": 2
}
