{
 "cells": [
  {
   "cell_type": "code",
   "execution_count": 1,
   "metadata": {},
   "outputs": [],
   "source": [
    "import numpy as np\n",
    "import matplotlib.pyplot as plt\n",
    "import matplotlib.patches as pathces\n",
    "from PIL import Image\n",
    "%matplotlib inline"
   ]
  },
  {
   "cell_type": "code",
   "execution_count": 2,
   "metadata": {},
   "outputs": [],
   "source": [
    "Sample_raw_x = 128\n",
    "Sample_raw_y = 128\n",
    "\n",
    "rpn_stride = 8\n",
    "\n",
    "Feature_size_X = Sample_raw_x/rpn_stride\n",
    "Feature_size_Y = Sample_raw_y/rpn_stride\n",
    "\n",
    "scales = [1,2,4]\n",
    "ratios =[0.5,1,2] "
   ]
  },
  {
   "cell_type": "code",
   "execution_count": 5,
   "metadata": {},
   "outputs": [],
   "source": [
    "def anchor(Feature_size_X,Feature_size_Y,rpn_stride,scales,ratios):\n",
    "    scales,ratios = np.meshgrid(scales,ratios)\n",
    "    scales,ratios = scales.flatten(),ratios.flatten()\n",
    "    \n",
    "    #计算anchor的尺寸\n",
    "    scalesX = scales * np.sqrt(ratios)  #宽度\n",
    "    scalesY = scales / np.sqrt(ratios)  #长度\n",
    "    \n",
    "    # anchor point 映射\n",
    "    shiftX = np.arange(0,Feature_size_X) * rpn_stride\n",
    "    shiftY = np.arange(0,Feature_size_Y) * rpn_stride\n",
    "    \n",
    "    # anchor point 在原图的位置\n",
    "    shiftX,shiftY = np.meshgrid(shiftX,shiftY)\n",
    "    \n",
    "    # 每个anchor点上需要9个框\n",
    "    centerX,anchorX = np.meshgrid(shiftX,scalesX)\n",
    "    centerY,anchorY = np.meshgrid(shiftY,scalesY)\n",
    "    \n",
    "    # stack 各种尺寸，各种比例 对应的各种长度\n",
    "    anchor_center = np.stack([centerY,centerX],axis=2).reshape(-1,2)\n",
    "    anchor_size = np.stack([anchorY,anchorX],axis=2).reshape(-1,2)\n",
    "    \n",
    "    \n",
    "    #左上右下的坐标点输出\n",
    "    boxes = np.concatenate([anchor_center-0.5*anchor_size,anchor_center+0.5*anchor_size],axis=1)\n",
    "    return boxes\n",
    "    "
   ]
  },
  {
   "cell_type": "code",
   "execution_count": 6,
   "metadata": {},
   "outputs": [
    {
     "ename": "NameError",
     "evalue": "name 'scale' is not defined",
     "output_type": "error",
     "traceback": [
      "\u001b[1;31m---------------------------------------------------------------------------\u001b[0m",
      "\u001b[1;31mNameError\u001b[0m                                 Traceback (most recent call last)",
      "\u001b[1;32m<ipython-input-6-d8c6c308a5e7>\u001b[0m in \u001b[0;36m<module>\u001b[1;34m\u001b[0m\n\u001b[1;32m----> 1\u001b[1;33m \u001b[0manchor\u001b[0m \u001b[1;33m=\u001b[0m \u001b[0manchor\u001b[0m\u001b[1;33m(\u001b[0m\u001b[0mFeature_size_X\u001b[0m\u001b[1;33m,\u001b[0m\u001b[0mFeature_size_Y\u001b[0m\u001b[1;33m,\u001b[0m\u001b[0mrpn_stride\u001b[0m\u001b[1;33m,\u001b[0m\u001b[0mscale\u001b[0m\u001b[1;33m,\u001b[0m\u001b[0mratios\u001b[0m\u001b[1;33m)\u001b[0m\u001b[1;33m\u001b[0m\u001b[1;33m\u001b[0m\u001b[0m\n\u001b[0m\u001b[0;32m      2\u001b[0m \u001b[0manchor\u001b[0m\u001b[1;33m.\u001b[0m\u001b[0mshape\u001b[0m\u001b[1;33m\u001b[0m\u001b[1;33m\u001b[0m\u001b[0m\n",
      "\u001b[1;31mNameError\u001b[0m: name 'scale' is not defined"
     ]
    }
   ],
   "source": [
    "anchor = anchor(Feature_size_X,Feature_size_Y,rpn_stride,scale,ratios)\n",
    "anchor.shape"
   ]
  }
 ],
 "metadata": {
  "kernelspec": {
   "display_name": "Python 3",
   "language": "python",
   "name": "python3"
  },
  "language_info": {
   "codemirror_mode": {
    "name": "ipython",
    "version": 3
   },
   "file_extension": ".py",
   "mimetype": "text/x-python",
   "name": "python",
   "nbconvert_exporter": "python",
   "pygments_lexer": "ipython3",
   "version": "3.6.8"
  }
 },
 "nbformat": 4,
 "nbformat_minor": 2
}
