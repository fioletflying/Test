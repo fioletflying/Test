{
 "cells": [
  {
   "cell_type": "code",
   "execution_count": 1,
   "metadata": {},
   "outputs": [],
   "source": [
    "import numpy as np\n",
    "import matplotlib.pyplot as plt\n",
    "import matplotlib.patches as pathces\n",
    "from PIL import Image\n",
    "%matplotlib inline"
   ]
  },
  {
   "cell_type": "code",
   "execution_count": 2,
   "metadata": {},
   "outputs": [],
   "source": [
    "Sample_raw_x = 128\n",
    "Sample_raw_y = 128\n",
    "\n",
    "rpn_stride = 8\n",
    "\n",
    "Feature_size_X = Sample_raw_x/rpn_stride\n",
    "Feature_size_Y = Sample_raw_y/rpn_stride\n",
    "\n",
    "scales = [1,2,4]\n",
    "ratios =[0.5,1,2] "
   ]
  },
  {
   "cell_type": "code",
   "execution_count": 3,
   "metadata": {},
   "outputs": [],
   "source": [
    "def anchor(Feature_size_X,Feature_size_Y,rpn_stride,scale,ratios):\n",
    "    scales,ratios = np.meshgrid(scales,ratios)\n",
    "    scales,ratios = scales.flatten(),ratios.flatten()\n",
    "    \n",
    "    #计算anchor的尺寸\n",
    "    scalesX = scales * np.sqrt(ratios)  #宽度\n",
    "    scalesY = scales / np.sqrt(ratios)  #长度\n",
    "    \n",
    "    # anchor point 映射\n",
    "    shiftX = np.arange(0,Feature_size_X) * rpn_stride\n",
    "    shiftY = np.arange(0,Feature_size_Y) * rpn_stride\n",
    "    \n",
    "    # anchor point 在原图的位置\n",
    "    shiftX,shiftY = np.meshgrid(shiftX,shiftY)\n",
    "    \n",
    "    # 每个anchor点上需要9个框\n",
    "    \n",
    "    "
   ]
  }
 ],
 "metadata": {
  "kernelspec": {
   "display_name": "Python 3",
   "language": "python",
   "name": "python3"
  },
  "language_info": {
   "codemirror_mode": {
    "name": "ipython",
    "version": 3
   },
   "file_extension": ".py",
   "mimetype": "text/x-python",
   "name": "python",
   "nbconvert_exporter": "python",
   "pygments_lexer": "ipython3",
   "version": "3.6.8"
  }
 },
 "nbformat": 4,
 "nbformat_minor": 2
}
