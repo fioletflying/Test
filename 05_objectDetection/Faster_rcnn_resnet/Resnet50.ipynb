{
 "cells": [
  {
   "cell_type": "code",
   "execution_count": 1,
   "metadata": {},
   "outputs": [
    {
     "name": "stderr",
     "output_type": "stream",
     "text": [
      "Using TensorFlow backend.\n"
     ]
    }
   ],
   "source": [
    "import keras.layers as KL\n",
    "from keras.models import Model\n",
    "import keras.backend as K\n",
    "import tensorflow as tf\n",
    "from keras.utils import np_utils\n",
    "from keras.utils.vis_utils import plot_model\n",
    "import numpy as np\n",
    "import os\n",
    "%matplotlib inline"
   ]
  },
  {
   "cell_type": "code",
   "execution_count": 2,
   "metadata": {},
   "outputs": [],
   "source": [
    "from keras.datasets import mnist"
   ]
  },
  {
   "cell_type": "code",
   "execution_count": 4,
   "metadata": {},
   "outputs": [],
   "source": [
    "def buiding_block(filters,block):\n",
    "    \n",
    "    # block1 与 block2 的判断\n",
    "    if block != 0:\n",
    "        stride = 1\n",
    "    else:\n",
    "        stride = 2\n",
    "        \n",
    "    def f(x):\n",
    "        # 主网络\n",
    "        y = KL.Conv2D(filters=filters,kernel_size=(1,1),strides=stride)(x)\n",
    "        y = KL.BatchNormalization(axis=3)(y)\n",
    "        y = KL.Activation('relu')(y)\n",
    "        \n",
    "        y = KL.Conv2D(filters=filters,kernel_size=(3,3),strides=stride,padding='same')(x)\n",
    "        y = KL.BatchNormalization(axis=3)(y)\n",
    "        y = KL.Activation('relu')(y)\n",
    "        \n",
    "        y = KL.Conv2D(filters=filters * 4,kernel_size=(1,1))(y)\n",
    "        y = KL.BatchNormalization(axis=3)(y)\n",
    "        \n",
    "        if block == 0:\n",
    "            shortcut = KL.Conv2D(filters = filters *4,kernel_size=(1,1),strides=stride)(x)\n",
    "            shortcut = KL.BatchNormalization()(shortcut)\n",
    "        else:\n",
    "            shortcut = x\n",
    "            \n",
    "        #主网络和shortcut相加\n",
    "        y=KL.Add()(y,shortcut)\n",
    "        y = KL.Activation('relu')(y)\n",
    "        return y\n",
    "    \n",
    "    return f\n",
    "        \n",
    "            \n",
    "        \n",
    "        "
   ]
  },
  {
   "cell_type": "code",
   "execution_count": 8,
   "metadata": {},
   "outputs": [],
   "source": [
    "def ResNet_Extractor(Xtrain,Ytrain,Xtest,Ytest):\n",
    "    # head stage Top\n",
    "    # customize your top input\n",
    "    input = KL.Input([28,28,1])\n",
    "    x = KL.Conv2D(filters=64,kernel_size=(3,3),padding='same')(input)\n",
    "    x = KL.BatchNormalization(axis=3)(x)\n",
    "    x = KL.Activation('relu')(x)\n",
    "    \n",
    "    # 分配你的stage中的block\n",
    "    \n",
    "    filters = 64\n",
    "    block = [2,3,3]\n",
    "    \n",
    "    for stage,block_num in enumerate(block):\n",
    "        print('--stage--',stage,'---')\n",
    "        for block_id in range(block_num):\n",
    "            print('---block---',block_id,'---')\n",
    "            x = buiding_block(filters=filters,block=block_id)(x)\n",
    "        filters *=2\n",
    "    # x 这里的x就可以是feature map\n",
    "    \n",
    "    # behide stage bottom\n",
    "    x = KL.AveragePooling2D(pool_size=(2,2))(x)\n",
    "    x = KL.Flatten()(x)\n",
    "    x = KL.Dense(units = 10,activation = 'softmax')\n",
    "    \n",
    "    model = Model(input=inputnput,outputs = x)\n",
    "    \n",
    "    model.compile(loss='categorical_crossentropy',\n",
    "                 optimizer='adam',\n",
    "                 metrics = ['accuracy'])\n",
    "    historys = model.fit(\n",
    "                Xtrain,Ytrain,\n",
    "                epochs=6,\n",
    "                batch_size=200,\n",
    "                verbose=1,\n",
    "                validation_data=(Xtest,Ytest)\n",
    "        )\n",
    "    model.save('resnetMnist.h5')\n",
    "    \n",
    "    return model"
   ]
  },
  {
   "cell_type": "code",
   "execution_count": 7,
   "metadata": {},
   "outputs": [
    {
     "name": "stdout",
     "output_type": "stream",
     "text": [
      "--stage-- 0 ---\n",
      "---block--- 0 ---\n",
      "---block--- 1 ---\n",
      "--stage-- 1 ---\n",
      "---block--- 0 ---\n",
      "---block--- 1 ---\n",
      "---block--- 2 ---\n",
      "--stage-- 2 ---\n",
      "---block--- 0 ---\n",
      "---block--- 1 ---\n",
      "---block--- 2 ---\n"
     ]
    }
   ],
   "source": [
    "block = [2,3,3]\n",
    "\n",
    "for stage,block_num in enumerate(block):\n",
    "    print('--stage--',stage,'---')\n",
    "    for block_id in range(block_num):\n",
    "        print('---block---',block_id,'---')"
   ]
  },
  {
   "cell_type": "code",
   "execution_count": 18,
   "metadata": {},
   "outputs": [],
   "source": [
    "def main():\n",
    "    (Xtrain,Ytrain),(Xtest,Ytest) = mnist.load_data()\n",
    "    print(Xtrain.shape)\n",
    "    Xtrain = Xtrain.reshape(-1,28,28,1)\n",
    "    Xtest = Xtest.reshape(-1,28,28,1)\n",
    "    \n",
    "    Xtrain = Xtrain/255.0\n",
    "    Xtest = Xtest/255.0\n",
    "    \n",
    "    Ytrain = np_utils.to_categorical(Ytrain,10)\n",
    "    Ytest = np_utils.to_categorical(Ytest,10)\n",
    "    \n",
    "    print(Xtrain.shape)\n",
    "    #ResNet_Extractor(Xtrain,Ytrain,Xtest,Ytest)\n"
   ]
  }
 ],
 "metadata": {
  "kernelspec": {
   "display_name": "Python 3",
   "language": "python",
   "name": "python3"
  },
  "language_info": {
   "codemirror_mode": {
    "name": "ipython",
    "version": 3
   },
   "file_extension": ".py",
   "mimetype": "text/x-python",
   "name": "python",
   "nbconvert_exporter": "python",
   "pygments_lexer": "ipython3",
   "version": "3.5.3"
  },
  "toc": {
   "base_numbering": 1,
   "nav_menu": {},
   "number_sections": true,
   "sideBar": true,
   "skip_h1_title": false,
   "title_cell": "Table of Contents",
   "title_sidebar": "Contents",
   "toc_cell": false,
   "toc_position": {},
   "toc_section_display": true,
   "toc_window_display": false
  }
 },
 "nbformat": 4,
 "nbformat_minor": 2
}
